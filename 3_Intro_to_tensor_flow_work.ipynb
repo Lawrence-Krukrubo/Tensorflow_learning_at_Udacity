{
  "nbformat": 4,
  "nbformat_minor": 0,
  "metadata": {
    "colab": {
      "name": "3.Intro_to_tensor_flow_work.ipynb",
      "provenance": [],
      "collapsed_sections": [],
      "include_colab_link": true
    },
    "kernelspec": {
      "name": "python3",
      "display_name": "Python 3"
    },
    "accelerator": "GPU"
  },
  "cells": [
    {
      "cell_type": "markdown",
      "metadata": {
        "id": "view-in-github",
        "colab_type": "text"
      },
      "source": [
        "<a href=\"https://colab.research.google.com/github/Lawrence-Krukrubo/Tensorflow_learning_at_Udacity/blob/master/3_Intro_to_tensor_flow_work.ipynb\" target=\"_parent\"><img src=\"https://colab.research.google.com/assets/colab-badge.svg\" alt=\"Open In Colab\"/></a>"
      ]
    },
    {
      "cell_type": "markdown",
      "metadata": {
        "id": "kM82lF0ACbHq",
        "colab_type": "text"
      },
      "source": [
        "<h3>Aim here is to train our first model, which will be able to convert celsius to fahrenheit</h3><br>\n",
        "$F = C * 1.8 + 32$<br>\n",
        "_where $F = Fahrenheit$ and $C = Celsius$_ "
      ]
    },
    {
      "cell_type": "code",
      "metadata": {
        "id": "wB6FbX-_CS39",
        "colab_type": "code",
        "colab": {
          "base_uri": "https://localhost:8080/",
          "height": 34
        },
        "outputId": "3ad88714-9c55-4df5-ab55-ff93016c39d4"
      },
      "source": [
        "# First we import tensorflow and numpy and tell tensorflow only to log error messages\n",
        "\n",
        "import tensorflow as tf\n",
        "tf.logging.set_verbosity(tf.logging.ERROR)\n",
        "import numpy as np\n",
        "import numpy as np\n",
        "import pandas as pd\n",
        "\n",
        "print(tf.__version__)"
      ],
      "execution_count": null,
      "outputs": [
        {
          "output_type": "stream",
          "text": [
            "1.13.1\n"
          ],
          "name": "stdout"
        }
      ]
    },
    {
      "cell_type": "markdown",
      "metadata": {
        "id": "LCp2yUjEH9_G",
        "colab_type": "text"
      },
      "source": [
        "## <font color='red'>The Data Set"
      ]
    },
    {
      "cell_type": "code",
      "metadata": {
        "id": "XcOY9IQRECkQ",
        "colab_type": "code",
        "colab": {
          "base_uri": "https://localhost:8080/",
          "height": 134
        },
        "outputId": "01b08d2b-5924-487a-d547-041d24f8aa98"
      },
      "source": [
        "# ML is all about having the features and labels, and then training the model to be able to map these two.\n",
        "\n",
        "celsius_q = np.array([-40.0, -10.0, 0.0, 8.0, 15.0, 22.0, 38.0])\n",
        "fahrenheit_a = np.array([-40.0, 14.0, 32.0, 46.4, 59.0, 71.6, 100.4])\n",
        "\n",
        "for i, k in enumerate(celsius_q):\n",
        "  print('{} Degrees Celsius, is equal to {} Degrees Fahrenheit'.format(k, fahrenheit_a[i]))\n"
      ],
      "execution_count": null,
      "outputs": [
        {
          "output_type": "stream",
          "text": [
            "-40.0 Degrees Celsius, is equal to -40.0 Degrees Fahrenheit\n",
            "-10.0 Degrees Celsius, is equal to 14.0 Degrees Fahrenheit\n",
            "0.0 Degrees Celsius, is equal to 32.0 Degrees Fahrenheit\n",
            "8.0 Degrees Celsius, is equal to 46.4 Degrees Fahrenheit\n",
            "15.0 Degrees Celsius, is equal to 59.0 Degrees Fahrenheit\n",
            "22.0 Degrees Celsius, is equal to 71.6 Degrees Fahrenheit\n",
            "38.0 Degrees Celsius, is equal to 100.4 Degrees Fahrenheit\n"
          ],
          "name": "stdout"
        }
      ]
    },
    {
      "cell_type": "markdown",
      "metadata": {
        "id": "tMajy7CAHd-N",
        "colab_type": "text"
      },
      "source": [
        "### Some Machine Learning terminology\n",
        "\n",
        " - **Feature** — The input(s) to our model. In this case, a single value — the degrees in Celsius.\n",
        "\n",
        " - **Labels** — The output our model predicts. In this case, a single value — the degrees in Fahrenhet.\n",
        " \n",
        " - **Example** — A pair of inputs/outputs used during training. In our case a pair of values from `celsius_q` and `fahrenhet_a` at a specific index, such as `(22,72)`."
      ]
    },
    {
      "cell_type": "markdown",
      "metadata": {
        "id": "aL_uwfTvIYCL",
        "colab_type": "text"
      },
      "source": [
        "## <font color='red'>The Model<br>\n",
        "  ## Create the model\n",
        "\n",
        "Next create the model. We will use simplest possible model we can, a Dense network. Since the problem is straightforward, this network will require only a single layer, with a single neuron. \n",
        "\n",
        "### Build a layer\n",
        "\n",
        "We'll call the layer `l0` and create it by instantiating `tf.keras.layers.Dense` with the following configuration:\n",
        "\n",
        "*   `input_shape=[1]` — This specifies that the input to this layer is a single value. That is, the shape is a one-dimensional array with one member. Since this is the first (and only) layer, that input shape is the input shape of the entire model. The single value is a floating point number, representing degrees Celcius.\n",
        "\n",
        "*   `units=1` — This specifies the number of neurons in the layer. The number of neurons defines how many internal variables the layer has to try to learn how to solve the problem (more later). Since this is the final layer, it is also the size of the model's output — a single float value representing degrees Fahrenheit. (In a multi-layered network, the size and shape of the later would need to match the `input_shape` of the next layer.)\n"
      ]
    },
    {
      "cell_type": "code",
      "metadata": {
        "id": "-ixgjA01F3X5",
        "colab_type": "code",
        "colab": {
          "base_uri": "https://localhost:8080/",
          "height": 34
        },
        "outputId": "daf199f2-c4c7-4157-b152-32d599d5da54"
      },
      "source": [
        "l0 = tf.keras.layers.Dense(input_shape=[1], units=1)\n",
        "\n",
        "print('Finished Building Layer')"
      ],
      "execution_count": null,
      "outputs": [
        {
          "output_type": "stream",
          "text": [
            "Finished Building Layer\n"
          ],
          "name": "stdout"
        }
      ]
    },
    {
      "cell_type": "markdown",
      "metadata": {
        "id": "wXJDcVtnKYG8",
        "colab_type": "text"
      },
      "source": [
        "### Assemble layers into the model\n",
        "\n",
        "Once layers are defined, they need to be assembled into a model. The Sequential model definition takes a list of layers as argument, specifying the calculation order from the input to the output.\n",
        "\n",
        "This model has just a single layer, l0."
      ]
    },
    {
      "cell_type": "code",
      "metadata": {
        "id": "dYVasZrMKY7I",
        "colab_type": "code",
        "colab": {
          "base_uri": "https://localhost:8080/",
          "height": 34
        },
        "outputId": "9a572037-409a-429a-f4dc-1802bf89d360"
      },
      "source": [
        "model = tf.keras.Sequential([l0])\n",
        "\n",
        "print('Model is Ready')"
      ],
      "execution_count": null,
      "outputs": [
        {
          "output_type": "stream",
          "text": [
            "Model is Ready\n"
          ],
          "name": "stdout"
        }
      ]
    },
    {
      "cell_type": "code",
      "metadata": {
        "id": "sv6tHCGSKnpg",
        "colab_type": "code",
        "colab": {}
      },
      "source": [
        "# The above two processes can also be done in one line like below\n",
        "\n",
        "# model = tf.keras.Sequential(tf.keras.layers.Dense(input_shape=[1], units=1))"
      ],
      "execution_count": null,
      "outputs": []
    },
    {
      "cell_type": "markdown",
      "metadata": {
        "id": "o6NaHFSvLhFp",
        "colab_type": "text"
      },
      "source": [
        "## Compile the model, with loss and optimizer functions\n",
        "\n",
        "Before training, the model has to be compiled. When compiled for training, the model is given:\n",
        "\n",
        "- **Loss function** — A way of measuring how far off predictions are from the desired outcome. (The measured difference is called the \"loss\").\n",
        "\n",
        "- **Optimizer function** — A way of adjusting internal values in order to reduce the loss.\n",
        "\n",
        "\n",
        "These are used during training (`model.fit()`, below) to first calculate the loss at each point, and then improve it. <br>**In fact, the act of calculating the current loss of a model and then improving it is precisely what training is.**\n",
        "\n",
        "During training, the optimizer function is used to calculate adjustments to the model's internal variables. The goal is to adjust the internal variables until the model (which is really a math function) mirrors the actual equation for converting Celsius to Fahrenheit.\n",
        "\n",
        "TensorFlow uses numerical analysis to perform this tuning, and all this complexity is hidden from you so we will not go into the details here. What is useful to know about these parameters are:\n",
        "\n",
        "The loss function ([mean squared error](https://en.wikipedia.org/wiki/Mean_squared_error)) and the optimizer ([Adam](https://machinelearningmastery.com/adam-optimization-algorithm-for-deep-learning/)) used here are standard for simple models like this one, but many others are available. It is not important to know how these specific functions work at this point.\n",
        "\n",
        "One part of the Optimizer you may need to think about when building your own models is the learnign rate (`0.1` in the code below). This is the step size taken when adjusting values in the model. If the value is too small, it will take too many iterations to train the model. Too large, and accuracy goes down. Finding a good value often involves some trial and error, but the range is usually within 0.001 (default), and 0.1\n"
      ]
    },
    {
      "cell_type": "code",
      "metadata": {
        "id": "etrV5UsQLnu5",
        "colab_type": "code",
        "colab": {
          "base_uri": "https://localhost:8080/",
          "height": 34
        },
        "outputId": "fa54156e-ce27-41f8-aa7c-b3a68e8240f4"
      },
      "source": [
        "model.compile(loss='mean_squared_error', optimizer=tf.keras.optimizers.Adam(0.1))\n",
        "\n",
        "print('Model compiled Successfully')"
      ],
      "execution_count": null,
      "outputs": [
        {
          "output_type": "stream",
          "text": [
            "Model compiled Successfully\n"
          ],
          "name": "stdout"
        }
      ]
    },
    {
      "cell_type": "markdown",
      "metadata": {
        "id": "S4fU2ZDxrXke",
        "colab_type": "text"
      },
      "source": [
        "<h3>Train The Model:</h3>\n",
        "\n",
        "\n",
        "Train the model by calling the `fit` method. \n",
        "\n",
        "During training, the model takes in Celsius values, performs a calculation using the current internal variables (called \"weights\") and outputs values which are meant to be the Fahrenheit equivalent. Since the weights are intially set randomly, the output will not be close to the correct value. The difference between the actual output and the desired output is calculated using the loss function, and the optimizer function directs how the weights should be adjusted. \n",
        "\n",
        "**This cycle of calculate, compare, adjust is controlled by the `fit` method.** The first argument is the inputs, the second argument is the desired outputs. The `epochs` argument specifies how many times this cycle should be run, and the `verbose` argument controls how much output the method produces.<br>\n",
        "\n",
        "Since we have 7 pairs or examples here and 500 epochs, this means our model will train a total of 3500 times. Interesting..."
      ]
    },
    {
      "cell_type": "code",
      "metadata": {
        "id": "gsxYXXJBsrbL",
        "colab_type": "code",
        "colab": {
          "base_uri": "https://localhost:8080/",
          "height": 34
        },
        "outputId": "b67d9e72-b8bd-4365-c5c6-ce78c5605915"
      },
      "source": [
        "trained = model.fit(celsius_q, fahrenheit_a, epochs=500, verbose=False)\n",
        "print('Finished Training')"
      ],
      "execution_count": null,
      "outputs": [
        {
          "output_type": "stream",
          "text": [
            "Finished Training\n"
          ],
          "name": "stdout"
        }
      ]
    },
    {
      "cell_type": "markdown",
      "metadata": {
        "id": "AIG6l7IqtMOZ",
        "colab_type": "text"
      },
      "source": [
        "## Display training statistics\n",
        "\n",
        "The `fit` method returns a trained object. We can use this object to plot how the loss of our model goes down after each training epoch. A high loss means that the Fahrenheit degrees the model predicts is far from the corresponding value in `fahrenheit_a`. \n",
        "\n",
        "We'll use [Matplotlib](https://matplotlib.org/) to visualize this (you could use another tool). As you can see, our model improves very quickly at first, and then has a steady, slow improvement until it is very near \"perfect\" towards the end.\n",
        "\n"
      ]
    },
    {
      "cell_type": "code",
      "metadata": {
        "id": "3K17JYmDMFCH",
        "colab_type": "code",
        "colab": {
          "base_uri": "https://localhost:8080/",
          "height": 300
        },
        "outputId": "ad7cb4d7-5a5f-4896-ff27-0605b8c44165"
      },
      "source": [
        "import matplotlib.pyplot as plt\n",
        "plt.xlabel('Epochs Number')\n",
        "plt.ylabel('Loss Magnitude')\n",
        "plt.plot(trained.history['loss'])"
      ],
      "execution_count": null,
      "outputs": [
        {
          "output_type": "execute_result",
          "data": {
            "text/plain": [
              "[<matplotlib.lines.Line2D at 0x7f4de761aa90>]"
            ]
          },
          "metadata": {
            "tags": []
          },
          "execution_count": 8
        },
        {
          "output_type": "display_data",
          "data": {
            "image/png": "[encoded data removed]",
            "text/plain": [
              "<Figure size 432x288 with 1 Axes>"
            ]
          },
          "metadata": {
            "tags": []
          }
        }
      ]
    },
    {
      "cell_type": "code",
      "metadata": {
        "id": "eeHVU7Y3x_44",
        "colab_type": "code",
        "colab": {
          "base_uri": "https://localhost:8080/",
          "height": 343
        },
        "outputId": "7b1a7f90-bb1b-47c6-d7d9-45fec26c27c3"
      },
      "source": [
        "hist_obj = pd.DataFrame(trained.history)\n",
        "hist_obj['Epoch'] = trained.epoch\n",
        "hist_obj.tail(10)"
      ],
      "execution_count": null,
      "outputs": [
        {
          "output_type": "execute_result",
          "data": {
            "text/html": [
              "<div>\n",
              "<style scoped>\n",
              "    .dataframe tbody tr th:only-of-type {\n",
              "        vertical-align: middle;\n",
              "    }\n",
              "\n",
              "    .dataframe tbody tr th {\n",
              "        vertical-align: top;\n",
              "    }\n",
              "\n",
              "    .dataframe thead th {\n",
              "        text-align: right;\n",
              "    }\n",
              "</style>\n",
              "<table border=\"1\" class=\"dataframe\">\n",
              "  <thead>\n",
              "    <tr style=\"text-align: right;\">\n",
              "      <th></th>\n",
              "      <th>loss</th>\n",
              "      <th>Epoch</th>\n",
              "    </tr>\n",
              "  </thead>\n",
              "  <tbody>\n",
              "    <tr>\n",
              "      <th>490</th>\n",
              "      <td>9.424588</td>\n",
              "      <td>490</td>\n",
              "    </tr>\n",
              "    <tr>\n",
              "      <th>491</th>\n",
              "      <td>9.298238</td>\n",
              "      <td>491</td>\n",
              "    </tr>\n",
              "    <tr>\n",
              "      <th>492</th>\n",
              "      <td>9.173413</td>\n",
              "      <td>492</td>\n",
              "    </tr>\n",
              "    <tr>\n",
              "      <th>493</th>\n",
              "      <td>9.050100</td>\n",
              "      <td>493</td>\n",
              "    </tr>\n",
              "    <tr>\n",
              "      <th>494</th>\n",
              "      <td>8.928301</td>\n",
              "      <td>494</td>\n",
              "    </tr>\n",
              "    <tr>\n",
              "      <th>495</th>\n",
              "      <td>8.807976</td>\n",
              "      <td>495</td>\n",
              "    </tr>\n",
              "    <tr>\n",
              "      <th>496</th>\n",
              "      <td>8.689118</td>\n",
              "      <td>496</td>\n",
              "    </tr>\n",
              "    <tr>\n",
              "      <th>497</th>\n",
              "      <td>8.571695</td>\n",
              "      <td>497</td>\n",
              "    </tr>\n",
              "    <tr>\n",
              "      <th>498</th>\n",
              "      <td>8.455717</td>\n",
              "      <td>498</td>\n",
              "    </tr>\n",
              "    <tr>\n",
              "      <th>499</th>\n",
              "      <td>8.341162</td>\n",
              "      <td>499</td>\n",
              "    </tr>\n",
              "  </tbody>\n",
              "</table>\n",
              "</div>"
            ],
            "text/plain": [
              "         loss  Epoch\n",
              "490  9.424588    490\n",
              "491  9.298238    491\n",
              "492  9.173413    492\n",
              "493  9.050100    493\n",
              "494  8.928301    494\n",
              "495  8.807976    495\n",
              "496  8.689118    496\n",
              "497  8.571695    497\n",
              "498  8.455717    498\n",
              "499  8.341162    499"
            ]
          },
          "metadata": {
            "tags": []
          },
          "execution_count": 19
        }
      ]
    },
    {
      "cell_type": "markdown",
      "metadata": {
        "id": "zmQTeTaJxe0O",
        "colab_type": "text"
      },
      "source": [
        "## Use the model to predict values\n",
        "\n",
        "Now you have a model that has been trained to learn the relationshop between `celsius_q` and `fahrenheit_a`. You can use the predict method to have it calculate the Fahrenheit degrees for a previously unknown Celsius degrees. \n",
        "\n",
        "So, for example, if the Celsius value is 200, what do you think the Fahrenheit result will be? Take a guess before you run this code."
      ]
    },
    {
      "cell_type": "code",
      "metadata": {
        "id": "_8PNhMcQuHD6",
        "colab_type": "code",
        "colab": {
          "base_uri": "https://localhost:8080/",
          "height": 218
        },
        "outputId": "008a393b-ef88-4fdc-988b-ed96e93fffed"
      },
      "source": [
        "def test_model(model):\n",
        "  MSE = []\n",
        "  for x in range(100, 1100, 100):\n",
        "    y_hat = model.predict([x]).astype(float)\n",
        "    y_hat = y_hat[0]\n",
        "    y = x * 1.8 + 32\n",
        "    error_squ = (y_hat - y)**2\n",
        "    MSE.append(error_squ)\n",
        "    print('Degree Celsius is {}, Degree Fahrenheit is {}, Model predicted {}, Diff_Squared is {}'.format(x, y, y_hat, error_squ ))\n",
        "  MSE = sum(MSE) / len(MSE)\n",
        "  print('Total MSE is {}'.format(MSE))\n",
        "  \n",
        "\n",
        "print(test_model(model))"
      ],
      "execution_count": null,
      "outputs": [
        {
          "output_type": "stream",
          "text": [
            "Degree Celsius is 100, Degree Fahrenheit is 212.0, Model predicted [211.57168579], Diff_Squared is [0.18345306]\n",
            "Degree Celsius is 200, Degree Fahrenheit is 392.0, Model predicted [394.07052612], Diff_Squared is [4.28707843]\n",
            "Degree Celsius is 300, Degree Fahrenheit is 572.0, Model predicted [576.56933594], Diff_Squared is [20.87883091]\n",
            "Degree Celsius is 400, Degree Fahrenheit is 752.0, Model predicted [759.06817627], Diff_Squared is [49.95911578]\n",
            "Degree Celsius is 500, Degree Fahrenheit is 932.0, Model predicted [941.5670166], Diff_Squared is [91.52780665]\n",
            "Degree Celsius is 600, Degree Fahrenheit is 1112.0, Model predicted [1124.06591797], Diff_Squared is [145.58637643]\n",
            "Degree Celsius is 700, Degree Fahrenheit is 1292.0, Model predicted [1306.56469727], Diff_Squared is [212.13040644]\n",
            "Degree Celsius is 800, Degree Fahrenheit is 1472.0, Model predicted [1489.06359863], Diff_Squared is [291.1663983]\n",
            "Degree Celsius is 900, Degree Fahrenheit is 1652.0, Model predicted [1671.56237793], Diff_Squared is [382.68663026]\n",
            "Degree Celsius is 1000, Degree Fahrenheit is 1832.0, Model predicted [1854.0612793], Diff_Squared is [486.70004421]\n",
            "Total MSE is [168.51061405]\n",
            "None\n"
          ],
          "name": "stdout"
        }
      ]
    },
    {
      "cell_type": "markdown",
      "metadata": {
        "id": "3YC-n-fD63F3",
        "colab_type": "text"
      },
      "source": [
        "### To review\n",
        "\n",
        "\n",
        "*   We created a model with a Dense layer\n",
        "*   We trained it with 3500 examples (7 pairs, over 500 epochs).\n",
        "\n",
        "Our model tuned the variables (weights) in the Dense layer until it was able to return the correct Fahrenheit value for any Celsius value. (Remember, 100 Celsius was not part of our training data.)\n",
        "\n",
        "\n",
        "\n",
        "## Looking at the layer weights\n",
        "\n",
        "Finally, let's print the internal variables of the Dense layer. "
      ]
    },
    {
      "cell_type": "code",
      "metadata": {
        "id": "-ymwQ8bR6iia",
        "colab_type": "code",
        "colab": {
          "base_uri": "https://localhost:8080/",
          "height": 34
        },
        "outputId": "94cb0b93-6ed4-4219-9d1b-316c52107917"
      },
      "source": [
        "layer_weights = l0.get_weights()\n",
        "\n",
        "print('These are the layer variables, {}.'.format(layer_weights))"
      ],
      "execution_count": null,
      "outputs": [
        {
          "output_type": "stream",
          "text": [
            "These are the layer variables, [array([[1.8249884]], dtype=float32), array([29.072844], dtype=float32)].\n"
          ],
          "name": "stdout"
        }
      ]
    },
    {
      "cell_type": "markdown",
      "metadata": {
        "id": "xUf1sX3L8EhG",
        "colab_type": "text"
      },
      "source": [
        "The first variable is close to ~1.8 and the second to ~32, even though our model got 28.9. These values (1.8 and 32) are the actual variables in the real conversion formula.\n",
        "\n",
        "This is really close to the values in the conversion formula. We'll explain this in an upcoming video where we show how a Dense layer works, but for a single neuron with a single input and a single output, the internal math looks the same as [the equation for a line](https://en.wikipedia.org/wiki/Linear_equation#Slope%E2%80%93intercept_form), $y = mx + b$, which has the same form as the conversion equation, $f = 1.8c + 32$.\n",
        "\n",
        "Since the form is the same, the variables should converge on the standard values of 1.8 and 32, which is exactly what happened.\n",
        "\n",
        "With additional neurons, additional inputs, and additional outputs, the formula becomes much more complex, but the idea is the same. \n",
        "\n",
        "Thus $f = y^^ and 1.8 = coefficient  and c= independent variable or feature and 32 = intercept$\n"
      ]
    },
    {
      "cell_type": "code",
      "metadata": {
        "id": "4G7KLgM88FQN",
        "colab_type": "code",
        "colab": {}
      },
      "source": [
        ""
      ],
      "execution_count": null,
      "outputs": []
    },
    {
      "cell_type": "markdown",
      "metadata": {
        "id": "DfelUgBI9zQH",
        "colab_type": "text"
      },
      "source": [
        "### A little experiment\n",
        "\n",
        "Just for fun, what if we created more Dense layers with different units, which therefore also has more variables?"
      ]
    },
    {
      "cell_type": "code",
      "metadata": {
        "id": "K407XGZP90Ob",
        "colab_type": "code",
        "colab": {}
      },
      "source": [
        "# Let's create 3 distinct layers for a new model\n",
        "\n",
        "l0 = tf.keras.layers.Dense(units=4, input_shape=[1])  \n",
        "l1 = tf.keras.layers.Dense(units=4)  \n",
        "l2 = tf.keras.layers.Dense(units=1)  "
      ],
      "execution_count": null,
      "outputs": []
    },
    {
      "cell_type": "code",
      "metadata": {
        "id": "aRFRWji8-OWW",
        "colab_type": "code",
        "colab": {
          "base_uri": "https://localhost:8080/",
          "height": 252
        },
        "outputId": "09feddff-036b-4e1f-c1e9-df57eaa8a376"
      },
      "source": [
        "model_2 = tf.keras.Sequential([l0, l1, l2])\n",
        "model_2.compile(loss='mean_squared_error', optimizer=tf.keras.optimizers.Adam(0.1))\n",
        "model_2.fit(celsius_q, fahrenheit_a, epochs=500, verbose=False)\n",
        "print(\"Finished training the model\")\n",
        "print(model_2.predict([100.0]))\n",
        "print(\"Model predicts that 100 degrees Celsius is: {} degrees Fahrenheit\".format(model_2.predict([100.0])))\n",
        "print(\"These are the l0 variables: {}\".format(l0.get_weights()))\n",
        "print(\"These are the l1 variables: {}\".format(l1.get_weights()))\n",
        "print(\"These are the l2 variables: {}\".format(l2.get_weights()))"
      ],
      "execution_count": null,
      "outputs": [
        {
          "output_type": "stream",
          "text": [
            "Finished training the model\n",
            "[[212.]]\n",
            "Model predicts that 100 degrees Celsius is: [[212.]] degrees Fahrenheit\n",
            "These are the l0 variables: [array([[ 0.04263935,  0.03121117,  0.14745662, -0.8372352 ]],\n",
            "      dtype=float32), array([ 3.5667548,  3.7507272,  1.6116315, -3.4869468], dtype=float32)]\n",
            "These are the l1 variables: [array([[ 1.175798  , -0.34887686,  0.9903716 , -0.66882604],\n",
            "       [ 0.01528834,  0.94169295,  1.0330516 , -1.3310477 ],\n",
            "       [-1.1628541 , -0.6689328 ,  0.5307276 ,  0.22039618],\n",
            "       [ 0.05929526,  0.19314711, -1.4581889 , -0.09309089]],\n",
            "      dtype=float32), array([ 0.5754883,  1.3560505,  3.7275972, -2.8126225], dtype=float32)]\n",
            "These are the l2 variables: [array([[-4.5324415e-02],\n",
            "       [-3.7824412e-04],\n",
            "       [ 1.3235353e+00],\n",
            "       [-6.3898998e-01]], dtype=float32), array([3.4489613], dtype=float32)]\n"
          ],
          "name": "stdout"
        }
      ]
    },
    {
      "cell_type": "markdown",
      "metadata": {
        "id": "9c130YVl-1bW",
        "colab_type": "text"
      },
      "source": [
        "As you can see, this model is also able to predict the corresponding Fahrenheit value really well. But when you look at the variables (weights) in the `l0` and `l1` layers, they are nothing even close to ~1.8 and ~32. The added complexity hides the \"simple\" form of the conversion equation.\n",
        "\n",
        "Stay tuned for the upcoming video on how Dense layers work for the explanation."
      ]
    },
    {
      "cell_type": "code",
      "metadata": {
        "id": "9BzYdR6wATFV",
        "colab_type": "code",
        "colab": {
          "base_uri": "https://localhost:8080/",
          "height": 218
        },
        "outputId": "338dc3ab-5237-44ec-f134-a41534b67966"
      },
      "source": [
        "# Let's also test model_2 with the same data as model\n",
        "\n",
        "print(test_model(model_2))"
      ],
      "execution_count": null,
      "outputs": [
        {
          "output_type": "stream",
          "text": [
            "Degree Celsius is 100, Degree Fahrenheit is 212.0, Model predicted [212.], Diff_Squared is [0.]\n",
            "Degree Celsius is 200, Degree Fahrenheit is 392.0, Model predicted [392.], Diff_Squared is [0.]\n",
            "Degree Celsius is 300, Degree Fahrenheit is 572.0, Model predicted [572.00006104], Diff_Squared is [3.7252903e-09]\n",
            "Degree Celsius is 400, Degree Fahrenheit is 752.0, Model predicted [751.99987793], Diff_Squared is [1.49011612e-08]\n",
            "Degree Celsius is 500, Degree Fahrenheit is 932.0, Model predicted [932.], Diff_Squared is [0.]\n",
            "Degree Celsius is 600, Degree Fahrenheit is 1112.0, Model predicted [1112.], Diff_Squared is [0.]\n",
            "Degree Celsius is 700, Degree Fahrenheit is 1292.0, Model predicted [1292.], Diff_Squared is [0.]\n",
            "Degree Celsius is 800, Degree Fahrenheit is 1472.0, Model predicted [1471.99987793], Diff_Squared is [1.49011612e-08]\n",
            "Degree Celsius is 900, Degree Fahrenheit is 1652.0, Model predicted [1652.], Diff_Squared is [0.]\n",
            "Degree Celsius is 1000, Degree Fahrenheit is 1832.0, Model predicted [1832.], Diff_Squared is [0.]\n",
            "Total MSE is [3.35276127e-09]\n",
            "None\n"
          ],
          "name": "stdout"
        }
      ]
    },
    {
      "cell_type": "markdown",
      "metadata": {
        "id": "pUsDJl8QA_uf",
        "colab_type": "text"
      },
      "source": [
        "<h4><font color='brown'>Mean while with this new model of 3 layers, the performance is amazing as MSE has gone down from 279.2 to a mere 1.4 !! amazing stuff</font></h4>"
      ]
    },
    {
      "cell_type": "markdown",
      "metadata": {
        "id": "g9n6yHZnbPwm",
        "colab_type": "text"
      },
      "source": [
        "<h3>By now you should know what the following terms are:</h3>\n",
        "\n",
        "<font color='magenta'>**Feature:** </font>The input(s) to our model<br>\n",
        "<font color='magenta'>**Examples:**</font> An input/output pair used for training<br>\n",
        "<font color='magenta'>**Labels:**</font> The output of the model<br>\n",
        "<font color='magenta'>**Layer:**</font> A collection of nodes connected together within a neural network.<br>\n",
        "<font color='magenta'>**Model:**</font> The representation of your neural network<br>\n",
        "<font color='magenta'>**Dense and Fully Connected (FC):**</font> Each node in one layer is connected to each node in the previous layer.<br>\n",
        "<font color='magenta'>**Weights and biases:** </font>The internal variables of model<br>\n",
        "<font color='magenta'>**Loss:**</font> The discrepancy between the desired output and the actual output<br>\n",
        "<font color='magenta'>**MSE:**</font> Mean squared error, a type of loss function that counts a small number of large discrepancies as worse than a large number of small ones.<br>\n",
        "<font color='magenta'>**Gradient Descent:**</font> An algorithm that changes the internal variables a bit at a time to gradually reduce the loss function.<br>\n",
        "<font color='magenta'>**Optimizer:**</font> A specific implementation of the gradient descent algorithm. (There are many algorithms for this. In this course we will only use the “Adam” Optimizer, which stands for ADAptive with Momentum. It is considered the best-practice optimizer.)<br>\n",
        "<font color='magenta'>**Learning rate:**</font> The “step size” for loss improvement during gradient descent.<br>\n",
        "<font color='magenta'>**Batch:** </font>The set of examples used during training of the neural network<br>\n",
        "<font color='magenta'>**Epoch:**</font> A full pass over the entire training dataset<br>\n",
        "<font color='magenta'>**Forward pass:**</font> The computation of output values from input<br>\n",
        "<font color='magenta'>**Backward pass (backpropagation):**</font> The calculation of internal variable adjustments according to the optimizer algorithm, starting from the output layer and working back through each layer to the input."
      ]
    },
    {
      "cell_type": "markdown",
      "metadata": {
        "id": "CvUGmNa08l_b",
        "colab_type": "text"
      },
      "source": [
        "<h2>ReLU</h2>"
      ]
    },
    {
      "cell_type": "markdown",
      "metadata": {
        "id": "xCsi9kmR74DS",
        "colab_type": "text"
      },
      "source": [
        "**The Rectified Linear Unit [(ReLU)](https://www.kaggle.com/dansbecker/rectified-linear-units-relu-in-deep-learning)**<br>\n",
        "In this lesson we talked about ReLU and how it gives our Dense layer more power. ReLU stands for Rectified Linear Unit and it is a mathematical function that looks like this:\n",
        "\n",
        "<img src='https://s3.amazonaws.com/video.udacity-data.com/topher/2019/March/5c7f0cff_tensorflow-l3f1/tensorflow-l3f1.png' height=250 width=400>\n",
        "\n",
        "As we can see, the ReLU function gives an output of 0 if the input is negative or zero, and if input is positive, then the output will be equal to the input.\n",
        "\n",
        "ReLU gives the network the ability to solve nonlinear problems.\n",
        "\n",
        "Converting Celsius to Fahrenheit is a linear problem because f = 1.8*c + 32 is the same form as the equation for a line, y = m*x + b. But most problems we want to solve are nonlinear. In these cases, adding ReLU to our Dense layers can help solve the problem.\n",
        "\n",
        "ReLU is a type of activation function. There several of these functions (ReLU, Sigmoid, tanh, ELU), but ReLU is used most commonly and serves as a good default. To build and use models that include ReLU, you don’t have to understand its internals.\n",
        "\n"
      ]
    },
    {
      "cell_type": "markdown",
      "metadata": {
        "id": "SPilAI-RD1MP",
        "colab_type": "text"
      },
      "source": [
        "<h2>Softmax Function<h2>"
      ]
    },
    {
      "cell_type": "markdown",
      "metadata": {
        "id": "yewQT41LD9Uy",
        "colab_type": "text"
      },
      "source": [
        "**Softmax** function, is a wonderful activation function that **turns numbers aka logits into probabilities** that sum to one. It’s also a core element used in deep learning classification tasks.<br>\n",
        "\n",
        "See a visual repesentation of the Softmax function below.<br>\n",
        "<img src='https://cdn-images-1.medium.com/max/1000/1*670CdxchunD-yAuUWdI7Bw.png' width=500 height=250>\n",
        "\n",
        "\n",
        "The **Softmax** function uses a special number called $e$ which stands for $Eulers\\:\\ Number$.<br>\n",
        "<h3>$e$ = $2.718$</h3><br>\n",
        "\n",
        "**Let's write a simple code below to demonstrate how softmax function works.**\n",
        "\n",
        "\n"
      ]
    },
    {
      "cell_type": "code",
      "metadata": {
        "id": "JaKYSD2EGQRo",
        "colab_type": "code",
        "colab": {
          "base_uri": "https://localhost:8080/",
          "height": 136
        },
        "outputId": "c90577d5-a580-47f3-a252-98f6bd8f6874"
      },
      "source": [
        "# first let's create a simple table of three animals and their logits(indicating numbers),\n",
        "# to determine the probability of each animal occurring using the logits and softmax function\n",
        "\n",
        "animals = {'Dog':[2.0], 'Cat':[1.0], 'Ant':[0.0]}\n",
        "\n",
        "animal_df = pd.DataFrame(animals)\n",
        "\n",
        "animal_df = animal_df.transpose()\n",
        "\n",
        "animal_df.columns = ['Logits']\n",
        "animal_df.head()"
      ],
      "execution_count": null,
      "outputs": [
        {
          "output_type": "execute_result",
          "data": {
            "text/html": [
              "<div>\n",
              "<style scoped>\n",
              "    .dataframe tbody tr th:only-of-type {\n",
              "        vertical-align: middle;\n",
              "    }\n",
              "\n",
              "    .dataframe tbody tr th {\n",
              "        vertical-align: top;\n",
              "    }\n",
              "\n",
              "    .dataframe thead th {\n",
              "        text-align: right;\n",
              "    }\n",
              "</style>\n",
              "<table border=\"1\" class=\"dataframe\">\n",
              "  <thead>\n",
              "    <tr style=\"text-align: right;\">\n",
              "      <th></th>\n",
              "      <th>Logits</th>\n",
              "    </tr>\n",
              "  </thead>\n",
              "  <tbody>\n",
              "    <tr>\n",
              "      <th>Dog</th>\n",
              "      <td>2.0</td>\n",
              "    </tr>\n",
              "    <tr>\n",
              "      <th>Cat</th>\n",
              "      <td>1.0</td>\n",
              "    </tr>\n",
              "    <tr>\n",
              "      <th>Ant</th>\n",
              "      <td>0.0</td>\n",
              "    </tr>\n",
              "  </tbody>\n",
              "</table>\n",
              "</div>"
            ],
            "text/plain": [
              "     Logits\n",
              "Dog     2.0\n",
              "Cat     1.0\n",
              "Ant     0.0"
            ]
          },
          "metadata": {
            "tags": []
          },
          "execution_count": 14
        }
      ]
    },
    {
      "cell_type": "code",
      "metadata": {
        "id": "NxC1LK_vHnaR",
        "colab_type": "code",
        "colab": {
          "base_uri": "https://localhost:8080/",
          "height": 34
        },
        "outputId": "955c0407-f4af-4746-a742-f4f93ea1d151"
      },
      "source": [
        "# Now let's define the base or denominator for our Softmax function.\n",
        "\n",
        "e = 2.718  # e here is the special number called Euler's Number\n",
        "\n",
        "probability_list = []\n",
        "\n",
        "# The base of our Softmax function is the sum of e raised to the power of each logit\n",
        "# This is also the denominator of the function.\n",
        "\n",
        "denominator = sum(e**animal_df.Logits)  \n",
        "\n",
        "denominator"
      ],
      "execution_count": null,
      "outputs": [
        {
          "output_type": "execute_result",
          "data": {
            "text/plain": [
              "11.105523999999999"
            ]
          },
          "metadata": {
            "tags": []
          },
          "execution_count": 15
        }
      ]
    },
    {
      "cell_type": "code",
      "metadata": {
        "id": "IVmoGnLXKHag",
        "colab_type": "code",
        "colab": {
          "base_uri": "https://localhost:8080/",
          "height": 34
        },
        "outputId": "96a6eb8e-e371-416c-95cb-60fcbda35783"
      },
      "source": [
        "# Now let's calculate the Softmax Function\n",
        "\n",
        "for i in animal_df.Logits:\n",
        "  probability_list.append(e**i / denominator)  # we raise e by each logit and divide by denominator\n",
        "\n",
        "probability_list\n",
        "# see the value of each logit as a probability of the whole."
      ],
      "execution_count": null,
      "outputs": [
        {
          "output_type": "execute_result",
          "data": {
            "text/plain": [
              "[0.6652116550286147, 0.24474306660361098, 0.09004527836777446]"
            ]
          },
          "metadata": {
            "tags": []
          },
          "execution_count": 16
        }
      ]
    },
    {
      "cell_type": "code",
      "metadata": {
        "id": "1Ef8eLIqLPrQ",
        "colab_type": "code",
        "colab": {
          "base_uri": "https://localhost:8080/",
          "height": 136
        },
        "outputId": "ecec85f9-1230-4202-d882-1177132f64f4"
      },
      "source": [
        "# Finally let's append the probability list as the softmax value to animal_df\n",
        "\n",
        "animal_df['Softmax_Value'] = probability_list\n",
        "\n",
        "# let's display the result\n",
        "animal_df"
      ],
      "execution_count": null,
      "outputs": [
        {
          "output_type": "execute_result",
          "data": {
            "text/html": [
              "<div>\n",
              "<style scoped>\n",
              "    .dataframe tbody tr th:only-of-type {\n",
              "        vertical-align: middle;\n",
              "    }\n",
              "\n",
              "    .dataframe tbody tr th {\n",
              "        vertical-align: top;\n",
              "    }\n",
              "\n",
              "    .dataframe thead th {\n",
              "        text-align: right;\n",
              "    }\n",
              "</style>\n",
              "<table border=\"1\" class=\"dataframe\">\n",
              "  <thead>\n",
              "    <tr style=\"text-align: right;\">\n",
              "      <th></th>\n",
              "      <th>Logits</th>\n",
              "      <th>Softmax_Value</th>\n",
              "    </tr>\n",
              "  </thead>\n",
              "  <tbody>\n",
              "    <tr>\n",
              "      <th>Dog</th>\n",
              "      <td>2.0</td>\n",
              "      <td>0.665212</td>\n",
              "    </tr>\n",
              "    <tr>\n",
              "      <th>Cat</th>\n",
              "      <td>1.0</td>\n",
              "      <td>0.244743</td>\n",
              "    </tr>\n",
              "    <tr>\n",
              "      <th>Ant</th>\n",
              "      <td>0.0</td>\n",
              "      <td>0.090045</td>\n",
              "    </tr>\n",
              "  </tbody>\n",
              "</table>\n",
              "</div>"
            ],
            "text/plain": [
              "     Logits  Softmax_Value\n",
              "Dog     2.0       0.665212\n",
              "Cat     1.0       0.244743\n",
              "Ant     0.0       0.090045"
            ]
          },
          "metadata": {
            "tags": []
          },
          "execution_count": 17
        }
      ]
    },
    {
      "cell_type": "code",
      "metadata": {
        "id": "-nm2faAhLuCw",
        "colab_type": "code",
        "colab": {
          "base_uri": "https://localhost:8080/",
          "height": 166
        },
        "outputId": "583746aa-0694-4fa9-fbc6-ffaf8646fc50"
      },
      "source": [
        "# Let's add a Total sum row to show softmax_value sums up to 1 just as it should\n",
        "\n",
        "animal_df.loc['Total_Sum'] = animal_df.sum(axis=0)\n",
        "\n",
        "animal_df"
      ],
      "execution_count": null,
      "outputs": [
        {
          "output_type": "execute_result",
          "data": {
            "text/html": [
              "<div>\n",
              "<style scoped>\n",
              "    .dataframe tbody tr th:only-of-type {\n",
              "        vertical-align: middle;\n",
              "    }\n",
              "\n",
              "    .dataframe tbody tr th {\n",
              "        vertical-align: top;\n",
              "    }\n",
              "\n",
              "    .dataframe thead th {\n",
              "        text-align: right;\n",
              "    }\n",
              "</style>\n",
              "<table border=\"1\" class=\"dataframe\">\n",
              "  <thead>\n",
              "    <tr style=\"text-align: right;\">\n",
              "      <th></th>\n",
              "      <th>Logits</th>\n",
              "      <th>Softmax_Value</th>\n",
              "    </tr>\n",
              "  </thead>\n",
              "  <tbody>\n",
              "    <tr>\n",
              "      <th>Dog</th>\n",
              "      <td>2.0</td>\n",
              "      <td>0.665212</td>\n",
              "    </tr>\n",
              "    <tr>\n",
              "      <th>Cat</th>\n",
              "      <td>1.0</td>\n",
              "      <td>0.244743</td>\n",
              "    </tr>\n",
              "    <tr>\n",
              "      <th>Ant</th>\n",
              "      <td>0.0</td>\n",
              "      <td>0.090045</td>\n",
              "    </tr>\n",
              "    <tr>\n",
              "      <th>Total_Sum</th>\n",
              "      <td>3.0</td>\n",
              "      <td>1.000000</td>\n",
              "    </tr>\n",
              "  </tbody>\n",
              "</table>\n",
              "</div>"
            ],
            "text/plain": [
              "           Logits  Softmax_Value\n",
              "Dog           2.0       0.665212\n",
              "Cat           1.0       0.244743\n",
              "Ant           0.0       0.090045\n",
              "Total_Sum     3.0       1.000000"
            ]
          },
          "metadata": {
            "tags": []
          },
          "execution_count": 18
        }
      ]
    },
    {
      "cell_type": "markdown",
      "metadata": {
        "id": "83FoMU679ct1",
        "colab_type": "text"
      },
      "source": [
        "Let’s review some of the new terms that were introduced in this lesson:\n",
        "\n",
        "**Flattening:** The process of converting a 2d image into 1d vector<br>\n",
        "**ReLU:** An activation function that allows a model to solve nonlinear problems<br>\n",
        "**Softmax:** A function that provides probabilities for each possible output class<br>\n",
        "**Classification:** A machine learning model used for distinguishing among two or more output categories"
      ]
    },
    {
      "cell_type": "code",
      "metadata": {
        "id": "pl131i4G-2Ri",
        "colab_type": "code",
        "colab": {}
      },
      "source": [
        ""
      ],
      "execution_count": null,
      "outputs": []
    }
  ]
}
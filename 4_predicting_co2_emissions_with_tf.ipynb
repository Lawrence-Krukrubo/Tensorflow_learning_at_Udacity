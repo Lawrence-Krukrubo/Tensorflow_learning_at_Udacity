{
  "nbformat": 4,
  "nbformat_minor": 0,
  "metadata": {
    "colab": {
      "name": "4.predicting_co2_emissions-with_tf.ipynb",
      "provenance": [],
      "collapsed_sections": [],
      "include_colab_link": true
    },
    "kernelspec": {
      "name": "python3",
      "display_name": "Python 3"
    },
    "accelerator": "GPU"
  },
  "cells": [
    {
      "cell_type": "markdown",
      "metadata": {
        "id": "view-in-github",
        "colab_type": "text"
      },
      "source": [
        "<a href=\"https://colab.research.google.com/github/Lawrence-Krukrubo/Tensorflow_learning_at_Udacity/blob/master/4_predicting_co2_emissions_with_tf.ipynb\" target=\"_parent\"><img src=\"https://colab.research.google.com/assets/colab-badge.svg\" alt=\"Open In Colab\"/></a>"
      ]
    },
    {
      "cell_type": "markdown",
      "metadata": {
        "id": "T4GqDZdGeQwl",
        "colab_type": "text"
      },
      "source": [
        "### watch video link  here [predict_co2_emissions_with_tf](https://www.youtube.com/watch?v=-vHQub0NXI4)<br>\n",
        "### We could download the data set from the IBM link in the linear model notebook in IBM Cognitive folder"
      ]
    },
    {
      "cell_type": "code",
      "metadata": {
        "id": "Ne3FDkHGeoSY",
        "colab_type": "code",
        "colab": {
          "base_uri": "https://localhost:8080/",
          "height": 121
        },
        "outputId": "332a8ad9-7798-45f1-fc3a-8252fd7667bd"
      },
      "source": [
        "from google.colab import drive\n",
        "drive.mount('/content/gdrive')"
      ],
      "execution_count": null,
      "outputs": [
        {
          "output_type": "stream",
          "text": [
            "Go to this URL in a browser: https://accounts.google.com/o/oauth2/auth?client_id=947318989803-6bn6qk8qdgf4n4g3pfee6491hc0brc4i.apps.googleusercontent.com&redirect_uri=urn%3Aietf%3Awg%3Aoauth%3A2.0%3Aoob&scope=email%20https%3A%2F%2Fwww.googleapis.com%2Fauth%2Fdocs.test%20https%3A%2F%2Fwww.googleapis.com%2Fauth%2Fdrive%20https%3A%2F%2Fwww.googleapis.com%2Fauth%2Fdrive.photos.readonly%20https%3A%2F%2Fwww.googleapis.com%2Fauth%2Fpeopleapi.readonly&response_type=code\n",
            "\n",
            "Enter your authorization code:\n",
            "··········\n",
            "Mounted at /content/gdrive\n"
          ],
          "name": "stdout"
        }
      ]
    },
    {
      "cell_type": "code",
      "metadata": {
        "id": "Spigg5vrd0Kk",
        "colab_type": "code",
        "colab": {
          "base_uri": "https://localhost:8080/",
          "height": 50
        },
        "outputId": "1e60853f-d26c-4ebb-948e-5f76193ec468"
      },
      "source": [
        "from __future__ import absolute_import, division, print_function\n",
        "\n",
        "import pathlib\n",
        "import pandas as pd\n",
        "import seaborn as sns\n",
        "import tensorflow as tf\n",
        "from tensorflow import keras\n",
        "from tensorflow.keras import layers\n",
        "import matplotlib.pyplot as plt\n",
        "\n",
        "print('tensorflow version',tf.__version__)\n",
        "print('All imports ready!')"
      ],
      "execution_count": null,
      "outputs": [
        {
          "output_type": "stream",
          "text": [
            "tensorflow version 1.13.1\n",
            "All imports ready!\n"
          ],
          "name": "stdout"
        }
      ]
    },
    {
      "cell_type": "markdown",
      "metadata": {
        "id": "5oLbhEWvagy4",
        "colab_type": "text"
      },
      "source": [
        "## The Auto-MPG Data Set:\n",
        "\n",
        "This data set is available for free at the UCI Machine Learning Repository..."
      ]
    },
    {
      "cell_type": "markdown",
      "metadata": {
        "id": "m6ANqRF0qcQ-",
        "colab_type": "text"
      },
      "source": [
        "### There are two ways to download this file...<br>\n",
        "1. Using the _keras.utils.get_file_ command"
      ]
    },
    {
      "cell_type": "code",
      "metadata": {
        "id": "9mZfPEeXjv6x",
        "colab_type": "code",
        "colab": {
          "base_uri": "https://localhost:8080/",
          "height": 178
        },
        "outputId": "72010dba-660f-45f8-f0ee-7c5fb1d1592d"
      },
      "source": [
        "data_path =  keras.utils.get_file('auto-mpg.data', 'https://archive.ics.uci.edu/ml/machine-learning-databases/auto-mpg/auto-mpg.data')\n",
        "data_path"
      ],
      "execution_count": 1,
      "outputs": [
        {
          "output_type": "error",
          "ename": "NameError",
          "evalue": "ignored",
          "traceback": [
            "\u001b[0;31m---------------------------------------------------------------------------\u001b[0m",
            "\u001b[0;31mNameError\u001b[0m                                 Traceback (most recent call last)",
            "\u001b[0;32m<ipython-input-1-212f2ed5b51e>\u001b[0m in \u001b[0;36m<module>\u001b[0;34m()\u001b[0m\n\u001b[0;32m----> 1\u001b[0;31m \u001b[0mdata_path\u001b[0m \u001b[0;34m=\u001b[0m  \u001b[0mkeras\u001b[0m\u001b[0;34m.\u001b[0m\u001b[0mutils\u001b[0m\u001b[0;34m.\u001b[0m\u001b[0mget_file\u001b[0m\u001b[0;34m(\u001b[0m\u001b[0;34m'auto-mpg.data'\u001b[0m\u001b[0;34m,\u001b[0m \u001b[0;34m'https://archive.ics.uci.edu/ml/machine-learning-databases/auto-mpg/auto-mpg.data'\u001b[0m\u001b[0;34m)\u001b[0m\u001b[0;34m\u001b[0m\u001b[0;34m\u001b[0m\u001b[0m\n\u001b[0m\u001b[1;32m      2\u001b[0m \u001b[0mdata_path\u001b[0m\u001b[0;34m\u001b[0m\u001b[0;34m\u001b[0m\u001b[0m\n",
            "\u001b[0;31mNameError\u001b[0m: name 'keras' is not defined"
          ]
        }
      ]
    },
    {
      "cell_type": "code",
      "metadata": {
        "id": "oHbboq96mOkX",
        "colab_type": "code",
        "colab": {}
      },
      "source": [
        "column_names = ['MPG','Cylinders','Displacement','Horsepower','Weight','Acceleration','Model_Year','Origin']"
      ],
      "execution_count": null,
      "outputs": []
    },
    {
      "cell_type": "code",
      "metadata": {
        "id": "6Fab1AULnOgQ",
        "colab_type": "code",
        "colab": {}
      },
      "source": [
        "auto_df = pd.read_csv(data_path, names=column_names, na_values='?',comment='\\t', sep=' ', skipinitialspace=True)"
      ],
      "execution_count": null,
      "outputs": []
    },
    {
      "cell_type": "code",
      "metadata": {
        "id": "SE7HEg3Un9Lz",
        "colab_type": "code",
        "colab": {
          "base_uri": "https://localhost:8080/",
          "height": 195
        },
        "outputId": "5e89699c-88e8-4d33-983c-601ae3da81cc"
      },
      "source": [
        "auto_df.head()"
      ],
      "execution_count": null,
      "outputs": [
        {
          "output_type": "execute_result",
          "data": {
            "text/html": [
              "<div>\n",
              "<style scoped>\n",
              "    .dataframe tbody tr th:only-of-type {\n",
              "        vertical-align: middle;\n",
              "    }\n",
              "\n",
              "    .dataframe tbody tr th {\n",
              "        vertical-align: top;\n",
              "    }\n",
              "\n",
              "    .dataframe thead th {\n",
              "        text-align: right;\n",
              "    }\n",
              "</style>\n",
              "<table border=\"1\" class=\"dataframe\">\n",
              "  <thead>\n",
              "    <tr style=\"text-align: right;\">\n",
              "      <th></th>\n",
              "      <th>MPG</th>\n",
              "      <th>Cylinders</th>\n",
              "      <th>Displacement</th>\n",
              "      <th>Horsepower</th>\n",
              "      <th>Weight</th>\n",
              "      <th>Acceleration</th>\n",
              "      <th>Model_Year</th>\n",
              "      <th>Origin</th>\n",
              "    </tr>\n",
              "  </thead>\n",
              "  <tbody>\n",
              "    <tr>\n",
              "      <th>0</th>\n",
              "      <td>18.0</td>\n",
              "      <td>8</td>\n",
              "      <td>307.0</td>\n",
              "      <td>130.0</td>\n",
              "      <td>3504.0</td>\n",
              "      <td>12.0</td>\n",
              "      <td>70</td>\n",
              "      <td>1</td>\n",
              "    </tr>\n",
              "    <tr>\n",
              "      <th>1</th>\n",
              "      <td>15.0</td>\n",
              "      <td>8</td>\n",
              "      <td>350.0</td>\n",
              "      <td>165.0</td>\n",
              "      <td>3693.0</td>\n",
              "      <td>11.5</td>\n",
              "      <td>70</td>\n",
              "      <td>1</td>\n",
              "    </tr>\n",
              "    <tr>\n",
              "      <th>2</th>\n",
              "      <td>18.0</td>\n",
              "      <td>8</td>\n",
              "      <td>318.0</td>\n",
              "      <td>150.0</td>\n",
              "      <td>3436.0</td>\n",
              "      <td>11.0</td>\n",
              "      <td>70</td>\n",
              "      <td>1</td>\n",
              "    </tr>\n",
              "    <tr>\n",
              "      <th>3</th>\n",
              "      <td>16.0</td>\n",
              "      <td>8</td>\n",
              "      <td>304.0</td>\n",
              "      <td>150.0</td>\n",
              "      <td>3433.0</td>\n",
              "      <td>12.0</td>\n",
              "      <td>70</td>\n",
              "      <td>1</td>\n",
              "    </tr>\n",
              "    <tr>\n",
              "      <th>4</th>\n",
              "      <td>17.0</td>\n",
              "      <td>8</td>\n",
              "      <td>302.0</td>\n",
              "      <td>140.0</td>\n",
              "      <td>3449.0</td>\n",
              "      <td>10.5</td>\n",
              "      <td>70</td>\n",
              "      <td>1</td>\n",
              "    </tr>\n",
              "  </tbody>\n",
              "</table>\n",
              "</div>"
            ],
            "text/plain": [
              "    MPG  Cylinders  Displacement  Horsepower  Weight  Acceleration  \\\n",
              "0  18.0          8         307.0       130.0  3504.0          12.0   \n",
              "1  15.0          8         350.0       165.0  3693.0          11.5   \n",
              "2  18.0          8         318.0       150.0  3436.0          11.0   \n",
              "3  16.0          8         304.0       150.0  3433.0          12.0   \n",
              "4  17.0          8         302.0       140.0  3449.0          10.5   \n",
              "\n",
              "   Model_Year  Origin  \n",
              "0          70       1  \n",
              "1          70       1  \n",
              "2          70       1  \n",
              "3          70       1  \n",
              "4          70       1  "
            ]
          },
          "metadata": {
            "tags": []
          },
          "execution_count": 6
        }
      ]
    },
    {
      "cell_type": "code",
      "metadata": {
        "id": "I0s5-P0boNgk",
        "colab_type": "code",
        "colab": {
          "base_uri": "https://localhost:8080/",
          "height": 34
        },
        "outputId": "489779b5-0293-435b-b2a1-74d5e57f7e18"
      },
      "source": [
        "auto_df.shape"
      ],
      "execution_count": null,
      "outputs": [
        {
          "output_type": "execute_result",
          "data": {
            "text/plain": [
              "(398, 8)"
            ]
          },
          "metadata": {
            "tags": []
          },
          "execution_count": 7
        }
      ]
    },
    {
      "cell_type": "markdown",
      "metadata": {
        "id": "cKXvsF6irG0v",
        "colab_type": "text"
      },
      "source": [
        "### The second way to download the data set is\n",
        "\n",
        "2. Using the _!wget_ command line command.<br>\n",
        "Here we simply copy the url of the page where the data set is available and read it into a pandas data frame"
      ]
    },
    {
      "cell_type": "code",
      "metadata": {
        "id": "hsQXD3O7oOCz",
        "colab_type": "code",
        "colab": {
          "base_uri": "https://localhost:8080/",
          "height": 302
        },
        "outputId": "a290b3c4-ec06-40b9-e3f0-983caca76178"
      },
      "source": [
        "!wget auto_df.csv http://mlr.cs.umass.edu/ml/machine-learning-databases/auto-mpg/auto-mpg.data"
      ],
      "execution_count": null,
      "outputs": [
        {
          "output_type": "stream",
          "text": [
            "--2019-04-27 22:58:47--  http://auto_df.csv/\n",
            "Resolving auto_df.csv (auto_df.csv)... failed: Name or service not known.\n",
            "wget: unable to resolve host address ‘auto_df.csv’\n",
            "--2019-04-27 22:58:47--  http://mlr.cs.umass.edu/ml/machine-learning-databases/auto-mpg/auto-mpg.data\n",
            "Resolving mlr.cs.umass.edu (mlr.cs.umass.edu)... 128.119.246.96\n",
            "Connecting to mlr.cs.umass.edu (mlr.cs.umass.edu)|128.119.246.96|:80... connected.\n",
            "HTTP request sent, awaiting response... 200 OK\n",
            "Length: 30286 (30K) [text/plain]\n",
            "Saving to: ‘auto-mpg.data’\n",
            "\n",
            "\rauto-mpg.data         0%[                    ]       0  --.-KB/s               \rauto-mpg.data       100%[===================>]  29.58K  --.-KB/s    in 0.09s   \n",
            "\n",
            "2019-04-27 22:58:47 (342 KB/s) - ‘auto-mpg.data’ saved [30286/30286]\n",
            "\n",
            "FINISHED --2019-04-27 22:58:47--\n",
            "Total wall clock time: 0.4s\n",
            "Downloaded: 1 files, 30K in 0.09s (342 KB/s)\n"
          ],
          "name": "stdout"
        }
      ]
    },
    {
      "cell_type": "code",
      "metadata": {
        "id": "sDMM07mWoxOB",
        "colab_type": "code",
        "colab": {}
      },
      "source": [
        "auto_df = pd.read_csv(\"auto-mpg.data\",names=column_names, na_values='?', comment='\\t', sep=' ', skipinitialspace=True )"
      ],
      "execution_count": null,
      "outputs": []
    },
    {
      "cell_type": "code",
      "metadata": {
        "id": "Npurpw_2pANz",
        "colab_type": "code",
        "colab": {
          "base_uri": "https://localhost:8080/",
          "height": 195
        },
        "outputId": "5d7958cc-3f57-4532-b83f-f51597800a5f"
      },
      "source": [
        "auto_df.head()"
      ],
      "execution_count": null,
      "outputs": [
        {
          "output_type": "execute_result",
          "data": {
            "text/html": [
              "<div>\n",
              "<style scoped>\n",
              "    .dataframe tbody tr th:only-of-type {\n",
              "        vertical-align: middle;\n",
              "    }\n",
              "\n",
              "    .dataframe tbody tr th {\n",
              "        vertical-align: top;\n",
              "    }\n",
              "\n",
              "    .dataframe thead th {\n",
              "        text-align: right;\n",
              "    }\n",
              "</style>\n",
              "<table border=\"1\" class=\"dataframe\">\n",
              "  <thead>\n",
              "    <tr style=\"text-align: right;\">\n",
              "      <th></th>\n",
              "      <th>MPG</th>\n",
              "      <th>Cylinders</th>\n",
              "      <th>Displacement</th>\n",
              "      <th>Horsepower</th>\n",
              "      <th>Weight</th>\n",
              "      <th>Acceleration</th>\n",
              "      <th>Model_Year</th>\n",
              "      <th>Origin</th>\n",
              "    </tr>\n",
              "  </thead>\n",
              "  <tbody>\n",
              "    <tr>\n",
              "      <th>0</th>\n",
              "      <td>18.0</td>\n",
              "      <td>8</td>\n",
              "      <td>307.0</td>\n",
              "      <td>130.0</td>\n",
              "      <td>3504.0</td>\n",
              "      <td>12.0</td>\n",
              "      <td>70</td>\n",
              "      <td>1</td>\n",
              "    </tr>\n",
              "    <tr>\n",
              "      <th>1</th>\n",
              "      <td>15.0</td>\n",
              "      <td>8</td>\n",
              "      <td>350.0</td>\n",
              "      <td>165.0</td>\n",
              "      <td>3693.0</td>\n",
              "      <td>11.5</td>\n",
              "      <td>70</td>\n",
              "      <td>1</td>\n",
              "    </tr>\n",
              "    <tr>\n",
              "      <th>2</th>\n",
              "      <td>18.0</td>\n",
              "      <td>8</td>\n",
              "      <td>318.0</td>\n",
              "      <td>150.0</td>\n",
              "      <td>3436.0</td>\n",
              "      <td>11.0</td>\n",
              "      <td>70</td>\n",
              "      <td>1</td>\n",
              "    </tr>\n",
              "    <tr>\n",
              "      <th>3</th>\n",
              "      <td>16.0</td>\n",
              "      <td>8</td>\n",
              "      <td>304.0</td>\n",
              "      <td>150.0</td>\n",
              "      <td>3433.0</td>\n",
              "      <td>12.0</td>\n",
              "      <td>70</td>\n",
              "      <td>1</td>\n",
              "    </tr>\n",
              "    <tr>\n",
              "      <th>4</th>\n",
              "      <td>17.0</td>\n",
              "      <td>8</td>\n",
              "      <td>302.0</td>\n",
              "      <td>140.0</td>\n",
              "      <td>3449.0</td>\n",
              "      <td>10.5</td>\n",
              "      <td>70</td>\n",
              "      <td>1</td>\n",
              "    </tr>\n",
              "  </tbody>\n",
              "</table>\n",
              "</div>"
            ],
            "text/plain": [
              "    MPG  Cylinders  Displacement  Horsepower  Weight  Acceleration  \\\n",
              "0  18.0          8         307.0       130.0  3504.0          12.0   \n",
              "1  15.0          8         350.0       165.0  3693.0          11.5   \n",
              "2  18.0          8         318.0       150.0  3436.0          11.0   \n",
              "3  16.0          8         304.0       150.0  3433.0          12.0   \n",
              "4  17.0          8         302.0       140.0  3449.0          10.5   \n",
              "\n",
              "   Model_Year  Origin  \n",
              "0          70       1  \n",
              "1          70       1  \n",
              "2          70       1  \n",
              "3          70       1  \n",
              "4          70       1  "
            ]
          },
          "metadata": {
            "tags": []
          },
          "execution_count": 11
        }
      ]
    },
    {
      "cell_type": "code",
      "metadata": {
        "id": "uLX1ZoS8pPgV",
        "colab_type": "code",
        "colab": {
          "base_uri": "https://localhost:8080/",
          "height": 34
        },
        "outputId": "d41b75e2-47c9-43d2-c9bf-b689e977405e"
      },
      "source": [
        "auto_df.shape"
      ],
      "execution_count": null,
      "outputs": [
        {
          "output_type": "execute_result",
          "data": {
            "text/plain": [
              "(398, 8)"
            ]
          },
          "metadata": {
            "tags": []
          },
          "execution_count": 12
        }
      ]
    },
    {
      "cell_type": "markdown",
      "metadata": {
        "id": "wUB1MAkbuUoH",
        "colab_type": "text"
      },
      "source": [
        "## Checking to confirm the right data types per column\n",
        "\n",
        "Let's check that the columns are of the right data types"
      ]
    },
    {
      "cell_type": "code",
      "metadata": {
        "id": "3IPbNjOfuIHx",
        "colab_type": "code",
        "colab": {
          "base_uri": "https://localhost:8080/",
          "height": 168
        },
        "outputId": "a40c44cb-857b-401b-ba86-1b899741441c"
      },
      "source": [
        "auto_df.dtypes"
      ],
      "execution_count": null,
      "outputs": [
        {
          "output_type": "execute_result",
          "data": {
            "text/plain": [
              "MPG             float64\n",
              "Cylinders         int64\n",
              "Displacement    float64\n",
              "Horsepower      float64\n",
              "Weight          float64\n",
              "Acceleration    float64\n",
              "Model_Year        int64\n",
              "Origin            int64\n",
              "dtype: object"
            ]
          },
          "metadata": {
            "tags": []
          },
          "execution_count": 13
        }
      ]
    },
    {
      "cell_type": "markdown",
      "metadata": {
        "id": "67BFcQpQu0cV",
        "colab_type": "text"
      },
      "source": [
        "## Checking for NaN or missing values\n",
        "\n",
        "Next let's check for unknown or NaN values"
      ]
    },
    {
      "cell_type": "code",
      "metadata": {
        "id": "KcS-cqMNuMS6",
        "colab_type": "code",
        "colab": {
          "base_uri": "https://localhost:8080/",
          "height": 168
        },
        "outputId": "01fe07c8-04ef-48a7-e0dd-5a3e052b09ce"
      },
      "source": [
        "auto_df.isna().sum()"
      ],
      "execution_count": null,
      "outputs": [
        {
          "output_type": "execute_result",
          "data": {
            "text/plain": [
              "MPG             0\n",
              "Cylinders       0\n",
              "Displacement    0\n",
              "Horsepower      6\n",
              "Weight          0\n",
              "Acceleration    0\n",
              "Model_Year      0\n",
              "Origin          0\n",
              "dtype: int64"
            ]
          },
          "metadata": {
            "tags": []
          },
          "execution_count": 14
        }
      ]
    },
    {
      "cell_type": "markdown",
      "metadata": {
        "id": "SfVnsMAyw-Hb",
        "colab_type": "text"
      },
      "source": [
        "With just 6 missing values in the Horsepower column, we can just go ahead and drop them, as it won't affect the prediction since 6 out of 398 is minimal."
      ]
    },
    {
      "cell_type": "code",
      "metadata": {
        "id": "CD4p1mOhxO5V",
        "colab_type": "code",
        "colab": {}
      },
      "source": [
        "auto_df.dropna(axis=0, inplace=True)"
      ],
      "execution_count": null,
      "outputs": []
    },
    {
      "cell_type": "markdown",
      "metadata": {
        "id": "Bi-85mJ4xbBm",
        "colab_type": "text"
      },
      "source": [
        "Let's check again"
      ]
    },
    {
      "cell_type": "code",
      "metadata": {
        "id": "weilMbtKxeCx",
        "colab_type": "code",
        "colab": {
          "base_uri": "https://localhost:8080/",
          "height": 168
        },
        "outputId": "efcecd54-2228-41bc-d25c-158a26e1685a"
      },
      "source": [
        "auto_df.isna().sum()"
      ],
      "execution_count": null,
      "outputs": [
        {
          "output_type": "execute_result",
          "data": {
            "text/plain": [
              "MPG             0\n",
              "Cylinders       0\n",
              "Displacement    0\n",
              "Horsepower      0\n",
              "Weight          0\n",
              "Acceleration    0\n",
              "Model_Year      0\n",
              "Origin          0\n",
              "dtype: int64"
            ]
          },
          "metadata": {
            "tags": []
          },
          "execution_count": 16
        }
      ]
    },
    {
      "cell_type": "markdown",
      "metadata": {
        "id": "UVVwWbO-xrN4",
        "colab_type": "text"
      },
      "source": [
        "let's confirm the new shape of our data set"
      ]
    },
    {
      "cell_type": "code",
      "metadata": {
        "id": "9XpnRjAExuwK",
        "colab_type": "code",
        "colab": {
          "base_uri": "https://localhost:8080/",
          "height": 34
        },
        "outputId": "26b05044-675b-4930-858b-ac0c01402a29"
      },
      "source": [
        "auto_df.shape"
      ],
      "execution_count": null,
      "outputs": [
        {
          "output_type": "execute_result",
          "data": {
            "text/plain": [
              "(392, 8)"
            ]
          },
          "metadata": {
            "tags": []
          },
          "execution_count": 17
        }
      ]
    },
    {
      "cell_type": "markdown",
      "metadata": {
        "id": "wGO5HEgvyQbP",
        "colab_type": "text"
      },
      "source": [
        "## Using One-Hot-Encoding on Origin Column\n",
        "\n",
        "It appears that the the origin column has numeric categorical data, let's inspect that"
      ]
    },
    {
      "cell_type": "code",
      "metadata": {
        "id": "N9mQYu3Wycjh",
        "colab_type": "code",
        "colab": {
          "base_uri": "https://localhost:8080/",
          "height": 34
        },
        "outputId": "fb845aa0-481d-4278-f341-1ac8797b91bd"
      },
      "source": [
        "auto_df.Origin.unique()"
      ],
      "execution_count": null,
      "outputs": [
        {
          "output_type": "execute_result",
          "data": {
            "text/plain": [
              "array([1, 3, 2])"
            ]
          },
          "metadata": {
            "tags": []
          },
          "execution_count": 18
        }
      ]
    },
    {
      "cell_type": "markdown",
      "metadata": {
        "id": "_22ndTcYy1VH",
        "colab_type": "text"
      },
      "source": [
        "Let's One-hot-endode the origin column in to the respective countries of origin, using the pd.get_dummies method<br>\n",
        "1. America<br>\n",
        "2. Europe<br>\n",
        "3. Japan<br>\n",
        "Then we can delete the origin column after that."
      ]
    },
    {
      "cell_type": "code",
      "metadata": {
        "id": "1L4P2GLOzOkm",
        "colab_type": "code",
        "colab": {
          "base_uri": "https://localhost:8080/",
          "height": 195
        },
        "outputId": "d462190f-24e3-4aa0-d65d-2bf11ff99807"
      },
      "source": [
        "dummies = pd.get_dummies(auto_df.Origin)\n",
        "dummies.columns = ['America','Europe','Japan']\n",
        "dummies.head()"
      ],
      "execution_count": null,
      "outputs": [
        {
          "output_type": "execute_result",
          "data": {
            "text/html": [
              "<div>\n",
              "<style scoped>\n",
              "    .dataframe tbody tr th:only-of-type {\n",
              "        vertical-align: middle;\n",
              "    }\n",
              "\n",
              "    .dataframe tbody tr th {\n",
              "        vertical-align: top;\n",
              "    }\n",
              "\n",
              "    .dataframe thead th {\n",
              "        text-align: right;\n",
              "    }\n",
              "</style>\n",
              "<table border=\"1\" class=\"dataframe\">\n",
              "  <thead>\n",
              "    <tr style=\"text-align: right;\">\n",
              "      <th></th>\n",
              "      <th>America</th>\n",
              "      <th>Europe</th>\n",
              "      <th>Japan</th>\n",
              "    </tr>\n",
              "  </thead>\n",
              "  <tbody>\n",
              "    <tr>\n",
              "      <th>0</th>\n",
              "      <td>1</td>\n",
              "      <td>0</td>\n",
              "      <td>0</td>\n",
              "    </tr>\n",
              "    <tr>\n",
              "      <th>1</th>\n",
              "      <td>1</td>\n",
              "      <td>0</td>\n",
              "      <td>0</td>\n",
              "    </tr>\n",
              "    <tr>\n",
              "      <th>2</th>\n",
              "      <td>1</td>\n",
              "      <td>0</td>\n",
              "      <td>0</td>\n",
              "    </tr>\n",
              "    <tr>\n",
              "      <th>3</th>\n",
              "      <td>1</td>\n",
              "      <td>0</td>\n",
              "      <td>0</td>\n",
              "    </tr>\n",
              "    <tr>\n",
              "      <th>4</th>\n",
              "      <td>1</td>\n",
              "      <td>0</td>\n",
              "      <td>0</td>\n",
              "    </tr>\n",
              "  </tbody>\n",
              "</table>\n",
              "</div>"
            ],
            "text/plain": [
              "   America  Europe  Japan\n",
              "0        1       0      0\n",
              "1        1       0      0\n",
              "2        1       0      0\n",
              "3        1       0      0\n",
              "4        1       0      0"
            ]
          },
          "metadata": {
            "tags": []
          },
          "execution_count": 19
        }
      ]
    },
    {
      "cell_type": "markdown",
      "metadata": {
        "id": "V7PMwmgE6nla",
        "colab_type": "text"
      },
      "source": [
        "Next we need to join or concat dummies to auto df...\n",
        "Let's first reset both indexes"
      ]
    },
    {
      "cell_type": "code",
      "metadata": {
        "id": "IFfcZAqL55lw",
        "colab_type": "code",
        "colab": {}
      },
      "source": [
        "auto_df.reset_index(drop=True, inplace=True)\n",
        "dummies.reset_index(drop=True, inplace=True)"
      ],
      "execution_count": null,
      "outputs": []
    },
    {
      "cell_type": "code",
      "metadata": {
        "id": "xWzHdiKu6y0D",
        "colab_type": "code",
        "colab": {
          "base_uri": "https://localhost:8080/",
          "height": 195
        },
        "outputId": "aeb2c243-e114-4d36-8bb0-e0bce69d9cd7"
      },
      "source": [
        "auto_df.head()"
      ],
      "execution_count": null,
      "outputs": [
        {
          "output_type": "execute_result",
          "data": {
            "text/html": [
              "<div>\n",
              "<style scoped>\n",
              "    .dataframe tbody tr th:only-of-type {\n",
              "        vertical-align: middle;\n",
              "    }\n",
              "\n",
              "    .dataframe tbody tr th {\n",
              "        vertical-align: top;\n",
              "    }\n",
              "\n",
              "    .dataframe thead th {\n",
              "        text-align: right;\n",
              "    }\n",
              "</style>\n",
              "<table border=\"1\" class=\"dataframe\">\n",
              "  <thead>\n",
              "    <tr style=\"text-align: right;\">\n",
              "      <th></th>\n",
              "      <th>MPG</th>\n",
              "      <th>Cylinders</th>\n",
              "      <th>Displacement</th>\n",
              "      <th>Horsepower</th>\n",
              "      <th>Weight</th>\n",
              "      <th>Acceleration</th>\n",
              "      <th>Model_Year</th>\n",
              "      <th>Origin</th>\n",
              "    </tr>\n",
              "  </thead>\n",
              "  <tbody>\n",
              "    <tr>\n",
              "      <th>0</th>\n",
              "      <td>18.0</td>\n",
              "      <td>8</td>\n",
              "      <td>307.0</td>\n",
              "      <td>130.0</td>\n",
              "      <td>3504.0</td>\n",
              "      <td>12.0</td>\n",
              "      <td>70</td>\n",
              "      <td>1</td>\n",
              "    </tr>\n",
              "    <tr>\n",
              "      <th>1</th>\n",
              "      <td>15.0</td>\n",
              "      <td>8</td>\n",
              "      <td>350.0</td>\n",
              "      <td>165.0</td>\n",
              "      <td>3693.0</td>\n",
              "      <td>11.5</td>\n",
              "      <td>70</td>\n",
              "      <td>1</td>\n",
              "    </tr>\n",
              "    <tr>\n",
              "      <th>2</th>\n",
              "      <td>18.0</td>\n",
              "      <td>8</td>\n",
              "      <td>318.0</td>\n",
              "      <td>150.0</td>\n",
              "      <td>3436.0</td>\n",
              "      <td>11.0</td>\n",
              "      <td>70</td>\n",
              "      <td>1</td>\n",
              "    </tr>\n",
              "    <tr>\n",
              "      <th>3</th>\n",
              "      <td>16.0</td>\n",
              "      <td>8</td>\n",
              "      <td>304.0</td>\n",
              "      <td>150.0</td>\n",
              "      <td>3433.0</td>\n",
              "      <td>12.0</td>\n",
              "      <td>70</td>\n",
              "      <td>1</td>\n",
              "    </tr>\n",
              "    <tr>\n",
              "      <th>4</th>\n",
              "      <td>17.0</td>\n",
              "      <td>8</td>\n",
              "      <td>302.0</td>\n",
              "      <td>140.0</td>\n",
              "      <td>3449.0</td>\n",
              "      <td>10.5</td>\n",
              "      <td>70</td>\n",
              "      <td>1</td>\n",
              "    </tr>\n",
              "  </tbody>\n",
              "</table>\n",
              "</div>"
            ],
            "text/plain": [
              "    MPG  Cylinders  Displacement  Horsepower  Weight  Acceleration  \\\n",
              "0  18.0          8         307.0       130.0  3504.0          12.0   \n",
              "1  15.0          8         350.0       165.0  3693.0          11.5   \n",
              "2  18.0          8         318.0       150.0  3436.0          11.0   \n",
              "3  16.0          8         304.0       150.0  3433.0          12.0   \n",
              "4  17.0          8         302.0       140.0  3449.0          10.5   \n",
              "\n",
              "   Model_Year  Origin  \n",
              "0          70       1  \n",
              "1          70       1  \n",
              "2          70       1  \n",
              "3          70       1  \n",
              "4          70       1  "
            ]
          },
          "metadata": {
            "tags": []
          },
          "execution_count": 21
        }
      ]
    },
    {
      "cell_type": "code",
      "metadata": {
        "id": "mUHD3Fe261Ie",
        "colab_type": "code",
        "colab": {
          "base_uri": "https://localhost:8080/",
          "height": 195
        },
        "outputId": "5773d461-630c-4658-c38f-37ce6f7bf6b1"
      },
      "source": [
        "dummies.head()"
      ],
      "execution_count": null,
      "outputs": [
        {
          "output_type": "execute_result",
          "data": {
            "text/html": [
              "<div>\n",
              "<style scoped>\n",
              "    .dataframe tbody tr th:only-of-type {\n",
              "        vertical-align: middle;\n",
              "    }\n",
              "\n",
              "    .dataframe tbody tr th {\n",
              "        vertical-align: top;\n",
              "    }\n",
              "\n",
              "    .dataframe thead th {\n",
              "        text-align: right;\n",
              "    }\n",
              "</style>\n",
              "<table border=\"1\" class=\"dataframe\">\n",
              "  <thead>\n",
              "    <tr style=\"text-align: right;\">\n",
              "      <th></th>\n",
              "      <th>America</th>\n",
              "      <th>Europe</th>\n",
              "      <th>Japan</th>\n",
              "    </tr>\n",
              "  </thead>\n",
              "  <tbody>\n",
              "    <tr>\n",
              "      <th>0</th>\n",
              "      <td>1</td>\n",
              "      <td>0</td>\n",
              "      <td>0</td>\n",
              "    </tr>\n",
              "    <tr>\n",
              "      <th>1</th>\n",
              "      <td>1</td>\n",
              "      <td>0</td>\n",
              "      <td>0</td>\n",
              "    </tr>\n",
              "    <tr>\n",
              "      <th>2</th>\n",
              "      <td>1</td>\n",
              "      <td>0</td>\n",
              "      <td>0</td>\n",
              "    </tr>\n",
              "    <tr>\n",
              "      <th>3</th>\n",
              "      <td>1</td>\n",
              "      <td>0</td>\n",
              "      <td>0</td>\n",
              "    </tr>\n",
              "    <tr>\n",
              "      <th>4</th>\n",
              "      <td>1</td>\n",
              "      <td>0</td>\n",
              "      <td>0</td>\n",
              "    </tr>\n",
              "  </tbody>\n",
              "</table>\n",
              "</div>"
            ],
            "text/plain": [
              "   America  Europe  Japan\n",
              "0        1       0      0\n",
              "1        1       0      0\n",
              "2        1       0      0\n",
              "3        1       0      0\n",
              "4        1       0      0"
            ]
          },
          "metadata": {
            "tags": []
          },
          "execution_count": 22
        }
      ]
    },
    {
      "cell_type": "markdown",
      "metadata": {
        "id": "rg3O1eDE7Ub0",
        "colab_type": "text"
      },
      "source": [
        "Then we join them using the concat function and setting axis to 1"
      ]
    },
    {
      "cell_type": "code",
      "metadata": {
        "id": "SAKkxMOd6HVi",
        "colab_type": "code",
        "colab": {}
      },
      "source": [
        "auto_df = pd.concat([auto_df, dummies], axis=1)"
      ],
      "execution_count": null,
      "outputs": []
    },
    {
      "cell_type": "code",
      "metadata": {
        "id": "ymFiUPt836ad",
        "colab_type": "code",
        "colab": {
          "base_uri": "https://localhost:8080/",
          "height": 195
        },
        "outputId": "ed634952-bd5d-4b15-ad2b-964c49222884"
      },
      "source": [
        "auto_df.head()"
      ],
      "execution_count": null,
      "outputs": [
        {
          "output_type": "execute_result",
          "data": {
            "text/html": [
              "<div>\n",
              "<style scoped>\n",
              "    .dataframe tbody tr th:only-of-type {\n",
              "        vertical-align: middle;\n",
              "    }\n",
              "\n",
              "    .dataframe tbody tr th {\n",
              "        vertical-align: top;\n",
              "    }\n",
              "\n",
              "    .dataframe thead th {\n",
              "        text-align: right;\n",
              "    }\n",
              "</style>\n",
              "<table border=\"1\" class=\"dataframe\">\n",
              "  <thead>\n",
              "    <tr style=\"text-align: right;\">\n",
              "      <th></th>\n",
              "      <th>MPG</th>\n",
              "      <th>Cylinders</th>\n",
              "      <th>Displacement</th>\n",
              "      <th>Horsepower</th>\n",
              "      <th>Weight</th>\n",
              "      <th>Acceleration</th>\n",
              "      <th>Model_Year</th>\n",
              "      <th>Origin</th>\n",
              "      <th>America</th>\n",
              "      <th>Europe</th>\n",
              "      <th>Japan</th>\n",
              "    </tr>\n",
              "  </thead>\n",
              "  <tbody>\n",
              "    <tr>\n",
              "      <th>0</th>\n",
              "      <td>18.0</td>\n",
              "      <td>8</td>\n",
              "      <td>307.0</td>\n",
              "      <td>130.0</td>\n",
              "      <td>3504.0</td>\n",
              "      <td>12.0</td>\n",
              "      <td>70</td>\n",
              "      <td>1</td>\n",
              "      <td>1</td>\n",
              "      <td>0</td>\n",
              "      <td>0</td>\n",
              "    </tr>\n",
              "    <tr>\n",
              "      <th>1</th>\n",
              "      <td>15.0</td>\n",
              "      <td>8</td>\n",
              "      <td>350.0</td>\n",
              "      <td>165.0</td>\n",
              "      <td>3693.0</td>\n",
              "      <td>11.5</td>\n",
              "      <td>70</td>\n",
              "      <td>1</td>\n",
              "      <td>1</td>\n",
              "      <td>0</td>\n",
              "      <td>0</td>\n",
              "    </tr>\n",
              "    <tr>\n",
              "      <th>2</th>\n",
              "      <td>18.0</td>\n",
              "      <td>8</td>\n",
              "      <td>318.0</td>\n",
              "      <td>150.0</td>\n",
              "      <td>3436.0</td>\n",
              "      <td>11.0</td>\n",
              "      <td>70</td>\n",
              "      <td>1</td>\n",
              "      <td>1</td>\n",
              "      <td>0</td>\n",
              "      <td>0</td>\n",
              "    </tr>\n",
              "    <tr>\n",
              "      <th>3</th>\n",
              "      <td>16.0</td>\n",
              "      <td>8</td>\n",
              "      <td>304.0</td>\n",
              "      <td>150.0</td>\n",
              "      <td>3433.0</td>\n",
              "      <td>12.0</td>\n",
              "      <td>70</td>\n",
              "      <td>1</td>\n",
              "      <td>1</td>\n",
              "      <td>0</td>\n",
              "      <td>0</td>\n",
              "    </tr>\n",
              "    <tr>\n",
              "      <th>4</th>\n",
              "      <td>17.0</td>\n",
              "      <td>8</td>\n",
              "      <td>302.0</td>\n",
              "      <td>140.0</td>\n",
              "      <td>3449.0</td>\n",
              "      <td>10.5</td>\n",
              "      <td>70</td>\n",
              "      <td>1</td>\n",
              "      <td>1</td>\n",
              "      <td>0</td>\n",
              "      <td>0</td>\n",
              "    </tr>\n",
              "  </tbody>\n",
              "</table>\n",
              "</div>"
            ],
            "text/plain": [
              "    MPG  Cylinders  Displacement  Horsepower  Weight  Acceleration  \\\n",
              "0  18.0          8         307.0       130.0  3504.0          12.0   \n",
              "1  15.0          8         350.0       165.0  3693.0          11.5   \n",
              "2  18.0          8         318.0       150.0  3436.0          11.0   \n",
              "3  16.0          8         304.0       150.0  3433.0          12.0   \n",
              "4  17.0          8         302.0       140.0  3449.0          10.5   \n",
              "\n",
              "   Model_Year  Origin  America  Europe  Japan  \n",
              "0          70       1        1       0      0  \n",
              "1          70       1        1       0      0  \n",
              "2          70       1        1       0      0  \n",
              "3          70       1        1       0      0  \n",
              "4          70       1        1       0      0  "
            ]
          },
          "metadata": {
            "tags": []
          },
          "execution_count": 24
        }
      ]
    },
    {
      "cell_type": "markdown",
      "metadata": {
        "id": "52uohc2C2Eb1",
        "colab_type": "text"
      },
      "source": [
        "Finally, let's drop origin column since we have the dummies appended already"
      ]
    },
    {
      "cell_type": "code",
      "metadata": {
        "id": "oklXIVw57l2C",
        "colab_type": "code",
        "colab": {}
      },
      "source": [
        "auto_df.drop('Origin', axis=1, inplace=True)"
      ],
      "execution_count": null,
      "outputs": []
    },
    {
      "cell_type": "code",
      "metadata": {
        "id": "f8OZwiRM8Dk_",
        "colab_type": "code",
        "colab": {
          "base_uri": "https://localhost:8080/",
          "height": 195
        },
        "outputId": "a59c25f0-5ab3-4ddd-d9f3-4e07851db6e5"
      },
      "source": [
        "auto_df.tail()"
      ],
      "execution_count": null,
      "outputs": [
        {
          "output_type": "execute_result",
          "data": {
            "text/html": [
              "<div>\n",
              "<style scoped>\n",
              "    .dataframe tbody tr th:only-of-type {\n",
              "        vertical-align: middle;\n",
              "    }\n",
              "\n",
              "    .dataframe tbody tr th {\n",
              "        vertical-align: top;\n",
              "    }\n",
              "\n",
              "    .dataframe thead th {\n",
              "        text-align: right;\n",
              "    }\n",
              "</style>\n",
              "<table border=\"1\" class=\"dataframe\">\n",
              "  <thead>\n",
              "    <tr style=\"text-align: right;\">\n",
              "      <th></th>\n",
              "      <th>MPG</th>\n",
              "      <th>Cylinders</th>\n",
              "      <th>Displacement</th>\n",
              "      <th>Horsepower</th>\n",
              "      <th>Weight</th>\n",
              "      <th>Acceleration</th>\n",
              "      <th>Model_Year</th>\n",
              "      <th>America</th>\n",
              "      <th>Europe</th>\n",
              "      <th>Japan</th>\n",
              "    </tr>\n",
              "  </thead>\n",
              "  <tbody>\n",
              "    <tr>\n",
              "      <th>387</th>\n",
              "      <td>27.0</td>\n",
              "      <td>4</td>\n",
              "      <td>140.0</td>\n",
              "      <td>86.0</td>\n",
              "      <td>2790.0</td>\n",
              "      <td>15.6</td>\n",
              "      <td>82</td>\n",
              "      <td>1</td>\n",
              "      <td>0</td>\n",
              "      <td>0</td>\n",
              "    </tr>\n",
              "    <tr>\n",
              "      <th>388</th>\n",
              "      <td>44.0</td>\n",
              "      <td>4</td>\n",
              "      <td>97.0</td>\n",
              "      <td>52.0</td>\n",
              "      <td>2130.0</td>\n",
              "      <td>24.6</td>\n",
              "      <td>82</td>\n",
              "      <td>0</td>\n",
              "      <td>1</td>\n",
              "      <td>0</td>\n",
              "    </tr>\n",
              "    <tr>\n",
              "      <th>389</th>\n",
              "      <td>32.0</td>\n",
              "      <td>4</td>\n",
              "      <td>135.0</td>\n",
              "      <td>84.0</td>\n",
              "      <td>2295.0</td>\n",
              "      <td>11.6</td>\n",
              "      <td>82</td>\n",
              "      <td>1</td>\n",
              "      <td>0</td>\n",
              "      <td>0</td>\n",
              "    </tr>\n",
              "    <tr>\n",
              "      <th>390</th>\n",
              "      <td>28.0</td>\n",
              "      <td>4</td>\n",
              "      <td>120.0</td>\n",
              "      <td>79.0</td>\n",
              "      <td>2625.0</td>\n",
              "      <td>18.6</td>\n",
              "      <td>82</td>\n",
              "      <td>1</td>\n",
              "      <td>0</td>\n",
              "      <td>0</td>\n",
              "    </tr>\n",
              "    <tr>\n",
              "      <th>391</th>\n",
              "      <td>31.0</td>\n",
              "      <td>4</td>\n",
              "      <td>119.0</td>\n",
              "      <td>82.0</td>\n",
              "      <td>2720.0</td>\n",
              "      <td>19.4</td>\n",
              "      <td>82</td>\n",
              "      <td>1</td>\n",
              "      <td>0</td>\n",
              "      <td>0</td>\n",
              "    </tr>\n",
              "  </tbody>\n",
              "</table>\n",
              "</div>"
            ],
            "text/plain": [
              "      MPG  Cylinders  Displacement  Horsepower  Weight  Acceleration  \\\n",
              "387  27.0          4         140.0        86.0  2790.0          15.6   \n",
              "388  44.0          4          97.0        52.0  2130.0          24.6   \n",
              "389  32.0          4         135.0        84.0  2295.0          11.6   \n",
              "390  28.0          4         120.0        79.0  2625.0          18.6   \n",
              "391  31.0          4         119.0        82.0  2720.0          19.4   \n",
              "\n",
              "     Model_Year  America  Europe  Japan  \n",
              "387          82        1       0      0  \n",
              "388          82        0       1      0  \n",
              "389          82        1       0      0  \n",
              "390          82        1       0      0  \n",
              "391          82        1       0      0  "
            ]
          },
          "metadata": {
            "tags": []
          },
          "execution_count": 26
        }
      ]
    },
    {
      "cell_type": "markdown",
      "metadata": {
        "id": "XBXfJotr-pnA",
        "colab_type": "text"
      },
      "source": [
        "## Splitting The Data into Train and Test Sets\n",
        "\n",
        "Next we split the data set into Train and Test data sets:- 80, 20 split"
      ]
    },
    {
      "cell_type": "code",
      "metadata": {
        "id": "W6VLjj_H-y6b",
        "colab_type": "code",
        "colab": {}
      },
      "source": [
        "train_data = auto_df.sample(frac=0.8, random_state=0)\n",
        "test_data = auto_df.drop(train_data.index)"
      ],
      "execution_count": null,
      "outputs": []
    },
    {
      "cell_type": "code",
      "metadata": {
        "id": "hSdTKccbDN1C",
        "colab_type": "code",
        "colab": {
          "base_uri": "https://localhost:8080/",
          "height": 34
        },
        "outputId": "73742c7b-a5c5-463e-be23-1ff78ff7902a"
      },
      "source": [
        "print('len train_data is {}, len test_data is {}'.format(train_data.shape[0], test_data.shape[0]))"
      ],
      "execution_count": null,
      "outputs": [
        {
          "output_type": "stream",
          "text": [
            "len train_data is 314, len test_data is 78\n"
          ],
          "name": "stdout"
        }
      ]
    },
    {
      "cell_type": "markdown",
      "metadata": {
        "id": "fw1jQrMREdQT",
        "colab_type": "text"
      },
      "source": [
        "**Let's inspect the data**<br>\n",
        "have a quick look at the joint distribution of a few pairs of columns from the training data set"
      ]
    },
    {
      "cell_type": "code",
      "metadata": {
        "id": "I7danIb1DuEP",
        "colab_type": "code",
        "colab": {
          "base_uri": "https://localhost:8080/",
          "height": 754
        },
        "outputId": "5983ec30-9e1f-4d90-b24f-fe05b093cf77"
      },
      "source": [
        "plt.figure(figsize=(20, 16))\n",
        "sns.pairplot(train_data[['MPG','Cylinders','Displacement','Weight']], diag_kind='kde')"
      ],
      "execution_count": null,
      "outputs": [
        {
          "output_type": "execute_result",
          "data": {
            "text/plain": [
              "<seaborn.axisgrid.PairGrid at 0x7f318b22c0f0>"
            ]
          },
          "metadata": {
            "tags": []
          },
          "execution_count": 28
        },
        {
          "output_type": "display_data",
          "data": {
            "text/plain": [
              "<Figure size 1440x1152 with 0 Axes>"
            ]
          },
          "metadata": {
            "tags": []
          }
        },
        {
          "output_type": "display_data",
          "data": {
            "image/png": "[encoded data removed]",
            "text/plain": [
              "<Figure size 720x720 with 20 Axes>"
            ]
          },
          "metadata": {
            "tags": []
          }
        }
      ]
    },
    {
      "cell_type": "code",
      "metadata": {
        "id": "4c3Hvur0Q1sE",
        "colab_type": "code",
        "colab": {
          "base_uri": "https://localhost:8080/",
          "height": 284
        },
        "outputId": "050e3841-b883-462c-e3d2-0b99b5dedd4c"
      },
      "source": [
        "train_data.describe()"
      ],
      "execution_count": null,
      "outputs": [
        {
          "output_type": "execute_result",
          "data": {
            "text/html": [
              "<div>\n",
              "<style scoped>\n",
              "    .dataframe tbody tr th:only-of-type {\n",
              "        vertical-align: middle;\n",
              "    }\n",
              "\n",
              "    .dataframe tbody tr th {\n",
              "        vertical-align: top;\n",
              "    }\n",
              "\n",
              "    .dataframe thead th {\n",
              "        text-align: right;\n",
              "    }\n",
              "</style>\n",
              "<table border=\"1\" class=\"dataframe\">\n",
              "  <thead>\n",
              "    <tr style=\"text-align: right;\">\n",
              "      <th></th>\n",
              "      <th>MPG</th>\n",
              "      <th>Cylinders</th>\n",
              "      <th>Displacement</th>\n",
              "      <th>Horsepower</th>\n",
              "      <th>Weight</th>\n",
              "      <th>Acceleration</th>\n",
              "      <th>Model_Year</th>\n",
              "      <th>America</th>\n",
              "      <th>Europe</th>\n",
              "      <th>Japan</th>\n",
              "    </tr>\n",
              "  </thead>\n",
              "  <tbody>\n",
              "    <tr>\n",
              "      <th>count</th>\n",
              "      <td>314.000000</td>\n",
              "      <td>314.000000</td>\n",
              "      <td>314.000000</td>\n",
              "      <td>314.000000</td>\n",
              "      <td>314.000000</td>\n",
              "      <td>314.000000</td>\n",
              "      <td>314.000000</td>\n",
              "      <td>314.000000</td>\n",
              "      <td>314.000000</td>\n",
              "      <td>314.000000</td>\n",
              "    </tr>\n",
              "    <tr>\n",
              "      <th>mean</th>\n",
              "      <td>23.310510</td>\n",
              "      <td>5.477707</td>\n",
              "      <td>195.318471</td>\n",
              "      <td>104.869427</td>\n",
              "      <td>2990.251592</td>\n",
              "      <td>15.559236</td>\n",
              "      <td>75.898089</td>\n",
              "      <td>0.624204</td>\n",
              "      <td>0.178344</td>\n",
              "      <td>0.197452</td>\n",
              "    </tr>\n",
              "    <tr>\n",
              "      <th>std</th>\n",
              "      <td>7.728652</td>\n",
              "      <td>1.699788</td>\n",
              "      <td>104.331589</td>\n",
              "      <td>38.096214</td>\n",
              "      <td>843.898596</td>\n",
              "      <td>2.789230</td>\n",
              "      <td>3.675642</td>\n",
              "      <td>0.485101</td>\n",
              "      <td>0.383413</td>\n",
              "      <td>0.398712</td>\n",
              "    </tr>\n",
              "    <tr>\n",
              "      <th>min</th>\n",
              "      <td>10.000000</td>\n",
              "      <td>3.000000</td>\n",
              "      <td>68.000000</td>\n",
              "      <td>46.000000</td>\n",
              "      <td>1649.000000</td>\n",
              "      <td>8.000000</td>\n",
              "      <td>70.000000</td>\n",
              "      <td>0.000000</td>\n",
              "      <td>0.000000</td>\n",
              "      <td>0.000000</td>\n",
              "    </tr>\n",
              "    <tr>\n",
              "      <th>25%</th>\n",
              "      <td>17.000000</td>\n",
              "      <td>4.000000</td>\n",
              "      <td>105.500000</td>\n",
              "      <td>76.250000</td>\n",
              "      <td>2256.500000</td>\n",
              "      <td>13.800000</td>\n",
              "      <td>73.000000</td>\n",
              "      <td>0.000000</td>\n",
              "      <td>0.000000</td>\n",
              "      <td>0.000000</td>\n",
              "    </tr>\n",
              "    <tr>\n",
              "      <th>50%</th>\n",
              "      <td>22.000000</td>\n",
              "      <td>4.000000</td>\n",
              "      <td>151.000000</td>\n",
              "      <td>94.500000</td>\n",
              "      <td>2822.500000</td>\n",
              "      <td>15.500000</td>\n",
              "      <td>76.000000</td>\n",
              "      <td>1.000000</td>\n",
              "      <td>0.000000</td>\n",
              "      <td>0.000000</td>\n",
              "    </tr>\n",
              "    <tr>\n",
              "      <th>75%</th>\n",
              "      <td>28.950000</td>\n",
              "      <td>8.000000</td>\n",
              "      <td>265.750000</td>\n",
              "      <td>128.000000</td>\n",
              "      <td>3608.000000</td>\n",
              "      <td>17.200000</td>\n",
              "      <td>79.000000</td>\n",
              "      <td>1.000000</td>\n",
              "      <td>0.000000</td>\n",
              "      <td>0.000000</td>\n",
              "    </tr>\n",
              "    <tr>\n",
              "      <th>max</th>\n",
              "      <td>46.600000</td>\n",
              "      <td>8.000000</td>\n",
              "      <td>455.000000</td>\n",
              "      <td>225.000000</td>\n",
              "      <td>5140.000000</td>\n",
              "      <td>24.800000</td>\n",
              "      <td>82.000000</td>\n",
              "      <td>1.000000</td>\n",
              "      <td>1.000000</td>\n",
              "      <td>1.000000</td>\n",
              "    </tr>\n",
              "  </tbody>\n",
              "</table>\n",
              "</div>"
            ],
            "text/plain": [
              "              MPG   Cylinders  Displacement  Horsepower       Weight  \\\n",
              "count  314.000000  314.000000    314.000000  314.000000   314.000000   \n",
              "mean    23.310510    5.477707    195.318471  104.869427  2990.251592   \n",
              "std      7.728652    1.699788    104.331589   38.096214   843.898596   \n",
              "min     10.000000    3.000000     68.000000   46.000000  1649.000000   \n",
              "25%     17.000000    4.000000    105.500000   76.250000  2256.500000   \n",
              "50%     22.000000    4.000000    151.000000   94.500000  2822.500000   \n",
              "75%     28.950000    8.000000    265.750000  128.000000  3608.000000   \n",
              "max     46.600000    8.000000    455.000000  225.000000  5140.000000   \n",
              "\n",
              "       Acceleration  Model_Year     America      Europe       Japan  \n",
              "count    314.000000  314.000000  314.000000  314.000000  314.000000  \n",
              "mean      15.559236   75.898089    0.624204    0.178344    0.197452  \n",
              "std        2.789230    3.675642    0.485101    0.383413    0.398712  \n",
              "min        8.000000   70.000000    0.000000    0.000000    0.000000  \n",
              "25%       13.800000   73.000000    0.000000    0.000000    0.000000  \n",
              "50%       15.500000   76.000000    1.000000    0.000000    0.000000  \n",
              "75%       17.200000   79.000000    1.000000    0.000000    0.000000  \n",
              "max       24.800000   82.000000    1.000000    1.000000    1.000000  "
            ]
          },
          "metadata": {
            "tags": []
          },
          "execution_count": 29
        }
      ]
    },
    {
      "cell_type": "markdown",
      "metadata": {
        "id": "NRx4WTxCScHc",
        "colab_type": "text"
      },
      "source": [
        "## Using the .pop() method to split the label from the features"
      ]
    },
    {
      "cell_type": "markdown",
      "metadata": {
        "id": "3bSnlnjVRFEC",
        "colab_type": "text"
      },
      "source": [
        "Next, let's split features from labels. We want the features of both train and test sets to be split from the labels(MPG)"
      ]
    },
    {
      "cell_type": "code",
      "metadata": {
        "id": "ixrtUO9zRQQ1",
        "colab_type": "code",
        "colab": {}
      },
      "source": [
        "train_label = train_data.pop('MPG')"
      ],
      "execution_count": null,
      "outputs": []
    },
    {
      "cell_type": "code",
      "metadata": {
        "id": "J5vrCRiwSJnx",
        "colab_type": "code",
        "colab": {}
      },
      "source": [
        "test_label = test_data.pop('MPG')"
      ],
      "execution_count": null,
      "outputs": []
    },
    {
      "cell_type": "code",
      "metadata": {
        "id": "3bu_0vTYRgym",
        "colab_type": "code",
        "colab": {
          "base_uri": "https://localhost:8080/",
          "height": 195
        },
        "outputId": "227f7ec5-d881-4948-fc68-138507a9516b"
      },
      "source": [
        "test_data.head()"
      ],
      "execution_count": null,
      "outputs": [
        {
          "output_type": "execute_result",
          "data": {
            "text/html": [
              "<div>\n",
              "<style scoped>\n",
              "    .dataframe tbody tr th:only-of-type {\n",
              "        vertical-align: middle;\n",
              "    }\n",
              "\n",
              "    .dataframe tbody tr th {\n",
              "        vertical-align: top;\n",
              "    }\n",
              "\n",
              "    .dataframe thead th {\n",
              "        text-align: right;\n",
              "    }\n",
              "</style>\n",
              "<table border=\"1\" class=\"dataframe\">\n",
              "  <thead>\n",
              "    <tr style=\"text-align: right;\">\n",
              "      <th></th>\n",
              "      <th>Cylinders</th>\n",
              "      <th>Displacement</th>\n",
              "      <th>Horsepower</th>\n",
              "      <th>Weight</th>\n",
              "      <th>Acceleration</th>\n",
              "      <th>Model_Year</th>\n",
              "      <th>America</th>\n",
              "      <th>Europe</th>\n",
              "      <th>Japan</th>\n",
              "    </tr>\n",
              "  </thead>\n",
              "  <tbody>\n",
              "    <tr>\n",
              "      <th>9</th>\n",
              "      <td>8</td>\n",
              "      <td>390.0</td>\n",
              "      <td>190.0</td>\n",
              "      <td>3850.0</td>\n",
              "      <td>8.5</td>\n",
              "      <td>70</td>\n",
              "      <td>1</td>\n",
              "      <td>0</td>\n",
              "      <td>0</td>\n",
              "    </tr>\n",
              "    <tr>\n",
              "      <th>25</th>\n",
              "      <td>8</td>\n",
              "      <td>360.0</td>\n",
              "      <td>215.0</td>\n",
              "      <td>4615.0</td>\n",
              "      <td>14.0</td>\n",
              "      <td>70</td>\n",
              "      <td>1</td>\n",
              "      <td>0</td>\n",
              "      <td>0</td>\n",
              "    </tr>\n",
              "    <tr>\n",
              "      <th>28</th>\n",
              "      <td>8</td>\n",
              "      <td>304.0</td>\n",
              "      <td>193.0</td>\n",
              "      <td>4732.0</td>\n",
              "      <td>18.5</td>\n",
              "      <td>70</td>\n",
              "      <td>1</td>\n",
              "      <td>0</td>\n",
              "      <td>0</td>\n",
              "    </tr>\n",
              "    <tr>\n",
              "      <th>31</th>\n",
              "      <td>4</td>\n",
              "      <td>113.0</td>\n",
              "      <td>95.0</td>\n",
              "      <td>2228.0</td>\n",
              "      <td>14.0</td>\n",
              "      <td>71</td>\n",
              "      <td>0</td>\n",
              "      <td>0</td>\n",
              "      <td>1</td>\n",
              "    </tr>\n",
              "    <tr>\n",
              "      <th>32</th>\n",
              "      <td>6</td>\n",
              "      <td>232.0</td>\n",
              "      <td>100.0</td>\n",
              "      <td>2634.0</td>\n",
              "      <td>13.0</td>\n",
              "      <td>71</td>\n",
              "      <td>1</td>\n",
              "      <td>0</td>\n",
              "      <td>0</td>\n",
              "    </tr>\n",
              "  </tbody>\n",
              "</table>\n",
              "</div>"
            ],
            "text/plain": [
              "    Cylinders  Displacement  Horsepower  Weight  Acceleration  Model_Year  \\\n",
              "9           8         390.0       190.0  3850.0           8.5          70   \n",
              "25          8         360.0       215.0  4615.0          14.0          70   \n",
              "28          8         304.0       193.0  4732.0          18.5          70   \n",
              "31          4         113.0        95.0  2228.0          14.0          71   \n",
              "32          6         232.0       100.0  2634.0          13.0          71   \n",
              "\n",
              "    America  Europe  Japan  \n",
              "9         1       0      0  \n",
              "25        1       0      0  \n",
              "28        1       0      0  \n",
              "31        0       0      1  \n",
              "32        1       0      0  "
            ]
          },
          "metadata": {
            "tags": []
          },
          "execution_count": 32
        }
      ]
    },
    {
      "cell_type": "markdown",
      "metadata": {
        "id": "IfgPYzBETRqB",
        "colab_type": "text"
      },
      "source": [
        "## Normalizing the data using the Z score method"
      ]
    },
    {
      "cell_type": "code",
      "metadata": {
        "id": "91H6qvNVTY5f",
        "colab_type": "code",
        "colab": {}
      },
      "source": [
        "train_data = (train_data - train_data.mean()) / train_data.std()\n",
        "test_data = (test_data - test_data.mean()) / test_data.std()"
      ],
      "execution_count": null,
      "outputs": []
    },
    {
      "cell_type": "markdown",
      "metadata": {
        "id": "BQCXC-olV2cS",
        "colab_type": "text"
      },
      "source": [
        "## Building The model...\n",
        "\n",
        "Let's now define a simple method that builds our regression model, with two densely connected hidden layers and<br>\n",
        "An output layer that returns a single continous value.<br>\n",
        "The first layer takes the shape of the layer in addition to the neurons and activation function.<br>\n",
        "The second layer takes the same nn.relu activation function.<br>\n",
        "The final or output layer has no activation function, meaning it's a linear activation model.\n",
        "                                                            "
      ]
    },
    {
      "cell_type": "code",
      "metadata": {
        "id": "sC16J0G7WBJO",
        "colab_type": "code",
        "colab": {}
      },
      "source": [
        "def build_model():\n",
        "    model = keras.Sequential([\n",
        "        layers.Dense(256, activation=tf.nn.relu, input_shape=[len(train_data.keys())]),\n",
        "        layers.Dense(128, activation=tf.nn.relu),\n",
        "        layers.Dense(1)\n",
        "    ])\n",
        "    \n",
        "    model.compile(loss='mse',\n",
        "                 optimizer= tf.keras.optimizers.RMSprop(0.001),\n",
        "                 metrics=['mae','mse'])\n",
        "    \n",
        "    return model"
      ],
      "execution_count": null,
      "outputs": []
    },
    {
      "cell_type": "code",
      "metadata": {
        "id": "IXqhUXnSWyFY",
        "colab_type": "code",
        "colab": {}
      },
      "source": [
        "model = build_model()"
      ],
      "execution_count": null,
      "outputs": []
    },
    {
      "cell_type": "markdown",
      "metadata": {
        "id": "hHMtCeCea1sc",
        "colab_type": "text"
      },
      "source": [
        "### Let's take a look at The summary of our model"
      ]
    },
    {
      "cell_type": "code",
      "metadata": {
        "id": "65RbhUfja7Da",
        "colab_type": "code",
        "colab": {
          "base_uri": "https://localhost:8080/",
          "height": 235
        },
        "outputId": "6b76b573-f257-48d5-febc-eb34a972c82f"
      },
      "source": [
        "model.summary()"
      ],
      "execution_count": null,
      "outputs": [
        {
          "output_type": "stream",
          "text": [
            "_________________________________________________________________\n",
            "Layer (type)                 Output Shape              Param #   \n",
            "=================================================================\n",
            "dense_12 (Dense)             (None, 256)               2560      \n",
            "_________________________________________________________________\n",
            "dense_13 (Dense)             (None, 128)               32896     \n",
            "_________________________________________________________________\n",
            "dense_14 (Dense)             (None, 1)                 129       \n",
            "=================================================================\n",
            "Total params: 35,585\n",
            "Trainable params: 35,585\n",
            "Non-trainable params: 0\n",
            "_________________________________________________________________\n"
          ],
          "name": "stdout"
        }
      ]
    },
    {
      "cell_type": "markdown",
      "metadata": {
        "id": "FmfYbYS4b1zv",
        "colab_type": "text"
      },
      "source": [
        "### Now let's try our model, even though its not been trained lets just check it with some data"
      ]
    },
    {
      "cell_type": "code",
      "metadata": {
        "id": "Mrd8bzOqcAkX",
        "colab_type": "code",
        "colab": {
          "base_uri": "https://localhost:8080/",
          "height": 185
        },
        "outputId": "faf381de-1ea6-4971-d8b3-5512d0577d2f"
      },
      "source": [
        "ten_examples = train_data[:10]\n",
        "examples_result = model.predict(ten_examples)\n",
        "examples_result\n",
        "\n",
        "# prints the 10 predicted results, seems like our model is working fine."
      ],
      "execution_count": null,
      "outputs": [
        {
          "output_type": "execute_result",
          "data": {
            "text/plain": [
              "array([[0.22134934],\n",
              "       [0.06038918],\n",
              "       [0.23925392],\n",
              "       [0.13006906],\n",
              "       [0.07140696],\n",
              "       [0.05874436],\n",
              "       [0.07104239],\n",
              "       [0.3409041 ],\n",
              "       [0.09543745],\n",
              "       [0.276259  ]], dtype=float32)"
            ]
          },
          "metadata": {
            "tags": []
          },
          "execution_count": 92
        }
      ]
    },
    {
      "cell_type": "markdown",
      "metadata": {
        "id": "q324i90GmtNT",
        "colab_type": "text"
      },
      "source": [
        "## Training The Model\n",
        "\n",
        "Train the model for 1000 epochs and record the traning and validation accuracy in the history object"
      ]
    },
    {
      "cell_type": "code",
      "metadata": {
        "id": "tljNT4oMofD0",
        "colab_type": "code",
        "colab": {}
      },
      "source": [
        "# Display training progress by printing a single dot for each completed epoch.\n",
        "\n",
        "class printDot(keras.callbacks.Callback):\n",
        "    def on_epoch_end(self, epoch, logs):\n",
        "        if epoch % 100 == 0: \n",
        "            print('')\n",
        "        print('.', end='')"
      ],
      "execution_count": null,
      "outputs": []
    },
    {
      "cell_type": "code",
      "metadata": {
        "id": "mCjhGHMMl9MG",
        "colab_type": "code",
        "colab": {
          "base_uri": "https://localhost:8080/",
          "height": 202
        },
        "outputId": "b313a3a0-fa68-434a-f73e-41a71b6809c2"
      },
      "source": [
        "history = model.fit(train_data, train_label, epochs=1000, validation_split=0.2, verbose=False, callbacks=[printDot()])\n",
        "print('finished_training')"
      ],
      "execution_count": null,
      "outputs": [
        {
          "output_type": "stream",
          "text": [
            "\n",
            "....................................................................................................\n",
            "....................................................................................................\n",
            "....................................................................................................\n",
            "....................................................................................................\n",
            "....................................................................................................\n",
            "....................................................................................................\n",
            "....................................................................................................\n",
            "....................................................................................................\n",
            "....................................................................................................\n",
            "....................................................................................................finished_training\n"
          ],
          "name": "stdout"
        }
      ]
    },
    {
      "cell_type": "markdown",
      "metadata": {
        "id": "FAXs-0Etyjeb",
        "colab_type": "text"
      },
      "source": [
        "### Let's visualize the over all loss"
      ]
    },
    {
      "cell_type": "code",
      "metadata": {
        "id": "7tnex8dIqdCf",
        "colab_type": "code",
        "colab": {
          "base_uri": "https://localhost:8080/",
          "height": 378
        },
        "outputId": "b4be9570-6490-4932-dd01-fb60a305b2c3"
      },
      "source": [
        "plt.plot(history.history['loss'])\n",
        "plt.xlabel('Epochs Number')\n",
        "plt.ylabel('Loss Magnitude')"
      ],
      "execution_count": null,
      "outputs": [
        {
          "output_type": "execute_result",
          "data": {
            "text/plain": [
              "Text(0, 0.5, 'Loss Magnitude')"
            ]
          },
          "metadata": {
            "tags": []
          },
          "execution_count": 95
        },
        {
          "output_type": "display_data",
          "data": {
            "image/png": "[encoded data removed]",
            "text/plain": [
              "<Figure size 576x396 with 1 Axes>"
            ]
          },
          "metadata": {
            "tags": []
          }
        }
      ]
    },
    {
      "cell_type": "markdown",
      "metadata": {
        "id": "I9ir2aouyqOR",
        "colab_type": "text"
      },
      "source": [
        "### Let's cast to a data frame the general loss as well as the validation loss"
      ]
    },
    {
      "cell_type": "code",
      "metadata": {
        "id": "tMMNB0H8rQbY",
        "colab_type": "code",
        "colab": {
          "base_uri": "https://localhost:8080/",
          "height": 343
        },
        "outputId": "27cac5e8-a528-4c72-a887-9dae84387eda"
      },
      "source": [
        "hist_obj = pd.DataFrame(history.history)\n",
        "hist_obj['Epoch'] = history.epoch\n",
        "hist_obj.tail(10)"
      ],
      "execution_count": null,
      "outputs": [
        {
          "output_type": "execute_result",
          "data": {
            "text/html": [
              "<div>\n",
              "<style scoped>\n",
              "    .dataframe tbody tr th:only-of-type {\n",
              "        vertical-align: middle;\n",
              "    }\n",
              "\n",
              "    .dataframe tbody tr th {\n",
              "        vertical-align: top;\n",
              "    }\n",
              "\n",
              "    .dataframe thead th {\n",
              "        text-align: right;\n",
              "    }\n",
              "</style>\n",
              "<table border=\"1\" class=\"dataframe\">\n",
              "  <thead>\n",
              "    <tr style=\"text-align: right;\">\n",
              "      <th></th>\n",
              "      <th>loss</th>\n",
              "      <th>mean_absolute_error</th>\n",
              "      <th>mean_squared_error</th>\n",
              "      <th>val_loss</th>\n",
              "      <th>val_mean_absolute_error</th>\n",
              "      <th>val_mean_squared_error</th>\n",
              "      <th>Epoch</th>\n",
              "    </tr>\n",
              "  </thead>\n",
              "  <tbody>\n",
              "    <tr>\n",
              "      <th>990</th>\n",
              "      <td>1.383358</td>\n",
              "      <td>0.739453</td>\n",
              "      <td>1.383358</td>\n",
              "      <td>10.697468</td>\n",
              "      <td>2.521074</td>\n",
              "      <td>10.697468</td>\n",
              "      <td>990</td>\n",
              "    </tr>\n",
              "    <tr>\n",
              "      <th>991</th>\n",
              "      <td>1.873270</td>\n",
              "      <td>0.901355</td>\n",
              "      <td>1.873270</td>\n",
              "      <td>9.803319</td>\n",
              "      <td>2.403733</td>\n",
              "      <td>9.803320</td>\n",
              "      <td>991</td>\n",
              "    </tr>\n",
              "    <tr>\n",
              "      <th>992</th>\n",
              "      <td>1.696792</td>\n",
              "      <td>0.792151</td>\n",
              "      <td>1.696792</td>\n",
              "      <td>10.357293</td>\n",
              "      <td>2.461489</td>\n",
              "      <td>10.357293</td>\n",
              "      <td>992</td>\n",
              "    </tr>\n",
              "    <tr>\n",
              "      <th>993</th>\n",
              "      <td>1.598378</td>\n",
              "      <td>0.849644</td>\n",
              "      <td>1.598378</td>\n",
              "      <td>9.596290</td>\n",
              "      <td>2.369079</td>\n",
              "      <td>9.596291</td>\n",
              "      <td>993</td>\n",
              "    </tr>\n",
              "    <tr>\n",
              "      <th>994</th>\n",
              "      <td>1.571378</td>\n",
              "      <td>0.808965</td>\n",
              "      <td>1.571379</td>\n",
              "      <td>10.357978</td>\n",
              "      <td>2.554607</td>\n",
              "      <td>10.357978</td>\n",
              "      <td>994</td>\n",
              "    </tr>\n",
              "    <tr>\n",
              "      <th>995</th>\n",
              "      <td>1.868309</td>\n",
              "      <td>0.844907</td>\n",
              "      <td>1.868309</td>\n",
              "      <td>9.766249</td>\n",
              "      <td>2.407622</td>\n",
              "      <td>9.766249</td>\n",
              "      <td>995</td>\n",
              "    </tr>\n",
              "    <tr>\n",
              "      <th>996</th>\n",
              "      <td>1.454255</td>\n",
              "      <td>0.715414</td>\n",
              "      <td>1.454255</td>\n",
              "      <td>12.513906</td>\n",
              "      <td>2.674996</td>\n",
              "      <td>12.513906</td>\n",
              "      <td>996</td>\n",
              "    </tr>\n",
              "    <tr>\n",
              "      <th>997</th>\n",
              "      <td>1.992647</td>\n",
              "      <td>1.068044</td>\n",
              "      <td>1.992647</td>\n",
              "      <td>9.725405</td>\n",
              "      <td>2.423359</td>\n",
              "      <td>9.725406</td>\n",
              "      <td>997</td>\n",
              "    </tr>\n",
              "    <tr>\n",
              "      <th>998</th>\n",
              "      <td>1.316772</td>\n",
              "      <td>0.663183</td>\n",
              "      <td>1.316772</td>\n",
              "      <td>9.968514</td>\n",
              "      <td>2.454029</td>\n",
              "      <td>9.968513</td>\n",
              "      <td>998</td>\n",
              "    </tr>\n",
              "    <tr>\n",
              "      <th>999</th>\n",
              "      <td>1.626145</td>\n",
              "      <td>0.838707</td>\n",
              "      <td>1.626145</td>\n",
              "      <td>12.468596</td>\n",
              "      <td>2.770554</td>\n",
              "      <td>12.468596</td>\n",
              "      <td>999</td>\n",
              "    </tr>\n",
              "  </tbody>\n",
              "</table>\n",
              "</div>"
            ],
            "text/plain": [
              "         loss  mean_absolute_error  mean_squared_error   val_loss  \\\n",
              "990  1.383358             0.739453            1.383358  10.697468   \n",
              "991  1.873270             0.901355            1.873270   9.803319   \n",
              "992  1.696792             0.792151            1.696792  10.357293   \n",
              "993  1.598378             0.849644            1.598378   9.596290   \n",
              "994  1.571378             0.808965            1.571379  10.357978   \n",
              "995  1.868309             0.844907            1.868309   9.766249   \n",
              "996  1.454255             0.715414            1.454255  12.513906   \n",
              "997  1.992647             1.068044            1.992647   9.725405   \n",
              "998  1.316772             0.663183            1.316772   9.968514   \n",
              "999  1.626145             0.838707            1.626145  12.468596   \n",
              "\n",
              "     val_mean_absolute_error  val_mean_squared_error  Epoch  \n",
              "990                 2.521074               10.697468    990  \n",
              "991                 2.403733                9.803320    991  \n",
              "992                 2.461489               10.357293    992  \n",
              "993                 2.369079                9.596291    993  \n",
              "994                 2.554607               10.357978    994  \n",
              "995                 2.407622                9.766249    995  \n",
              "996                 2.674996               12.513906    996  \n",
              "997                 2.423359                9.725406    997  \n",
              "998                 2.454029                9.968513    998  \n",
              "999                 2.770554               12.468596    999  "
            ]
          },
          "metadata": {
            "tags": []
          },
          "execution_count": 96
        }
      ]
    },
    {
      "cell_type": "markdown",
      "metadata": {
        "id": "PnsS-_fdy4bo",
        "colab_type": "text"
      },
      "source": [
        "### seems like the validation loss for the MAE and MSE is rising, let's visualize further"
      ]
    },
    {
      "cell_type": "code",
      "metadata": {
        "id": "7bl4gLK5s4vY",
        "colab_type": "code",
        "colab": {
          "base_uri": "https://localhost:8080/",
          "height": 713
        },
        "outputId": "4ae6743d-f2f7-4827-868b-00662bdea42b"
      },
      "source": [
        "def plot_history(history):\n",
        "    hist = pd.DataFrame(history.history)\n",
        "    hist['epoch'] = history.epoch\n",
        "    \n",
        "    plt.figure()\n",
        "    plt.xlabel('Epoch')\n",
        "    plt.ylabel('Mean Abs Error [MPG]')\n",
        "    plt.plot(hist['epoch'], hist['mean_absolute_error'], label='Train_Error')\n",
        "    plt.plot(hist['epoch'], hist['val_mean_absolute_error'], label='Val_Error')\n",
        "    plt.legend()\n",
        "    plt.ylim([0, 5])\n",
        "    \n",
        "    plt.figure()\n",
        "    plt.xlabel('Epoch')\n",
        "    plt.ylabel('Mean_Squred_Error [$MPG^2$]')\n",
        "    plt.plot(hist['epoch'], hist['mean_squared_error'], label='Train_Error')\n",
        "    plt.plot(hist['epoch'], hist['val_mean_squared_error'], label='Val_Error')\n",
        "    plt.legend()\n",
        "    plt.ylim([0, 20])\n",
        "    \n",
        "plot_history(history)"
      ],
      "execution_count": null,
      "outputs": [
        {
          "output_type": "display_data",
          "data": {
            "image/png": "[encoded data removed]",
            "text/plain": [
              "<Figure size 576x396 with 1 Axes>"
            ]
          },
          "metadata": {
            "tags": []
          }
        },
        {
          "output_type": "display_data",
          "data": {
            "image/png": "[encoded data removed]",
            "text/plain": [
              "<Figure size 576x396 with 1 Axes>"
            ]
          },
          "metadata": {
            "tags": []
          }
        }
      ]
    },
    {
      "cell_type": "markdown",
      "metadata": {
        "id": "clR8t_AGzINv",
        "colab_type": "text"
      },
      "source": [
        "### Clearly the validation loss for both MAE and MSE seem like its rising, and is a classic result of over-fitting.\n",
        "### Let's use the early-stopping function to fix this.\n",
        "\n",
        "\n",
        "The  EarlyStopping function would stop the training if a set number of epochs occur and the model is not improving. This set number is called the patience parameter. We will set the condition of the EarlyStopping to monitor the validation loss of the model and stop training if loss does not improve in 10 epochs."
      ]
    },
    {
      "cell_type": "code",
      "metadata": {
        "id": "FiBUWGymzf8x",
        "colab_type": "code",
        "colab": {}
      },
      "source": [
        "# The patience parameter is the amount of epochs to check for improvement\n",
        "\n",
        "early_stop = keras.callbacks.EarlyStopping(monitor='val_loss', patience=10)"
      ],
      "execution_count": null,
      "outputs": []
    },
    {
      "cell_type": "code",
      "metadata": {
        "id": "i_29ojQV2OVI",
        "colab_type": "code",
        "colab": {
          "base_uri": "https://localhost:8080/",
          "height": 50
        },
        "outputId": "5c5bb1b1-b4b5-42bd-afab-d8456b5d3e82"
      },
      "source": [
        "model2 = build_model()\n",
        "\n",
        "history = model2.fit(train_data, train_label, epochs=1000, validation_split=0.2, verbose=False, callbacks=[early_stop, printDot()])\n",
        "print('finished_training')"
      ],
      "execution_count": null,
      "outputs": [
        {
          "output_type": "stream",
          "text": [
            "\n",
            "............................................finished_training\n"
          ],
          "name": "stdout"
        }
      ]
    },
    {
      "cell_type": "code",
      "metadata": {
        "id": "BbyM05A73-FA",
        "colab_type": "code",
        "colab": {
          "base_uri": "https://localhost:8080/",
          "height": 713
        },
        "outputId": "fc21169e-1705-4b70-b115-cab4e1705d6a"
      },
      "source": [
        "plot_history(history)"
      ],
      "execution_count": null,
      "outputs": [
        {
          "output_type": "display_data",
          "data": {
            "image/png": "[encoded data removed]",
            "text/plain": [
              "<Figure size 576x396 with 1 Axes>"
            ]
          },
          "metadata": {
            "tags": []
          }
        },
        {
          "output_type": "display_data",
          "data": {
            "image/png": "[encoded data removed]",
            "text/plain": [
              "<Figure size 576x396 with 1 Axes>"
            ]
          },
          "metadata": {
            "tags": []
          }
        }
      ]
    },
    {
      "cell_type": "code",
      "metadata": {
        "id": "FGRf-AL34eKQ",
        "colab_type": "code",
        "colab": {
          "base_uri": "https://localhost:8080/",
          "height": 343
        },
        "outputId": "1b730b6b-2004-414e-e304-df25dcc06290"
      },
      "source": [
        "hist_obj = pd.DataFrame(history.history)\n",
        "hist_obj['Epoch'] = history.epoch\n",
        "hist_obj.tail(10)"
      ],
      "execution_count": null,
      "outputs": [
        {
          "output_type": "execute_result",
          "data": {
            "text/html": [
              "<div>\n",
              "<style scoped>\n",
              "    .dataframe tbody tr th:only-of-type {\n",
              "        vertical-align: middle;\n",
              "    }\n",
              "\n",
              "    .dataframe tbody tr th {\n",
              "        vertical-align: top;\n",
              "    }\n",
              "\n",
              "    .dataframe thead th {\n",
              "        text-align: right;\n",
              "    }\n",
              "</style>\n",
              "<table border=\"1\" class=\"dataframe\">\n",
              "  <thead>\n",
              "    <tr style=\"text-align: right;\">\n",
              "      <th></th>\n",
              "      <th>loss</th>\n",
              "      <th>mean_absolute_error</th>\n",
              "      <th>mean_squared_error</th>\n",
              "      <th>val_loss</th>\n",
              "      <th>val_mean_absolute_error</th>\n",
              "      <th>val_mean_squared_error</th>\n",
              "      <th>Epoch</th>\n",
              "    </tr>\n",
              "  </thead>\n",
              "  <tbody>\n",
              "    <tr>\n",
              "      <th>34</th>\n",
              "      <td>6.558560</td>\n",
              "      <td>1.809903</td>\n",
              "      <td>6.558561</td>\n",
              "      <td>9.395872</td>\n",
              "      <td>2.194866</td>\n",
              "      <td>9.395872</td>\n",
              "      <td>34</td>\n",
              "    </tr>\n",
              "    <tr>\n",
              "      <th>35</th>\n",
              "      <td>6.963135</td>\n",
              "      <td>1.904093</td>\n",
              "      <td>6.963136</td>\n",
              "      <td>9.058646</td>\n",
              "      <td>2.172145</td>\n",
              "      <td>9.058646</td>\n",
              "      <td>35</td>\n",
              "    </tr>\n",
              "    <tr>\n",
              "      <th>36</th>\n",
              "      <td>6.655708</td>\n",
              "      <td>1.880974</td>\n",
              "      <td>6.655708</td>\n",
              "      <td>9.027226</td>\n",
              "      <td>2.340969</td>\n",
              "      <td>9.027225</td>\n",
              "      <td>36</td>\n",
              "    </tr>\n",
              "    <tr>\n",
              "      <th>37</th>\n",
              "      <td>6.363287</td>\n",
              "      <td>1.767687</td>\n",
              "      <td>6.363287</td>\n",
              "      <td>9.696930</td>\n",
              "      <td>2.256082</td>\n",
              "      <td>9.696931</td>\n",
              "      <td>37</td>\n",
              "    </tr>\n",
              "    <tr>\n",
              "      <th>38</th>\n",
              "      <td>6.509066</td>\n",
              "      <td>1.835131</td>\n",
              "      <td>6.509066</td>\n",
              "      <td>8.382332</td>\n",
              "      <td>2.225785</td>\n",
              "      <td>8.382332</td>\n",
              "      <td>38</td>\n",
              "    </tr>\n",
              "    <tr>\n",
              "      <th>39</th>\n",
              "      <td>6.754449</td>\n",
              "      <td>1.810959</td>\n",
              "      <td>6.754450</td>\n",
              "      <td>9.136877</td>\n",
              "      <td>2.205661</td>\n",
              "      <td>9.136878</td>\n",
              "      <td>39</td>\n",
              "    </tr>\n",
              "    <tr>\n",
              "      <th>40</th>\n",
              "      <td>6.449867</td>\n",
              "      <td>1.809499</td>\n",
              "      <td>6.449868</td>\n",
              "      <td>8.521803</td>\n",
              "      <td>2.262600</td>\n",
              "      <td>8.521803</td>\n",
              "      <td>40</td>\n",
              "    </tr>\n",
              "    <tr>\n",
              "      <th>41</th>\n",
              "      <td>6.466203</td>\n",
              "      <td>1.773809</td>\n",
              "      <td>6.466203</td>\n",
              "      <td>10.580650</td>\n",
              "      <td>2.308143</td>\n",
              "      <td>10.580650</td>\n",
              "      <td>41</td>\n",
              "    </tr>\n",
              "    <tr>\n",
              "      <th>42</th>\n",
              "      <td>6.878703</td>\n",
              "      <td>1.854786</td>\n",
              "      <td>6.878703</td>\n",
              "      <td>8.638370</td>\n",
              "      <td>2.156360</td>\n",
              "      <td>8.638371</td>\n",
              "      <td>42</td>\n",
              "    </tr>\n",
              "    <tr>\n",
              "      <th>43</th>\n",
              "      <td>6.734706</td>\n",
              "      <td>1.797510</td>\n",
              "      <td>6.734706</td>\n",
              "      <td>8.479874</td>\n",
              "      <td>2.159324</td>\n",
              "      <td>8.479874</td>\n",
              "      <td>43</td>\n",
              "    </tr>\n",
              "  </tbody>\n",
              "</table>\n",
              "</div>"
            ],
            "text/plain": [
              "        loss  mean_absolute_error  mean_squared_error   val_loss  \\\n",
              "34  6.558560             1.809903            6.558561   9.395872   \n",
              "35  6.963135             1.904093            6.963136   9.058646   \n",
              "36  6.655708             1.880974            6.655708   9.027226   \n",
              "37  6.363287             1.767687            6.363287   9.696930   \n",
              "38  6.509066             1.835131            6.509066   8.382332   \n",
              "39  6.754449             1.810959            6.754450   9.136877   \n",
              "40  6.449867             1.809499            6.449868   8.521803   \n",
              "41  6.466203             1.773809            6.466203  10.580650   \n",
              "42  6.878703             1.854786            6.878703   8.638370   \n",
              "43  6.734706             1.797510            6.734706   8.479874   \n",
              "\n",
              "    val_mean_absolute_error  val_mean_squared_error  Epoch  \n",
              "34                 2.194866                9.395872     34  \n",
              "35                 2.172145                9.058646     35  \n",
              "36                 2.340969                9.027225     36  \n",
              "37                 2.256082                9.696931     37  \n",
              "38                 2.225785                8.382332     38  \n",
              "39                 2.205661                9.136878     39  \n",
              "40                 2.262600                8.521803     40  \n",
              "41                 2.308143               10.580650     41  \n",
              "42                 2.156360                8.638371     42  \n",
              "43                 2.159324                8.479874     43  "
            ]
          },
          "metadata": {
            "tags": []
          },
          "execution_count": 101
        }
      ]
    },
    {
      "cell_type": "markdown",
      "metadata": {
        "id": "pTbedTPR5wUW",
        "colab_type": "text"
      },
      "source": [
        "Let's see how our model is doing on generally, after the early stopping we did above"
      ]
    },
    {
      "cell_type": "code",
      "metadata": {
        "id": "s8wO3Sh_55xe",
        "colab_type": "code",
        "colab": {
          "base_uri": "https://localhost:8080/",
          "height": 34
        },
        "outputId": "9b4fbeee-44e4-49d6-d748-06c4eea03526"
      },
      "source": [
        "loss, mae, mse = model2.evaluate(test_data, test_label, verbose=0)\n",
        "\n",
        "print('Testing set MAE is: %.2f' % mae, 'and MSE is: %.2f' % mse)"
      ],
      "execution_count": null,
      "outputs": [
        {
          "output_type": "stream",
          "text": [
            "Testing set MAE is: 1.84 and MSE is: 5.58\n"
          ],
          "name": "stdout"
        }
      ]
    },
    {
      "cell_type": "markdown",
      "metadata": {
        "id": "6oYawBYB__t5",
        "colab_type": "text"
      },
      "source": [
        "with an MSE of 5.90, our model is doing really well generally."
      ]
    },
    {
      "cell_type": "markdown",
      "metadata": {
        "id": "Wy4ItTw1AJNt",
        "colab_type": "text"
      },
      "source": [
        "### checking the RMSE\n",
        "\n",
        "Remember the RMSE is the square root of the MSE and can be compared to the range of the target label "
      ]
    },
    {
      "cell_type": "code",
      "metadata": {
        "id": "d6zD9ZVf-v1O",
        "colab_type": "code",
        "colab": {
          "base_uri": "https://localhost:8080/",
          "height": 34
        },
        "outputId": "bb9c7281-2fdc-48b5-c052-e57e0c90cb4c"
      },
      "source": [
        "RMSE = mse**0.5\n",
        "RMSE"
      ],
      "execution_count": null,
      "outputs": [
        {
          "output_type": "execute_result",
          "data": {
            "text/plain": [
              "2.361429595660224"
            ]
          },
          "metadata": {
            "tags": []
          },
          "execution_count": 103
        }
      ]
    },
    {
      "cell_type": "code",
      "metadata": {
        "id": "K1QZ11rF-5_h",
        "colab_type": "code",
        "colab": {
          "base_uri": "https://localhost:8080/",
          "height": 34
        },
        "outputId": "9f4d8532-d363-47a2-d01e-95a571a7dece"
      },
      "source": [
        "test_range = test_label.max() - test_label.min()\n",
        "test_range"
      ],
      "execution_count": null,
      "outputs": [
        {
          "output_type": "execute_result",
          "data": {
            "text/plain": [
              "35.3"
            ]
          },
          "metadata": {
            "tags": []
          },
          "execution_count": 104
        }
      ]
    },
    {
      "cell_type": "markdown",
      "metadata": {
        "id": "8nlYlXmOAj0g",
        "colab_type": "text"
      },
      "source": [
        "** Let's compare our RMSE as a percentage of the range of the target variable to see how our model performs**"
      ]
    },
    {
      "cell_type": "code",
      "metadata": {
        "id": "CwJ3ObJo_Leg",
        "colab_type": "code",
        "colab": {
          "base_uri": "https://localhost:8080/",
          "height": 34
        },
        "outputId": "0cb9af54-4530-4b55-ac52-3a0ecf604ee3"
      },
      "source": [
        "RMSE_Range = (RMSE / test_range) * 100\n",
        "RMSE_Range"
      ],
      "execution_count": null,
      "outputs": [
        {
          "output_type": "execute_result",
          "data": {
            "text/plain": [
              "6.68960225399497"
            ]
          },
          "metadata": {
            "tags": []
          },
          "execution_count": 105
        }
      ]
    },
    {
      "cell_type": "markdown",
      "metadata": {
        "id": "w9slhfDBAxRt",
        "colab_type": "text"
      },
      "source": [
        "This means our model error is just within 7% accuracy of the range of the target label... not bad at all."
      ]
    },
    {
      "cell_type": "markdown",
      "metadata": {
        "id": "UnNnl_C7CB9A",
        "colab_type": "text"
      },
      "source": [
        "## Let's make some predictions"
      ]
    },
    {
      "cell_type": "code",
      "metadata": {
        "id": "vfv3EvTNA_Lx",
        "colab_type": "code",
        "colab": {}
      },
      "source": [
        "test_predict = model2.predict(test_data).flatten()  # falttened so we can plot it easily"
      ],
      "execution_count": null,
      "outputs": []
    },
    {
      "cell_type": "code",
      "metadata": {
        "id": "pbHbEVfKFd0q",
        "colab_type": "code",
        "colab": {
          "base_uri": "https://localhost:8080/",
          "height": 424
        },
        "outputId": "84729131-aa65-4f6c-ee7b-f15b703854f3"
      },
      "source": [
        "plt.figure(figsize=(18, 6))\n",
        "sns.set(font_scale=1.3)\n",
        "plt.suptitle('Regplot and Distplot of Model2 performance on Test Data', y=0.95)\n",
        "\n",
        "plt.subplot(121)\n",
        "sns.regplot(test_label, test_predict)\n",
        "plt.ylabel('Predictions MPG')\n",
        "\n",
        "plt.subplot(122)\n",
        "sns.distplot(test_label, color='r', label='Target', hist=False)\n",
        "sns.distplot(test_predict, color='b', label='Predictions', hist=False)\n",
        "plt.show()"
      ],
      "execution_count": null,
      "outputs": [
        {
          "output_type": "display_data",
          "data": {
            "image/png": "[encoded data removed]",
            "text/plain": [
              "<Figure size 1296x432 with 2 Axes>"
            ]
          },
          "metadata": {
            "tags": []
          }
        }
      ]
    },
    {
      "cell_type": "markdown",
      "metadata": {
        "id": "RYNf2-y0Hf18",
        "colab_type": "text"
      },
      "source": [
        "By and large, it looks like our model is doing really well... Let's take a look at The error distribution."
      ]
    },
    {
      "cell_type": "code",
      "metadata": {
        "id": "vjuFui1yHrmU",
        "colab_type": "code",
        "colab": {}
      },
      "source": [
        ""
      ],
      "execution_count": null,
      "outputs": []
    }
  ]
}
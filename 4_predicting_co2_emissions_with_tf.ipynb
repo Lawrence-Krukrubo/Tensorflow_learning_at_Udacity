{
  "nbformat": 4,
  "nbformat_minor": 0,
  "metadata": {
    "colab": {
      "name": "4.predicting_co2_emissions-with_tf.ipynb",
      "provenance": [],
      "collapsed_sections": [],
      "include_colab_link": true
    },
    "kernelspec": {
      "name": "python3",
      "display_name": "Python 3"
    },
    "accelerator": "GPU"
  },
  "cells": [
    {
      "cell_type": "markdown",
      "metadata": {
        "id": "view-in-github",
        "colab_type": "text"
      },
      "source": [
        "<a href=\"https://colab.research.google.com/github/Lawrence-Krukrubo/Tensorflow_learning_at_Udacity/blob/master/4_predicting_co2_emissions_with_tf.ipynb\" target=\"_parent\"><img src=\"https://colab.research.google.com/assets/colab-badge.svg\" alt=\"Open In Colab\"/></a>"
      ]
    },
    {
      "cell_type": "markdown",
      "metadata": {
        "id": "T4GqDZdGeQwl",
        "colab_type": "text"
      },
      "source": [
        "### watch video link  here [predict_co2_emissions_with_tf](https://www.youtube.com/watch?v=-vHQub0NXI4)<br>\n",
        "### We could download the data set from the IBM link in the linear model notebook in IBM Cognitive folder"
      ]
    },
    {
      "cell_type": "code",
      "metadata": {
        "id": "Ne3FDkHGeoSY",
        "colab_type": "code",
        "colab": {
          "base_uri": "https://localhost:8080/",
          "height": 121
        },
        "outputId": "0443ce2c-3a48-4350-cdc2-765deefc1073"
      },
      "source": [
        "from google.colab import drive\n",
        "drive.mount('/content/gdrive')"
      ],
      "execution_count": 2,
      "outputs": [
        {
          "output_type": "stream",
          "text": [
            "Go to this URL in a browser: https://accounts.google.com/o/oauth2/auth?client_id=947318989803-6bn6qk8qdgf4n4g3pfee6491hc0brc4i.apps.googleusercontent.com&redirect_uri=urn%3aietf%3awg%3aoauth%3a2.0%3aoob&response_type=code&scope=email%20https%3a%2f%2fwww.googleapis.com%2fauth%2fdocs.test%20https%3a%2f%2fwww.googleapis.com%2fauth%2fdrive%20https%3a%2f%2fwww.googleapis.com%2fauth%2fdrive.photos.readonly%20https%3a%2f%2fwww.googleapis.com%2fauth%2fpeopleapi.readonly\n",
            "\n",
            "Enter your authorization code:\n",
            "··········\n",
            "Mounted at /content/gdrive\n"
          ],
          "name": "stdout"
        }
      ]
    },
    {
      "cell_type": "code",
      "metadata": {
        "id": "Spigg5vrd0Kk",
        "colab_type": "code",
        "colab": {
          "base_uri": "https://localhost:8080/",
          "height": 104
        },
        "outputId": "47c47e15-eaab-402b-c300-c1eaa16e0cba"
      },
      "source": [
        "from __future__ import absolute_import, division, print_function\n",
        "\n",
        "import pathlib\n",
        "import pandas as pd\n",
        "import seaborn as sns\n",
        "import tensorflow as tf\n",
        "from tensorflow import keras\n",
        "from tensorflow.keras import layers\n",
        "import matplotlib.pyplot as plt\n",
        "\n",
        "print('tensorflow version',tf.__version__)\n",
        "print('All imports ready!')"
      ],
      "execution_count": 3,
      "outputs": [
        {
          "output_type": "stream",
          "text": [
            "/usr/local/lib/python3.6/dist-packages/statsmodels/tools/_testing.py:19: FutureWarning: pandas.util.testing is deprecated. Use the functions in the public API at pandas.testing instead.\n",
            "  import pandas.util.testing as tm\n"
          ],
          "name": "stderr"
        },
        {
          "output_type": "stream",
          "text": [
            "tensorflow version 2.2.0\n",
            "All imports ready!\n"
          ],
          "name": "stdout"
        }
      ]
    },
    {
      "cell_type": "markdown",
      "metadata": {
        "id": "5oLbhEWvagy4",
        "colab_type": "text"
      },
      "source": [
        "## The Auto-MPG Data Set:\n",
        "\n",
        "This data set is available for free at the UCI Machine Learning Repository..."
      ]
    },
    {
      "cell_type": "markdown",
      "metadata": {
        "id": "m6ANqRF0qcQ-",
        "colab_type": "text"
      },
      "source": [
        "### There are two ways to download this file...<br>\n",
        "1. Using the _keras.utils.get_file_ command"
      ]
    },
    {
      "cell_type": "code",
      "metadata": {
        "id": "9mZfPEeXjv6x",
        "colab_type": "code",
        "colab": {
          "base_uri": "https://localhost:8080/",
          "height": 69
        },
        "outputId": "be61c579-9207-4558-8248-3ad2fb08f735"
      },
      "source": [
        "data_path =  keras.utils.get_file('auto-mpg.data', 'https://archive.ics.uci.edu/ml/machine-learning-databases/auto-mpg/auto-mpg.data')\n",
        "data_path"
      ],
      "execution_count": 4,
      "outputs": [
        {
          "output_type": "stream",
          "text": [
            "Downloading data from https://archive.ics.uci.edu/ml/machine-learning-databases/auto-mpg/auto-mpg.data\n",
            "32768/30286 [================================] - 0s 1us/step\n"
          ],
          "name": "stdout"
        },
        {
          "output_type": "execute_result",
          "data": {
            "application/vnd.google.colaboratory.intrinsic": {
              "type": "string"
            },
            "text/plain": [
              "'/root/.keras/datasets/auto-mpg.data'"
            ]
          },
          "metadata": {
            "tags": []
          },
          "execution_count": 4
        }
      ]
    },
    {
      "cell_type": "code",
      "metadata": {
        "id": "oHbboq96mOkX",
        "colab_type": "code",
        "colab": {}
      },
      "source": [
        "column_names = ['MPG','Cylinders','Displacement','Horsepower','Weight','Acceleration','Model_Year','Origin']"
      ],
      "execution_count": 5,
      "outputs": []
    },
    {
      "cell_type": "code",
      "metadata": {
        "id": "6Fab1AULnOgQ",
        "colab_type": "code",
        "colab": {}
      },
      "source": [
        "auto_df = pd.read_csv(data_path, names=column_names, na_values='?',comment='\\t', sep=' ', skipinitialspace=True)"
      ],
      "execution_count": 6,
      "outputs": []
    },
    {
      "cell_type": "code",
      "metadata": {
        "id": "SE7HEg3Un9Lz",
        "colab_type": "code",
        "colab": {
          "base_uri": "https://localhost:8080/",
          "height": 195
        },
        "outputId": "f7a24999-24cd-4862-fad7-1a1c8ca66f4b"
      },
      "source": [
        "auto_df.head()"
      ],
      "execution_count": 7,
      "outputs": [
        {
          "output_type": "execute_result",
          "data": {
            "text/html": [
              "<div>\n",
              "<style scoped>\n",
              "    .dataframe tbody tr th:only-of-type {\n",
              "        vertical-align: middle;\n",
              "    }\n",
              "\n",
              "    .dataframe tbody tr th {\n",
              "        vertical-align: top;\n",
              "    }\n",
              "\n",
              "    .dataframe thead th {\n",
              "        text-align: right;\n",
              "    }\n",
              "</style>\n",
              "<table border=\"1\" class=\"dataframe\">\n",
              "  <thead>\n",
              "    <tr style=\"text-align: right;\">\n",
              "      <th></th>\n",
              "      <th>MPG</th>\n",
              "      <th>Cylinders</th>\n",
              "      <th>Displacement</th>\n",
              "      <th>Horsepower</th>\n",
              "      <th>Weight</th>\n",
              "      <th>Acceleration</th>\n",
              "      <th>Model_Year</th>\n",
              "      <th>Origin</th>\n",
              "    </tr>\n",
              "  </thead>\n",
              "  <tbody>\n",
              "    <tr>\n",
              "      <th>0</th>\n",
              "      <td>18.0</td>\n",
              "      <td>8</td>\n",
              "      <td>307.0</td>\n",
              "      <td>130.0</td>\n",
              "      <td>3504.0</td>\n",
              "      <td>12.0</td>\n",
              "      <td>70</td>\n",
              "      <td>1</td>\n",
              "    </tr>\n",
              "    <tr>\n",
              "      <th>1</th>\n",
              "      <td>15.0</td>\n",
              "      <td>8</td>\n",
              "      <td>350.0</td>\n",
              "      <td>165.0</td>\n",
              "      <td>3693.0</td>\n",
              "      <td>11.5</td>\n",
              "      <td>70</td>\n",
              "      <td>1</td>\n",
              "    </tr>\n",
              "    <tr>\n",
              "      <th>2</th>\n",
              "      <td>18.0</td>\n",
              "      <td>8</td>\n",
              "      <td>318.0</td>\n",
              "      <td>150.0</td>\n",
              "      <td>3436.0</td>\n",
              "      <td>11.0</td>\n",
              "      <td>70</td>\n",
              "      <td>1</td>\n",
              "    </tr>\n",
              "    <tr>\n",
              "      <th>3</th>\n",
              "      <td>16.0</td>\n",
              "      <td>8</td>\n",
              "      <td>304.0</td>\n",
              "      <td>150.0</td>\n",
              "      <td>3433.0</td>\n",
              "      <td>12.0</td>\n",
              "      <td>70</td>\n",
              "      <td>1</td>\n",
              "    </tr>\n",
              "    <tr>\n",
              "      <th>4</th>\n",
              "      <td>17.0</td>\n",
              "      <td>8</td>\n",
              "      <td>302.0</td>\n",
              "      <td>140.0</td>\n",
              "      <td>3449.0</td>\n",
              "      <td>10.5</td>\n",
              "      <td>70</td>\n",
              "      <td>1</td>\n",
              "    </tr>\n",
              "  </tbody>\n",
              "</table>\n",
              "</div>"
            ],
            "text/plain": [
              "    MPG  Cylinders  Displacement  ...  Acceleration  Model_Year  Origin\n",
              "0  18.0          8         307.0  ...          12.0          70       1\n",
              "1  15.0          8         350.0  ...          11.5          70       1\n",
              "2  18.0          8         318.0  ...          11.0          70       1\n",
              "3  16.0          8         304.0  ...          12.0          70       1\n",
              "4  17.0          8         302.0  ...          10.5          70       1\n",
              "\n",
              "[5 rows x 8 columns]"
            ]
          },
          "metadata": {
            "tags": []
          },
          "execution_count": 7
        }
      ]
    },
    {
      "cell_type": "code",
      "metadata": {
        "id": "I0s5-P0boNgk",
        "colab_type": "code",
        "colab": {
          "base_uri": "https://localhost:8080/",
          "height": 34
        },
        "outputId": "87f686a4-0ab2-4198-f02c-ad5d33b5face"
      },
      "source": [
        "auto_df.shape"
      ],
      "execution_count": 8,
      "outputs": [
        {
          "output_type": "execute_result",
          "data": {
            "text/plain": [
              "(398, 8)"
            ]
          },
          "metadata": {
            "tags": []
          },
          "execution_count": 8
        }
      ]
    },
    {
      "cell_type": "markdown",
      "metadata": {
        "id": "cKXvsF6irG0v",
        "colab_type": "text"
      },
      "source": [
        "### The second way to download the data set is\n",
        "\n",
        "2. Using the _!wget_ command line command.<br>\n",
        "Here we simply copy the url of the page where the data set is available and read it into a pandas data frame"
      ]
    },
    {
      "cell_type": "code",
      "metadata": {
        "id": "hsQXD3O7oOCz",
        "colab_type": "code",
        "colab": {
          "base_uri": "https://localhost:8080/",
          "height": 252
        },
        "outputId": "1c47181a-952a-4e6e-edd5-e3acfe60076f"
      },
      "source": [
        "!wget auto_df.csv http://mlr.cs.umass.edu/ml/machine-learning-databases/auto-mpg/auto-mpg.data"
      ],
      "execution_count": 9,
      "outputs": [
        {
          "output_type": "stream",
          "text": [
            "--2020-07-21 14:00:46--  http://auto_df.csv/\n",
            "Resolving auto_df.csv (auto_df.csv)... failed: Name or service not known.\n",
            "wget: unable to resolve host address ‘auto_df.csv’\n",
            "--2020-07-21 14:00:46--  http://mlr.cs.umass.edu/ml/machine-learning-databases/auto-mpg/auto-mpg.data\n",
            "Resolving mlr.cs.umass.edu (mlr.cs.umass.edu)... 128.119.246.96\n",
            "Connecting to mlr.cs.umass.edu (mlr.cs.umass.edu)|128.119.246.96|:80... failed: Connection timed out.\n",
            "Retrying.\n",
            "\n",
            "--2020-07-21 14:01:18--  (try: 2)  http://mlr.cs.umass.edu/ml/machine-learning-databases/auto-mpg/auto-mpg.data\n",
            "Connecting to mlr.cs.umass.edu (mlr.cs.umass.edu)|128.119.246.96|:80... failed: Connection timed out.\n",
            "Retrying.\n",
            "\n",
            "--2020-07-21 14:01:52--  (try: 3)  http://mlr.cs.umass.edu/ml/machine-learning-databases/auto-mpg/auto-mpg.data\n",
            "Connecting to mlr.cs.umass.edu (mlr.cs.umass.edu)|128.119.246.96|:80... ^C\n"
          ],
          "name": "stdout"
        }
      ]
    },
    {
      "cell_type": "code",
      "metadata": {
        "id": "sDMM07mWoxOB",
        "colab_type": "code",
        "colab": {}
      },
      "source": [
        "#auto_df = pd.read_csv(\"auto-mpg.data\",names=column_names, na_values='?', comment='\\t', sep=' ', skipinitialspace=True )"
      ],
      "execution_count": 11,
      "outputs": []
    },
    {
      "cell_type": "code",
      "metadata": {
        "id": "Npurpw_2pANz",
        "colab_type": "code",
        "colab": {
          "base_uri": "https://localhost:8080/",
          "height": 195
        },
        "outputId": "b551cb53-66c2-4249-96e4-d1232ec43d98"
      },
      "source": [
        "auto_df.head()"
      ],
      "execution_count": 12,
      "outputs": [
        {
          "output_type": "execute_result",
          "data": {
            "text/html": [
              "<div>\n",
              "<style scoped>\n",
              "    .dataframe tbody tr th:only-of-type {\n",
              "        vertical-align: middle;\n",
              "    }\n",
              "\n",
              "    .dataframe tbody tr th {\n",
              "        vertical-align: top;\n",
              "    }\n",
              "\n",
              "    .dataframe thead th {\n",
              "        text-align: right;\n",
              "    }\n",
              "</style>\n",
              "<table border=\"1\" class=\"dataframe\">\n",
              "  <thead>\n",
              "    <tr style=\"text-align: right;\">\n",
              "      <th></th>\n",
              "      <th>MPG</th>\n",
              "      <th>Cylinders</th>\n",
              "      <th>Displacement</th>\n",
              "      <th>Horsepower</th>\n",
              "      <th>Weight</th>\n",
              "      <th>Acceleration</th>\n",
              "      <th>Model_Year</th>\n",
              "      <th>Origin</th>\n",
              "    </tr>\n",
              "  </thead>\n",
              "  <tbody>\n",
              "    <tr>\n",
              "      <th>0</th>\n",
              "      <td>18.0</td>\n",
              "      <td>8</td>\n",
              "      <td>307.0</td>\n",
              "      <td>130.0</td>\n",
              "      <td>3504.0</td>\n",
              "      <td>12.0</td>\n",
              "      <td>70</td>\n",
              "      <td>1</td>\n",
              "    </tr>\n",
              "    <tr>\n",
              "      <th>1</th>\n",
              "      <td>15.0</td>\n",
              "      <td>8</td>\n",
              "      <td>350.0</td>\n",
              "      <td>165.0</td>\n",
              "      <td>3693.0</td>\n",
              "      <td>11.5</td>\n",
              "      <td>70</td>\n",
              "      <td>1</td>\n",
              "    </tr>\n",
              "    <tr>\n",
              "      <th>2</th>\n",
              "      <td>18.0</td>\n",
              "      <td>8</td>\n",
              "      <td>318.0</td>\n",
              "      <td>150.0</td>\n",
              "      <td>3436.0</td>\n",
              "      <td>11.0</td>\n",
              "      <td>70</td>\n",
              "      <td>1</td>\n",
              "    </tr>\n",
              "    <tr>\n",
              "      <th>3</th>\n",
              "      <td>16.0</td>\n",
              "      <td>8</td>\n",
              "      <td>304.0</td>\n",
              "      <td>150.0</td>\n",
              "      <td>3433.0</td>\n",
              "      <td>12.0</td>\n",
              "      <td>70</td>\n",
              "      <td>1</td>\n",
              "    </tr>\n",
              "    <tr>\n",
              "      <th>4</th>\n",
              "      <td>17.0</td>\n",
              "      <td>8</td>\n",
              "      <td>302.0</td>\n",
              "      <td>140.0</td>\n",
              "      <td>3449.0</td>\n",
              "      <td>10.5</td>\n",
              "      <td>70</td>\n",
              "      <td>1</td>\n",
              "    </tr>\n",
              "  </tbody>\n",
              "</table>\n",
              "</div>"
            ],
            "text/plain": [
              "    MPG  Cylinders  Displacement  ...  Acceleration  Model_Year  Origin\n",
              "0  18.0          8         307.0  ...          12.0          70       1\n",
              "1  15.0          8         350.0  ...          11.5          70       1\n",
              "2  18.0          8         318.0  ...          11.0          70       1\n",
              "3  16.0          8         304.0  ...          12.0          70       1\n",
              "4  17.0          8         302.0  ...          10.5          70       1\n",
              "\n",
              "[5 rows x 8 columns]"
            ]
          },
          "metadata": {
            "tags": []
          },
          "execution_count": 12
        }
      ]
    },
    {
      "cell_type": "code",
      "metadata": {
        "id": "uLX1ZoS8pPgV",
        "colab_type": "code",
        "colab": {
          "base_uri": "https://localhost:8080/",
          "height": 34
        },
        "outputId": "abd0bf1c-17cf-4ebb-ef85-8e8df40580ce"
      },
      "source": [
        "auto_df.shape"
      ],
      "execution_count": 13,
      "outputs": [
        {
          "output_type": "execute_result",
          "data": {
            "text/plain": [
              "(398, 8)"
            ]
          },
          "metadata": {
            "tags": []
          },
          "execution_count": 13
        }
      ]
    },
    {
      "cell_type": "markdown",
      "metadata": {
        "id": "wUB1MAkbuUoH",
        "colab_type": "text"
      },
      "source": [
        "## Checking to confirm the right data types per column\n",
        "\n",
        "Let's check that the columns are of the right data types"
      ]
    },
    {
      "cell_type": "code",
      "metadata": {
        "id": "3IPbNjOfuIHx",
        "colab_type": "code",
        "colab": {
          "base_uri": "https://localhost:8080/",
          "height": 168
        },
        "outputId": "23b416f1-a08e-42d4-cc29-805d2e1deb71"
      },
      "source": [
        "auto_df.dtypes"
      ],
      "execution_count": 14,
      "outputs": [
        {
          "output_type": "execute_result",
          "data": {
            "text/plain": [
              "MPG             float64\n",
              "Cylinders         int64\n",
              "Displacement    float64\n",
              "Horsepower      float64\n",
              "Weight          float64\n",
              "Acceleration    float64\n",
              "Model_Year        int64\n",
              "Origin            int64\n",
              "dtype: object"
            ]
          },
          "metadata": {
            "tags": []
          },
          "execution_count": 14
        }
      ]
    },
    {
      "cell_type": "markdown",
      "metadata": {
        "id": "67BFcQpQu0cV",
        "colab_type": "text"
      },
      "source": [
        "## Checking for NaN or missing values\n",
        "\n",
        "Next let's check for unknown or NaN values"
      ]
    },
    {
      "cell_type": "code",
      "metadata": {
        "id": "KcS-cqMNuMS6",
        "colab_type": "code",
        "colab": {
          "base_uri": "https://localhost:8080/",
          "height": 168
        },
        "outputId": "46cf9f1f-2ac2-4689-8551-13b68bb6312b"
      },
      "source": [
        "auto_df.isna().sum()"
      ],
      "execution_count": 15,
      "outputs": [
        {
          "output_type": "execute_result",
          "data": {
            "text/plain": [
              "MPG             0\n",
              "Cylinders       0\n",
              "Displacement    0\n",
              "Horsepower      6\n",
              "Weight          0\n",
              "Acceleration    0\n",
              "Model_Year      0\n",
              "Origin          0\n",
              "dtype: int64"
            ]
          },
          "metadata": {
            "tags": []
          },
          "execution_count": 15
        }
      ]
    },
    {
      "cell_type": "markdown",
      "metadata": {
        "id": "SfVnsMAyw-Hb",
        "colab_type": "text"
      },
      "source": [
        "With just 6 missing values in the Horsepower column, we can just go ahead and drop them, as it won't affect the prediction since 6 out of 398 is minimal."
      ]
    },
    {
      "cell_type": "code",
      "metadata": {
        "id": "CD4p1mOhxO5V",
        "colab_type": "code",
        "colab": {}
      },
      "source": [
        "auto_df.dropna(axis=0, inplace=True)"
      ],
      "execution_count": 16,
      "outputs": []
    },
    {
      "cell_type": "markdown",
      "metadata": {
        "id": "Bi-85mJ4xbBm",
        "colab_type": "text"
      },
      "source": [
        "Let's check again"
      ]
    },
    {
      "cell_type": "code",
      "metadata": {
        "id": "weilMbtKxeCx",
        "colab_type": "code",
        "colab": {
          "base_uri": "https://localhost:8080/",
          "height": 168
        },
        "outputId": "4a792481-ac19-4578-d629-f723e58d5ef0"
      },
      "source": [
        "auto_df.isna().sum()"
      ],
      "execution_count": 17,
      "outputs": [
        {
          "output_type": "execute_result",
          "data": {
            "text/plain": [
              "MPG             0\n",
              "Cylinders       0\n",
              "Displacement    0\n",
              "Horsepower      0\n",
              "Weight          0\n",
              "Acceleration    0\n",
              "Model_Year      0\n",
              "Origin          0\n",
              "dtype: int64"
            ]
          },
          "metadata": {
            "tags": []
          },
          "execution_count": 17
        }
      ]
    },
    {
      "cell_type": "markdown",
      "metadata": {
        "id": "UVVwWbO-xrN4",
        "colab_type": "text"
      },
      "source": [
        "let's confirm the new shape of our data set"
      ]
    },
    {
      "cell_type": "code",
      "metadata": {
        "id": "9XpnRjAExuwK",
        "colab_type": "code",
        "colab": {
          "base_uri": "https://localhost:8080/",
          "height": 34
        },
        "outputId": "9d18602d-33ea-4e76-d036-d3bb5ee3c604"
      },
      "source": [
        "auto_df.shape"
      ],
      "execution_count": 18,
      "outputs": [
        {
          "output_type": "execute_result",
          "data": {
            "text/plain": [
              "(392, 8)"
            ]
          },
          "metadata": {
            "tags": []
          },
          "execution_count": 18
        }
      ]
    },
    {
      "cell_type": "markdown",
      "metadata": {
        "id": "wGO5HEgvyQbP",
        "colab_type": "text"
      },
      "source": [
        "## Using One-Hot-Encoding on Origin Column\n",
        "\n",
        "It appears that the the origin column has numeric categorical data, let's inspect that"
      ]
    },
    {
      "cell_type": "code",
      "metadata": {
        "id": "N9mQYu3Wycjh",
        "colab_type": "code",
        "colab": {
          "base_uri": "https://localhost:8080/",
          "height": 34
        },
        "outputId": "2b75784e-3ef9-4107-83ff-e2fa0eea7d29"
      },
      "source": [
        "auto_df.Origin.unique()"
      ],
      "execution_count": 19,
      "outputs": [
        {
          "output_type": "execute_result",
          "data": {
            "text/plain": [
              "array([1, 3, 2])"
            ]
          },
          "metadata": {
            "tags": []
          },
          "execution_count": 19
        }
      ]
    },
    {
      "cell_type": "markdown",
      "metadata": {
        "id": "_22ndTcYy1VH",
        "colab_type": "text"
      },
      "source": [
        "Let's One-hot-endode the origin column in to the respective countries of origin, using the pd.get_dummies method<br>\n",
        "1. America<br>\n",
        "2. Europe<br>\n",
        "3. Japan<br>\n",
        "Then we can delete the origin column after that."
      ]
    },
    {
      "cell_type": "code",
      "metadata": {
        "id": "1L4P2GLOzOkm",
        "colab_type": "code",
        "colab": {
          "base_uri": "https://localhost:8080/",
          "height": 195
        },
        "outputId": "623079dd-b06a-4a80-bfa3-72069ac389f6"
      },
      "source": [
        "dummies = pd.get_dummies(auto_df.Origin)\n",
        "dummies.columns = ['America','Europe','Japan']\n",
        "dummies.head()"
      ],
      "execution_count": 20,
      "outputs": [
        {
          "output_type": "execute_result",
          "data": {
            "text/html": [
              "<div>\n",
              "<style scoped>\n",
              "    .dataframe tbody tr th:only-of-type {\n",
              "        vertical-align: middle;\n",
              "    }\n",
              "\n",
              "    .dataframe tbody tr th {\n",
              "        vertical-align: top;\n",
              "    }\n",
              "\n",
              "    .dataframe thead th {\n",
              "        text-align: right;\n",
              "    }\n",
              "</style>\n",
              "<table border=\"1\" class=\"dataframe\">\n",
              "  <thead>\n",
              "    <tr style=\"text-align: right;\">\n",
              "      <th></th>\n",
              "      <th>America</th>\n",
              "      <th>Europe</th>\n",
              "      <th>Japan</th>\n",
              "    </tr>\n",
              "  </thead>\n",
              "  <tbody>\n",
              "    <tr>\n",
              "      <th>0</th>\n",
              "      <td>1</td>\n",
              "      <td>0</td>\n",
              "      <td>0</td>\n",
              "    </tr>\n",
              "    <tr>\n",
              "      <th>1</th>\n",
              "      <td>1</td>\n",
              "      <td>0</td>\n",
              "      <td>0</td>\n",
              "    </tr>\n",
              "    <tr>\n",
              "      <th>2</th>\n",
              "      <td>1</td>\n",
              "      <td>0</td>\n",
              "      <td>0</td>\n",
              "    </tr>\n",
              "    <tr>\n",
              "      <th>3</th>\n",
              "      <td>1</td>\n",
              "      <td>0</td>\n",
              "      <td>0</td>\n",
              "    </tr>\n",
              "    <tr>\n",
              "      <th>4</th>\n",
              "      <td>1</td>\n",
              "      <td>0</td>\n",
              "      <td>0</td>\n",
              "    </tr>\n",
              "  </tbody>\n",
              "</table>\n",
              "</div>"
            ],
            "text/plain": [
              "   America  Europe  Japan\n",
              "0        1       0      0\n",
              "1        1       0      0\n",
              "2        1       0      0\n",
              "3        1       0      0\n",
              "4        1       0      0"
            ]
          },
          "metadata": {
            "tags": []
          },
          "execution_count": 20
        }
      ]
    },
    {
      "cell_type": "markdown",
      "metadata": {
        "id": "V7PMwmgE6nla",
        "colab_type": "text"
      },
      "source": [
        "Next we need to join or concat dummies to auto df...\n",
        "Let's first reset both indexes"
      ]
    },
    {
      "cell_type": "code",
      "metadata": {
        "id": "IFfcZAqL55lw",
        "colab_type": "code",
        "colab": {}
      },
      "source": [
        "auto_df.reset_index(drop=True, inplace=True)\n",
        "dummies.reset_index(drop=True, inplace=True)"
      ],
      "execution_count": 21,
      "outputs": []
    },
    {
      "cell_type": "code",
      "metadata": {
        "id": "xWzHdiKu6y0D",
        "colab_type": "code",
        "colab": {
          "base_uri": "https://localhost:8080/",
          "height": 195
        },
        "outputId": "4fe21dd2-48d0-4466-817d-4b5f3ffe3575"
      },
      "source": [
        "auto_df.head()"
      ],
      "execution_count": 22,
      "outputs": [
        {
          "output_type": "execute_result",
          "data": {
            "text/html": [
              "<div>\n",
              "<style scoped>\n",
              "    .dataframe tbody tr th:only-of-type {\n",
              "        vertical-align: middle;\n",
              "    }\n",
              "\n",
              "    .dataframe tbody tr th {\n",
              "        vertical-align: top;\n",
              "    }\n",
              "\n",
              "    .dataframe thead th {\n",
              "        text-align: right;\n",
              "    }\n",
              "</style>\n",
              "<table border=\"1\" class=\"dataframe\">\n",
              "  <thead>\n",
              "    <tr style=\"text-align: right;\">\n",
              "      <th></th>\n",
              "      <th>MPG</th>\n",
              "      <th>Cylinders</th>\n",
              "      <th>Displacement</th>\n",
              "      <th>Horsepower</th>\n",
              "      <th>Weight</th>\n",
              "      <th>Acceleration</th>\n",
              "      <th>Model_Year</th>\n",
              "      <th>Origin</th>\n",
              "    </tr>\n",
              "  </thead>\n",
              "  <tbody>\n",
              "    <tr>\n",
              "      <th>0</th>\n",
              "      <td>18.0</td>\n",
              "      <td>8</td>\n",
              "      <td>307.0</td>\n",
              "      <td>130.0</td>\n",
              "      <td>3504.0</td>\n",
              "      <td>12.0</td>\n",
              "      <td>70</td>\n",
              "      <td>1</td>\n",
              "    </tr>\n",
              "    <tr>\n",
              "      <th>1</th>\n",
              "      <td>15.0</td>\n",
              "      <td>8</td>\n",
              "      <td>350.0</td>\n",
              "      <td>165.0</td>\n",
              "      <td>3693.0</td>\n",
              "      <td>11.5</td>\n",
              "      <td>70</td>\n",
              "      <td>1</td>\n",
              "    </tr>\n",
              "    <tr>\n",
              "      <th>2</th>\n",
              "      <td>18.0</td>\n",
              "      <td>8</td>\n",
              "      <td>318.0</td>\n",
              "      <td>150.0</td>\n",
              "      <td>3436.0</td>\n",
              "      <td>11.0</td>\n",
              "      <td>70</td>\n",
              "      <td>1</td>\n",
              "    </tr>\n",
              "    <tr>\n",
              "      <th>3</th>\n",
              "      <td>16.0</td>\n",
              "      <td>8</td>\n",
              "      <td>304.0</td>\n",
              "      <td>150.0</td>\n",
              "      <td>3433.0</td>\n",
              "      <td>12.0</td>\n",
              "      <td>70</td>\n",
              "      <td>1</td>\n",
              "    </tr>\n",
              "    <tr>\n",
              "      <th>4</th>\n",
              "      <td>17.0</td>\n",
              "      <td>8</td>\n",
              "      <td>302.0</td>\n",
              "      <td>140.0</td>\n",
              "      <td>3449.0</td>\n",
              "      <td>10.5</td>\n",
              "      <td>70</td>\n",
              "      <td>1</td>\n",
              "    </tr>\n",
              "  </tbody>\n",
              "</table>\n",
              "</div>"
            ],
            "text/plain": [
              "    MPG  Cylinders  Displacement  ...  Acceleration  Model_Year  Origin\n",
              "0  18.0          8         307.0  ...          12.0          70       1\n",
              "1  15.0          8         350.0  ...          11.5          70       1\n",
              "2  18.0          8         318.0  ...          11.0          70       1\n",
              "3  16.0          8         304.0  ...          12.0          70       1\n",
              "4  17.0          8         302.0  ...          10.5          70       1\n",
              "\n",
              "[5 rows x 8 columns]"
            ]
          },
          "metadata": {
            "tags": []
          },
          "execution_count": 22
        }
      ]
    },
    {
      "cell_type": "code",
      "metadata": {
        "id": "mUHD3Fe261Ie",
        "colab_type": "code",
        "colab": {
          "base_uri": "https://localhost:8080/",
          "height": 195
        },
        "outputId": "5fdada8f-faaa-4313-a8c3-d492b9e2cd3a"
      },
      "source": [
        "dummies.head()"
      ],
      "execution_count": 23,
      "outputs": [
        {
          "output_type": "execute_result",
          "data": {
            "text/html": [
              "<div>\n",
              "<style scoped>\n",
              "    .dataframe tbody tr th:only-of-type {\n",
              "        vertical-align: middle;\n",
              "    }\n",
              "\n",
              "    .dataframe tbody tr th {\n",
              "        vertical-align: top;\n",
              "    }\n",
              "\n",
              "    .dataframe thead th {\n",
              "        text-align: right;\n",
              "    }\n",
              "</style>\n",
              "<table border=\"1\" class=\"dataframe\">\n",
              "  <thead>\n",
              "    <tr style=\"text-align: right;\">\n",
              "      <th></th>\n",
              "      <th>America</th>\n",
              "      <th>Europe</th>\n",
              "      <th>Japan</th>\n",
              "    </tr>\n",
              "  </thead>\n",
              "  <tbody>\n",
              "    <tr>\n",
              "      <th>0</th>\n",
              "      <td>1</td>\n",
              "      <td>0</td>\n",
              "      <td>0</td>\n",
              "    </tr>\n",
              "    <tr>\n",
              "      <th>1</th>\n",
              "      <td>1</td>\n",
              "      <td>0</td>\n",
              "      <td>0</td>\n",
              "    </tr>\n",
              "    <tr>\n",
              "      <th>2</th>\n",
              "      <td>1</td>\n",
              "      <td>0</td>\n",
              "      <td>0</td>\n",
              "    </tr>\n",
              "    <tr>\n",
              "      <th>3</th>\n",
              "      <td>1</td>\n",
              "      <td>0</td>\n",
              "      <td>0</td>\n",
              "    </tr>\n",
              "    <tr>\n",
              "      <th>4</th>\n",
              "      <td>1</td>\n",
              "      <td>0</td>\n",
              "      <td>0</td>\n",
              "    </tr>\n",
              "  </tbody>\n",
              "</table>\n",
              "</div>"
            ],
            "text/plain": [
              "   America  Europe  Japan\n",
              "0        1       0      0\n",
              "1        1       0      0\n",
              "2        1       0      0\n",
              "3        1       0      0\n",
              "4        1       0      0"
            ]
          },
          "metadata": {
            "tags": []
          },
          "execution_count": 23
        }
      ]
    },
    {
      "cell_type": "markdown",
      "metadata": {
        "id": "rg3O1eDE7Ub0",
        "colab_type": "text"
      },
      "source": [
        "Then we join them using the concat function and setting axis to 1"
      ]
    },
    {
      "cell_type": "code",
      "metadata": {
        "id": "SAKkxMOd6HVi",
        "colab_type": "code",
        "colab": {}
      },
      "source": [
        "auto_df = pd.concat([auto_df, dummies], axis=1)"
      ],
      "execution_count": 24,
      "outputs": []
    },
    {
      "cell_type": "code",
      "metadata": {
        "id": "ymFiUPt836ad",
        "colab_type": "code",
        "colab": {
          "base_uri": "https://localhost:8080/",
          "height": 195
        },
        "outputId": "b90dc932-8be5-42e1-dcc5-6bbb7abe6bcc"
      },
      "source": [
        "auto_df.head()"
      ],
      "execution_count": 25,
      "outputs": [
        {
          "output_type": "execute_result",
          "data": {
            "text/html": [
              "<div>\n",
              "<style scoped>\n",
              "    .dataframe tbody tr th:only-of-type {\n",
              "        vertical-align: middle;\n",
              "    }\n",
              "\n",
              "    .dataframe tbody tr th {\n",
              "        vertical-align: top;\n",
              "    }\n",
              "\n",
              "    .dataframe thead th {\n",
              "        text-align: right;\n",
              "    }\n",
              "</style>\n",
              "<table border=\"1\" class=\"dataframe\">\n",
              "  <thead>\n",
              "    <tr style=\"text-align: right;\">\n",
              "      <th></th>\n",
              "      <th>MPG</th>\n",
              "      <th>Cylinders</th>\n",
              "      <th>Displacement</th>\n",
              "      <th>Horsepower</th>\n",
              "      <th>Weight</th>\n",
              "      <th>Acceleration</th>\n",
              "      <th>Model_Year</th>\n",
              "      <th>Origin</th>\n",
              "      <th>America</th>\n",
              "      <th>Europe</th>\n",
              "      <th>Japan</th>\n",
              "    </tr>\n",
              "  </thead>\n",
              "  <tbody>\n",
              "    <tr>\n",
              "      <th>0</th>\n",
              "      <td>18.0</td>\n",
              "      <td>8</td>\n",
              "      <td>307.0</td>\n",
              "      <td>130.0</td>\n",
              "      <td>3504.0</td>\n",
              "      <td>12.0</td>\n",
              "      <td>70</td>\n",
              "      <td>1</td>\n",
              "      <td>1</td>\n",
              "      <td>0</td>\n",
              "      <td>0</td>\n",
              "    </tr>\n",
              "    <tr>\n",
              "      <th>1</th>\n",
              "      <td>15.0</td>\n",
              "      <td>8</td>\n",
              "      <td>350.0</td>\n",
              "      <td>165.0</td>\n",
              "      <td>3693.0</td>\n",
              "      <td>11.5</td>\n",
              "      <td>70</td>\n",
              "      <td>1</td>\n",
              "      <td>1</td>\n",
              "      <td>0</td>\n",
              "      <td>0</td>\n",
              "    </tr>\n",
              "    <tr>\n",
              "      <th>2</th>\n",
              "      <td>18.0</td>\n",
              "      <td>8</td>\n",
              "      <td>318.0</td>\n",
              "      <td>150.0</td>\n",
              "      <td>3436.0</td>\n",
              "      <td>11.0</td>\n",
              "      <td>70</td>\n",
              "      <td>1</td>\n",
              "      <td>1</td>\n",
              "      <td>0</td>\n",
              "      <td>0</td>\n",
              "    </tr>\n",
              "    <tr>\n",
              "      <th>3</th>\n",
              "      <td>16.0</td>\n",
              "      <td>8</td>\n",
              "      <td>304.0</td>\n",
              "      <td>150.0</td>\n",
              "      <td>3433.0</td>\n",
              "      <td>12.0</td>\n",
              "      <td>70</td>\n",
              "      <td>1</td>\n",
              "      <td>1</td>\n",
              "      <td>0</td>\n",
              "      <td>0</td>\n",
              "    </tr>\n",
              "    <tr>\n",
              "      <th>4</th>\n",
              "      <td>17.0</td>\n",
              "      <td>8</td>\n",
              "      <td>302.0</td>\n",
              "      <td>140.0</td>\n",
              "      <td>3449.0</td>\n",
              "      <td>10.5</td>\n",
              "      <td>70</td>\n",
              "      <td>1</td>\n",
              "      <td>1</td>\n",
              "      <td>0</td>\n",
              "      <td>0</td>\n",
              "    </tr>\n",
              "  </tbody>\n",
              "</table>\n",
              "</div>"
            ],
            "text/plain": [
              "    MPG  Cylinders  Displacement  Horsepower  ...  Origin  America  Europe  Japan\n",
              "0  18.0          8         307.0       130.0  ...       1        1       0      0\n",
              "1  15.0          8         350.0       165.0  ...       1        1       0      0\n",
              "2  18.0          8         318.0       150.0  ...       1        1       0      0\n",
              "3  16.0          8         304.0       150.0  ...       1        1       0      0\n",
              "4  17.0          8         302.0       140.0  ...       1        1       0      0\n",
              "\n",
              "[5 rows x 11 columns]"
            ]
          },
          "metadata": {
            "tags": []
          },
          "execution_count": 25
        }
      ]
    },
    {
      "cell_type": "markdown",
      "metadata": {
        "id": "52uohc2C2Eb1",
        "colab_type": "text"
      },
      "source": [
        "Finally, let's drop origin column since we have the dummies appended already"
      ]
    },
    {
      "cell_type": "code",
      "metadata": {
        "id": "oklXIVw57l2C",
        "colab_type": "code",
        "colab": {}
      },
      "source": [
        "auto_df.drop('Origin', axis=1, inplace=True)"
      ],
      "execution_count": 26,
      "outputs": []
    },
    {
      "cell_type": "code",
      "metadata": {
        "id": "f8OZwiRM8Dk_",
        "colab_type": "code",
        "colab": {
          "base_uri": "https://localhost:8080/",
          "height": 195
        },
        "outputId": "133f4d2e-dd69-4da0-ce8a-411abcf14ebc"
      },
      "source": [
        "auto_df.tail()"
      ],
      "execution_count": 27,
      "outputs": [
        {
          "output_type": "execute_result",
          "data": {
            "text/html": [
              "<div>\n",
              "<style scoped>\n",
              "    .dataframe tbody tr th:only-of-type {\n",
              "        vertical-align: middle;\n",
              "    }\n",
              "\n",
              "    .dataframe tbody tr th {\n",
              "        vertical-align: top;\n",
              "    }\n",
              "\n",
              "    .dataframe thead th {\n",
              "        text-align: right;\n",
              "    }\n",
              "</style>\n",
              "<table border=\"1\" class=\"dataframe\">\n",
              "  <thead>\n",
              "    <tr style=\"text-align: right;\">\n",
              "      <th></th>\n",
              "      <th>MPG</th>\n",
              "      <th>Cylinders</th>\n",
              "      <th>Displacement</th>\n",
              "      <th>Horsepower</th>\n",
              "      <th>Weight</th>\n",
              "      <th>Acceleration</th>\n",
              "      <th>Model_Year</th>\n",
              "      <th>America</th>\n",
              "      <th>Europe</th>\n",
              "      <th>Japan</th>\n",
              "    </tr>\n",
              "  </thead>\n",
              "  <tbody>\n",
              "    <tr>\n",
              "      <th>387</th>\n",
              "      <td>27.0</td>\n",
              "      <td>4</td>\n",
              "      <td>140.0</td>\n",
              "      <td>86.0</td>\n",
              "      <td>2790.0</td>\n",
              "      <td>15.6</td>\n",
              "      <td>82</td>\n",
              "      <td>1</td>\n",
              "      <td>0</td>\n",
              "      <td>0</td>\n",
              "    </tr>\n",
              "    <tr>\n",
              "      <th>388</th>\n",
              "      <td>44.0</td>\n",
              "      <td>4</td>\n",
              "      <td>97.0</td>\n",
              "      <td>52.0</td>\n",
              "      <td>2130.0</td>\n",
              "      <td>24.6</td>\n",
              "      <td>82</td>\n",
              "      <td>0</td>\n",
              "      <td>1</td>\n",
              "      <td>0</td>\n",
              "    </tr>\n",
              "    <tr>\n",
              "      <th>389</th>\n",
              "      <td>32.0</td>\n",
              "      <td>4</td>\n",
              "      <td>135.0</td>\n",
              "      <td>84.0</td>\n",
              "      <td>2295.0</td>\n",
              "      <td>11.6</td>\n",
              "      <td>82</td>\n",
              "      <td>1</td>\n",
              "      <td>0</td>\n",
              "      <td>0</td>\n",
              "    </tr>\n",
              "    <tr>\n",
              "      <th>390</th>\n",
              "      <td>28.0</td>\n",
              "      <td>4</td>\n",
              "      <td>120.0</td>\n",
              "      <td>79.0</td>\n",
              "      <td>2625.0</td>\n",
              "      <td>18.6</td>\n",
              "      <td>82</td>\n",
              "      <td>1</td>\n",
              "      <td>0</td>\n",
              "      <td>0</td>\n",
              "    </tr>\n",
              "    <tr>\n",
              "      <th>391</th>\n",
              "      <td>31.0</td>\n",
              "      <td>4</td>\n",
              "      <td>119.0</td>\n",
              "      <td>82.0</td>\n",
              "      <td>2720.0</td>\n",
              "      <td>19.4</td>\n",
              "      <td>82</td>\n",
              "      <td>1</td>\n",
              "      <td>0</td>\n",
              "      <td>0</td>\n",
              "    </tr>\n",
              "  </tbody>\n",
              "</table>\n",
              "</div>"
            ],
            "text/plain": [
              "      MPG  Cylinders  Displacement  ...  America  Europe  Japan\n",
              "387  27.0          4         140.0  ...        1       0      0\n",
              "388  44.0          4          97.0  ...        0       1      0\n",
              "389  32.0          4         135.0  ...        1       0      0\n",
              "390  28.0          4         120.0  ...        1       0      0\n",
              "391  31.0          4         119.0  ...        1       0      0\n",
              "\n",
              "[5 rows x 10 columns]"
            ]
          },
          "metadata": {
            "tags": []
          },
          "execution_count": 27
        }
      ]
    },
    {
      "cell_type": "markdown",
      "metadata": {
        "id": "XBXfJotr-pnA",
        "colab_type": "text"
      },
      "source": [
        "## Splitting The Data into Train and Test Sets\n",
        "\n",
        "Next we split the data set into Train and Test data sets:- 80, 20 split"
      ]
    },
    {
      "cell_type": "code",
      "metadata": {
        "id": "W6VLjj_H-y6b",
        "colab_type": "code",
        "colab": {}
      },
      "source": [
        "train_data = auto_df.sample(frac=0.8, random_state=0)\n",
        "test_data = auto_df.drop(train_data.index)"
      ],
      "execution_count": 28,
      "outputs": []
    },
    {
      "cell_type": "code",
      "metadata": {
        "id": "hSdTKccbDN1C",
        "colab_type": "code",
        "colab": {
          "base_uri": "https://localhost:8080/",
          "height": 34
        },
        "outputId": "a1453014-df19-4cec-b434-8f207bbbe1f4"
      },
      "source": [
        "print('len train_data is {}, len test_data is {}'.format(train_data.shape[0], test_data.shape[0]))"
      ],
      "execution_count": 29,
      "outputs": [
        {
          "output_type": "stream",
          "text": [
            "len train_data is 314, len test_data is 78\n"
          ],
          "name": "stdout"
        }
      ]
    },
    {
      "cell_type": "markdown",
      "metadata": {
        "id": "fw1jQrMREdQT",
        "colab_type": "text"
      },
      "source": [
        "**Let's inspect the data**<br>\n",
        "have a quick look at the joint distribution of a few pairs of columns from the training data set"
      ]
    },
    {
      "cell_type": "code",
      "metadata": {
        "id": "I7danIb1DuEP",
        "colab_type": "code",
        "colab": {
          "base_uri": "https://localhost:8080/",
          "height": 781
        },
        "outputId": "d6f8500d-1e90-463e-fe45-2e48b830f591"
      },
      "source": [
        "plt.figure(figsize=(20, 16))\n",
        "sns.pairplot(train_data[['MPG','Cylinders','Displacement','Weight']], diag_kind='kde')"
      ],
      "execution_count": 30,
      "outputs": [
        {
          "output_type": "execute_result",
          "data": {
            "text/plain": [
              "<seaborn.axisgrid.PairGrid at 0x7f904e43a198>"
            ]
          },
          "metadata": {
            "tags": []
          },
          "execution_count": 30
        },
        {
          "output_type": "display_data",
          "data": {
            "text/plain": [
              "<Figure size 1440x1152 with 0 Axes>"
            ]
          },
          "metadata": {
            "tags": []
          }
        },
        {
          "output_type": "display_data",
          "data": {
            "image/png": "[encoded data removed]",
            "text/plain": [
              "<Figure size 720x720 with 20 Axes>"
            ]
          },
          "metadata": {
            "tags": [],
            "needs_background": "light"
          }
        }
      ]
    },
    {
      "cell_type": "code",
      "metadata": {
        "id": "4c3Hvur0Q1sE",
        "colab_type": "code",
        "colab": {
          "base_uri": "https://localhost:8080/",
          "height": 284
        },
        "outputId": "9065edbd-f28c-4d3f-e0fa-115bb500f4c7"
      },
      "source": [
        "train_data.describe()"
      ],
      "execution_count": 31,
      "outputs": [
        {
          "output_type": "execute_result",
          "data": {
            "text/html": [
              "<div>\n",
              "<style scoped>\n",
              "    .dataframe tbody tr th:only-of-type {\n",
              "        vertical-align: middle;\n",
              "    }\n",
              "\n",
              "    .dataframe tbody tr th {\n",
              "        vertical-align: top;\n",
              "    }\n",
              "\n",
              "    .dataframe thead th {\n",
              "        text-align: right;\n",
              "    }\n",
              "</style>\n",
              "<table border=\"1\" class=\"dataframe\">\n",
              "  <thead>\n",
              "    <tr style=\"text-align: right;\">\n",
              "      <th></th>\n",
              "      <th>MPG</th>\n",
              "      <th>Cylinders</th>\n",
              "      <th>Displacement</th>\n",
              "      <th>Horsepower</th>\n",
              "      <th>Weight</th>\n",
              "      <th>Acceleration</th>\n",
              "      <th>Model_Year</th>\n",
              "      <th>America</th>\n",
              "      <th>Europe</th>\n",
              "      <th>Japan</th>\n",
              "    </tr>\n",
              "  </thead>\n",
              "  <tbody>\n",
              "    <tr>\n",
              "      <th>count</th>\n",
              "      <td>314.000000</td>\n",
              "      <td>314.000000</td>\n",
              "      <td>314.000000</td>\n",
              "      <td>314.000000</td>\n",
              "      <td>314.000000</td>\n",
              "      <td>314.000000</td>\n",
              "      <td>314.000000</td>\n",
              "      <td>314.000000</td>\n",
              "      <td>314.000000</td>\n",
              "      <td>314.000000</td>\n",
              "    </tr>\n",
              "    <tr>\n",
              "      <th>mean</th>\n",
              "      <td>23.310510</td>\n",
              "      <td>5.477707</td>\n",
              "      <td>195.318471</td>\n",
              "      <td>104.869427</td>\n",
              "      <td>2990.251592</td>\n",
              "      <td>15.559236</td>\n",
              "      <td>75.898089</td>\n",
              "      <td>0.624204</td>\n",
              "      <td>0.178344</td>\n",
              "      <td>0.197452</td>\n",
              "    </tr>\n",
              "    <tr>\n",
              "      <th>std</th>\n",
              "      <td>7.728652</td>\n",
              "      <td>1.699788</td>\n",
              "      <td>104.331589</td>\n",
              "      <td>38.096214</td>\n",
              "      <td>843.898596</td>\n",
              "      <td>2.789230</td>\n",
              "      <td>3.675642</td>\n",
              "      <td>0.485101</td>\n",
              "      <td>0.383413</td>\n",
              "      <td>0.398712</td>\n",
              "    </tr>\n",
              "    <tr>\n",
              "      <th>min</th>\n",
              "      <td>10.000000</td>\n",
              "      <td>3.000000</td>\n",
              "      <td>68.000000</td>\n",
              "      <td>46.000000</td>\n",
              "      <td>1649.000000</td>\n",
              "      <td>8.000000</td>\n",
              "      <td>70.000000</td>\n",
              "      <td>0.000000</td>\n",
              "      <td>0.000000</td>\n",
              "      <td>0.000000</td>\n",
              "    </tr>\n",
              "    <tr>\n",
              "      <th>25%</th>\n",
              "      <td>17.000000</td>\n",
              "      <td>4.000000</td>\n",
              "      <td>105.500000</td>\n",
              "      <td>76.250000</td>\n",
              "      <td>2256.500000</td>\n",
              "      <td>13.800000</td>\n",
              "      <td>73.000000</td>\n",
              "      <td>0.000000</td>\n",
              "      <td>0.000000</td>\n",
              "      <td>0.000000</td>\n",
              "    </tr>\n",
              "    <tr>\n",
              "      <th>50%</th>\n",
              "      <td>22.000000</td>\n",
              "      <td>4.000000</td>\n",
              "      <td>151.000000</td>\n",
              "      <td>94.500000</td>\n",
              "      <td>2822.500000</td>\n",
              "      <td>15.500000</td>\n",
              "      <td>76.000000</td>\n",
              "      <td>1.000000</td>\n",
              "      <td>0.000000</td>\n",
              "      <td>0.000000</td>\n",
              "    </tr>\n",
              "    <tr>\n",
              "      <th>75%</th>\n",
              "      <td>28.950000</td>\n",
              "      <td>8.000000</td>\n",
              "      <td>265.750000</td>\n",
              "      <td>128.000000</td>\n",
              "      <td>3608.000000</td>\n",
              "      <td>17.200000</td>\n",
              "      <td>79.000000</td>\n",
              "      <td>1.000000</td>\n",
              "      <td>0.000000</td>\n",
              "      <td>0.000000</td>\n",
              "    </tr>\n",
              "    <tr>\n",
              "      <th>max</th>\n",
              "      <td>46.600000</td>\n",
              "      <td>8.000000</td>\n",
              "      <td>455.000000</td>\n",
              "      <td>225.000000</td>\n",
              "      <td>5140.000000</td>\n",
              "      <td>24.800000</td>\n",
              "      <td>82.000000</td>\n",
              "      <td>1.000000</td>\n",
              "      <td>1.000000</td>\n",
              "      <td>1.000000</td>\n",
              "    </tr>\n",
              "  </tbody>\n",
              "</table>\n",
              "</div>"
            ],
            "text/plain": [
              "              MPG   Cylinders  Displacement  ...     America      Europe       Japan\n",
              "count  314.000000  314.000000    314.000000  ...  314.000000  314.000000  314.000000\n",
              "mean    23.310510    5.477707    195.318471  ...    0.624204    0.178344    0.197452\n",
              "std      7.728652    1.699788    104.331589  ...    0.485101    0.383413    0.398712\n",
              "min     10.000000    3.000000     68.000000  ...    0.000000    0.000000    0.000000\n",
              "25%     17.000000    4.000000    105.500000  ...    0.000000    0.000000    0.000000\n",
              "50%     22.000000    4.000000    151.000000  ...    1.000000    0.000000    0.000000\n",
              "75%     28.950000    8.000000    265.750000  ...    1.000000    0.000000    0.000000\n",
              "max     46.600000    8.000000    455.000000  ...    1.000000    1.000000    1.000000\n",
              "\n",
              "[8 rows x 10 columns]"
            ]
          },
          "metadata": {
            "tags": []
          },
          "execution_count": 31
        }
      ]
    },
    {
      "cell_type": "markdown",
      "metadata": {
        "id": "NRx4WTxCScHc",
        "colab_type": "text"
      },
      "source": [
        "## Using the .pop() method to split the label from the features"
      ]
    },
    {
      "cell_type": "markdown",
      "metadata": {
        "id": "3bSnlnjVRFEC",
        "colab_type": "text"
      },
      "source": [
        "Next, let's split features from labels. We want the features of both train and test sets to be split from the labels(MPG)"
      ]
    },
    {
      "cell_type": "code",
      "metadata": {
        "id": "ixrtUO9zRQQ1",
        "colab_type": "code",
        "colab": {}
      },
      "source": [
        "train_label = train_data.pop('MPG')"
      ],
      "execution_count": 32,
      "outputs": []
    },
    {
      "cell_type": "code",
      "metadata": {
        "id": "J5vrCRiwSJnx",
        "colab_type": "code",
        "colab": {}
      },
      "source": [
        "test_label = test_data.pop('MPG')"
      ],
      "execution_count": 33,
      "outputs": []
    },
    {
      "cell_type": "code",
      "metadata": {
        "id": "3bu_0vTYRgym",
        "colab_type": "code",
        "colab": {
          "base_uri": "https://localhost:8080/",
          "height": 195
        },
        "outputId": "1c0c3e09-83f3-439c-c081-fbf1b3f8e2bb"
      },
      "source": [
        "test_data.head()"
      ],
      "execution_count": 34,
      "outputs": [
        {
          "output_type": "execute_result",
          "data": {
            "text/html": [
              "<div>\n",
              "<style scoped>\n",
              "    .dataframe tbody tr th:only-of-type {\n",
              "        vertical-align: middle;\n",
              "    }\n",
              "\n",
              "    .dataframe tbody tr th {\n",
              "        vertical-align: top;\n",
              "    }\n",
              "\n",
              "    .dataframe thead th {\n",
              "        text-align: right;\n",
              "    }\n",
              "</style>\n",
              "<table border=\"1\" class=\"dataframe\">\n",
              "  <thead>\n",
              "    <tr style=\"text-align: right;\">\n",
              "      <th></th>\n",
              "      <th>Cylinders</th>\n",
              "      <th>Displacement</th>\n",
              "      <th>Horsepower</th>\n",
              "      <th>Weight</th>\n",
              "      <th>Acceleration</th>\n",
              "      <th>Model_Year</th>\n",
              "      <th>America</th>\n",
              "      <th>Europe</th>\n",
              "      <th>Japan</th>\n",
              "    </tr>\n",
              "  </thead>\n",
              "  <tbody>\n",
              "    <tr>\n",
              "      <th>9</th>\n",
              "      <td>8</td>\n",
              "      <td>390.0</td>\n",
              "      <td>190.0</td>\n",
              "      <td>3850.0</td>\n",
              "      <td>8.5</td>\n",
              "      <td>70</td>\n",
              "      <td>1</td>\n",
              "      <td>0</td>\n",
              "      <td>0</td>\n",
              "    </tr>\n",
              "    <tr>\n",
              "      <th>25</th>\n",
              "      <td>8</td>\n",
              "      <td>360.0</td>\n",
              "      <td>215.0</td>\n",
              "      <td>4615.0</td>\n",
              "      <td>14.0</td>\n",
              "      <td>70</td>\n",
              "      <td>1</td>\n",
              "      <td>0</td>\n",
              "      <td>0</td>\n",
              "    </tr>\n",
              "    <tr>\n",
              "      <th>28</th>\n",
              "      <td>8</td>\n",
              "      <td>304.0</td>\n",
              "      <td>193.0</td>\n",
              "      <td>4732.0</td>\n",
              "      <td>18.5</td>\n",
              "      <td>70</td>\n",
              "      <td>1</td>\n",
              "      <td>0</td>\n",
              "      <td>0</td>\n",
              "    </tr>\n",
              "    <tr>\n",
              "      <th>31</th>\n",
              "      <td>4</td>\n",
              "      <td>113.0</td>\n",
              "      <td>95.0</td>\n",
              "      <td>2228.0</td>\n",
              "      <td>14.0</td>\n",
              "      <td>71</td>\n",
              "      <td>0</td>\n",
              "      <td>0</td>\n",
              "      <td>1</td>\n",
              "    </tr>\n",
              "    <tr>\n",
              "      <th>32</th>\n",
              "      <td>6</td>\n",
              "      <td>232.0</td>\n",
              "      <td>100.0</td>\n",
              "      <td>2634.0</td>\n",
              "      <td>13.0</td>\n",
              "      <td>71</td>\n",
              "      <td>1</td>\n",
              "      <td>0</td>\n",
              "      <td>0</td>\n",
              "    </tr>\n",
              "  </tbody>\n",
              "</table>\n",
              "</div>"
            ],
            "text/plain": [
              "    Cylinders  Displacement  Horsepower  ...  America  Europe  Japan\n",
              "9           8         390.0       190.0  ...        1       0      0\n",
              "25          8         360.0       215.0  ...        1       0      0\n",
              "28          8         304.0       193.0  ...        1       0      0\n",
              "31          4         113.0        95.0  ...        0       0      1\n",
              "32          6         232.0       100.0  ...        1       0      0\n",
              "\n",
              "[5 rows x 9 columns]"
            ]
          },
          "metadata": {
            "tags": []
          },
          "execution_count": 34
        }
      ]
    },
    {
      "cell_type": "markdown",
      "metadata": {
        "id": "IfgPYzBETRqB",
        "colab_type": "text"
      },
      "source": [
        "## Normalizing the data using the Z score method"
      ]
    },
    {
      "cell_type": "code",
      "metadata": {
        "id": "91H6qvNVTY5f",
        "colab_type": "code",
        "colab": {}
      },
      "source": [
        "train_data = (train_data - train_data.mean()) / train_data.std()\n",
        "test_data = (test_data - test_data.mean()) / test_data.std()"
      ],
      "execution_count": 35,
      "outputs": []
    },
    {
      "cell_type": "markdown",
      "metadata": {
        "id": "BQCXC-olV2cS",
        "colab_type": "text"
      },
      "source": [
        "## Building The model...\n",
        "\n",
        "Let's now define a simple method that builds our regression model, with two densely connected hidden layers and<br>\n",
        "An output layer that returns a single continous value.<br>\n",
        "The first layer takes the shape of the layer in addition to the neurons and activation function.<br>\n",
        "The second layer takes the same nn.relu activation function.<br>\n",
        "The final or output layer has no activation function, meaning it's a linear activation model.\n",
        "                                                            "
      ]
    },
    {
      "cell_type": "code",
      "metadata": {
        "id": "sC16J0G7WBJO",
        "colab_type": "code",
        "colab": {}
      },
      "source": [
        "def build_model():\n",
        "    model = keras.Sequential([\n",
        "        layers.Dense(256, activation=tf.nn.relu, input_shape=[len(train_data.keys())]),\n",
        "        layers.Dense(128, activation=tf.nn.relu),\n",
        "        layers.Dense(1)\n",
        "    ])\n",
        "    \n",
        "    model.compile(loss='mse',\n",
        "                 optimizer= tf.keras.optimizers.RMSprop(0.001),\n",
        "                 metrics=['mae','mse'])\n",
        "    \n",
        "    return model"
      ],
      "execution_count": 36,
      "outputs": []
    },
    {
      "cell_type": "code",
      "metadata": {
        "id": "IXqhUXnSWyFY",
        "colab_type": "code",
        "colab": {}
      },
      "source": [
        "model = build_model()"
      ],
      "execution_count": 37,
      "outputs": []
    },
    {
      "cell_type": "markdown",
      "metadata": {
        "id": "hHMtCeCea1sc",
        "colab_type": "text"
      },
      "source": [
        "### Let's take a look at The summary of our model"
      ]
    },
    {
      "cell_type": "code",
      "metadata": {
        "id": "65RbhUfja7Da",
        "colab_type": "code",
        "colab": {
          "base_uri": "https://localhost:8080/",
          "height": 252
        },
        "outputId": "814bb421-a5d8-4664-c64f-1b90bd705479"
      },
      "source": [
        "model.summary()"
      ],
      "execution_count": 38,
      "outputs": [
        {
          "output_type": "stream",
          "text": [
            "Model: \"sequential\"\n",
            "_________________________________________________________________\n",
            "Layer (type)                 Output Shape              Param #   \n",
            "=================================================================\n",
            "dense (Dense)                (None, 256)               2560      \n",
            "_________________________________________________________________\n",
            "dense_1 (Dense)              (None, 128)               32896     \n",
            "_________________________________________________________________\n",
            "dense_2 (Dense)              (None, 1)                 129       \n",
            "=================================================================\n",
            "Total params: 35,585\n",
            "Trainable params: 35,585\n",
            "Non-trainable params: 0\n",
            "_________________________________________________________________\n"
          ],
          "name": "stdout"
        }
      ]
    },
    {
      "cell_type": "markdown",
      "metadata": {
        "id": "FmfYbYS4b1zv",
        "colab_type": "text"
      },
      "source": [
        "### Now let's try our model, even though its not been trained lets just check it with some data"
      ]
    },
    {
      "cell_type": "code",
      "metadata": {
        "id": "Mrd8bzOqcAkX",
        "colab_type": "code",
        "colab": {
          "base_uri": "https://localhost:8080/",
          "height": 185
        },
        "outputId": "6134cd4c-d49c-416e-e798-60e4a932db72"
      },
      "source": [
        "ten_examples = train_data[:10]\n",
        "examples_result = model.predict(ten_examples)\n",
        "examples_result\n",
        "\n",
        "# prints the 10 predicted results, seems like our model is working fine."
      ],
      "execution_count": 39,
      "outputs": [
        {
          "output_type": "execute_result",
          "data": {
            "text/plain": [
              "array([[0.03049166],\n",
              "       [0.09938917],\n",
              "       [0.09288025],\n",
              "       [0.16708557],\n",
              "       [0.2469222 ],\n",
              "       [0.0707471 ],\n",
              "       [0.22561382],\n",
              "       [0.6143846 ],\n",
              "       [0.0453519 ],\n",
              "       [0.05730823]], dtype=float32)"
            ]
          },
          "metadata": {
            "tags": []
          },
          "execution_count": 39
        }
      ]
    },
    {
      "cell_type": "markdown",
      "metadata": {
        "id": "q324i90GmtNT",
        "colab_type": "text"
      },
      "source": [
        "## Training The Model\n",
        "\n",
        "Train the model for 1000 epochs and record the traning and validation accuracy in the history object"
      ]
    },
    {
      "cell_type": "code",
      "metadata": {
        "id": "tljNT4oMofD0",
        "colab_type": "code",
        "colab": {}
      },
      "source": [
        "# Display training progress by printing a single dot for each completed epoch.\n",
        "\n",
        "class printDot(keras.callbacks.Callback):\n",
        "    def on_epoch_end(self, epoch, logs):\n",
        "        if epoch % 100 == 0: \n",
        "            print('')\n",
        "        print('.', end='')"
      ],
      "execution_count": 40,
      "outputs": []
    },
    {
      "cell_type": "code",
      "metadata": {
        "id": "mCjhGHMMl9MG",
        "colab_type": "code",
        "colab": {
          "base_uri": "https://localhost:8080/",
          "height": 202
        },
        "outputId": "b0be8d11-da5b-49f2-bd7b-39226e4d8807"
      },
      "source": [
        "history = model.fit(train_data, train_label, epochs=1000, validation_split=0.2, verbose=False, callbacks=[printDot()])\n",
        "print('finished_training')"
      ],
      "execution_count": 41,
      "outputs": [
        {
          "output_type": "stream",
          "text": [
            "\n",
            "....................................................................................................\n",
            "....................................................................................................\n",
            "....................................................................................................\n",
            "....................................................................................................\n",
            "....................................................................................................\n",
            "....................................................................................................\n",
            "....................................................................................................\n",
            "....................................................................................................\n",
            "....................................................................................................\n",
            "....................................................................................................finished_training\n"
          ],
          "name": "stdout"
        }
      ]
    },
    {
      "cell_type": "markdown",
      "metadata": {
        "id": "FAXs-0Etyjeb",
        "colab_type": "text"
      },
      "source": [
        "### Let's visualize the over all loss"
      ]
    },
    {
      "cell_type": "code",
      "metadata": {
        "id": "7tnex8dIqdCf",
        "colab_type": "code",
        "colab": {
          "base_uri": "https://localhost:8080/",
          "height": 296
        },
        "outputId": "89227bae-80c9-4fde-988c-5f3c5e161b9d"
      },
      "source": [
        "plt.plot(history.history['loss'])\n",
        "plt.xlabel('Epochs Number')\n",
        "plt.ylabel('Loss Magnitude')"
      ],
      "execution_count": 42,
      "outputs": [
        {
          "output_type": "execute_result",
          "data": {
            "text/plain": [
              "Text(0, 0.5, 'Loss Magnitude')"
            ]
          },
          "metadata": {
            "tags": []
          },
          "execution_count": 42
        },
        {
          "output_type": "display_data",
          "data": {
            "image/png": "[encoded data removed]",
            "text/plain": [
              "<Figure size 432x288 with 1 Axes>"
            ]
          },
          "metadata": {
            "tags": [],
            "needs_background": "light"
          }
        }
      ]
    },
    {
      "cell_type": "markdown",
      "metadata": {
        "id": "I9ir2aouyqOR",
        "colab_type": "text"
      },
      "source": [
        "### Let's cast to a data frame the general loss as well as the validation loss"
      ]
    },
    {
      "cell_type": "code",
      "metadata": {
        "id": "tMMNB0H8rQbY",
        "colab_type": "code",
        "colab": {
          "base_uri": "https://localhost:8080/",
          "height": 343
        },
        "outputId": "299f938a-05f1-4584-fb93-4cacde09488d"
      },
      "source": [
        "hist_obj = pd.DataFrame(history.history)\n",
        "hist_obj['Epoch'] = history.epoch\n",
        "hist_obj.tail(10)"
      ],
      "execution_count": 43,
      "outputs": [
        {
          "output_type": "execute_result",
          "data": {
            "text/html": [
              "<div>\n",
              "<style scoped>\n",
              "    .dataframe tbody tr th:only-of-type {\n",
              "        vertical-align: middle;\n",
              "    }\n",
              "\n",
              "    .dataframe tbody tr th {\n",
              "        vertical-align: top;\n",
              "    }\n",
              "\n",
              "    .dataframe thead th {\n",
              "        text-align: right;\n",
              "    }\n",
              "</style>\n",
              "<table border=\"1\" class=\"dataframe\">\n",
              "  <thead>\n",
              "    <tr style=\"text-align: right;\">\n",
              "      <th></th>\n",
              "      <th>loss</th>\n",
              "      <th>mae</th>\n",
              "      <th>mse</th>\n",
              "      <th>val_loss</th>\n",
              "      <th>val_mae</th>\n",
              "      <th>val_mse</th>\n",
              "      <th>Epoch</th>\n",
              "    </tr>\n",
              "  </thead>\n",
              "  <tbody>\n",
              "    <tr>\n",
              "      <th>990</th>\n",
              "      <td>1.232768</td>\n",
              "      <td>0.714226</td>\n",
              "      <td>1.232768</td>\n",
              "      <td>9.470097</td>\n",
              "      <td>2.249651</td>\n",
              "      <td>9.470097</td>\n",
              "      <td>990</td>\n",
              "    </tr>\n",
              "    <tr>\n",
              "      <th>991</th>\n",
              "      <td>1.769162</td>\n",
              "      <td>0.913270</td>\n",
              "      <td>1.769162</td>\n",
              "      <td>9.389517</td>\n",
              "      <td>2.255295</td>\n",
              "      <td>9.389517</td>\n",
              "      <td>991</td>\n",
              "    </tr>\n",
              "    <tr>\n",
              "      <th>992</th>\n",
              "      <td>1.397791</td>\n",
              "      <td>0.800276</td>\n",
              "      <td>1.397791</td>\n",
              "      <td>9.788873</td>\n",
              "      <td>2.311973</td>\n",
              "      <td>9.788873</td>\n",
              "      <td>992</td>\n",
              "    </tr>\n",
              "    <tr>\n",
              "      <th>993</th>\n",
              "      <td>1.511176</td>\n",
              "      <td>0.787287</td>\n",
              "      <td>1.511176</td>\n",
              "      <td>10.872712</td>\n",
              "      <td>2.368836</td>\n",
              "      <td>10.872712</td>\n",
              "      <td>993</td>\n",
              "    </tr>\n",
              "    <tr>\n",
              "      <th>994</th>\n",
              "      <td>1.789821</td>\n",
              "      <td>0.835207</td>\n",
              "      <td>1.789821</td>\n",
              "      <td>10.006146</td>\n",
              "      <td>2.342931</td>\n",
              "      <td>10.006146</td>\n",
              "      <td>994</td>\n",
              "    </tr>\n",
              "    <tr>\n",
              "      <th>995</th>\n",
              "      <td>1.273096</td>\n",
              "      <td>0.668196</td>\n",
              "      <td>1.273096</td>\n",
              "      <td>10.246965</td>\n",
              "      <td>2.426275</td>\n",
              "      <td>10.246965</td>\n",
              "      <td>995</td>\n",
              "    </tr>\n",
              "    <tr>\n",
              "      <th>996</th>\n",
              "      <td>1.955412</td>\n",
              "      <td>0.895828</td>\n",
              "      <td>1.955412</td>\n",
              "      <td>9.929276</td>\n",
              "      <td>2.420367</td>\n",
              "      <td>9.929276</td>\n",
              "      <td>996</td>\n",
              "    </tr>\n",
              "    <tr>\n",
              "      <th>997</th>\n",
              "      <td>1.228186</td>\n",
              "      <td>0.662753</td>\n",
              "      <td>1.228186</td>\n",
              "      <td>10.027120</td>\n",
              "      <td>2.319839</td>\n",
              "      <td>10.027120</td>\n",
              "      <td>997</td>\n",
              "    </tr>\n",
              "    <tr>\n",
              "      <th>998</th>\n",
              "      <td>1.720902</td>\n",
              "      <td>0.934010</td>\n",
              "      <td>1.720902</td>\n",
              "      <td>9.607669</td>\n",
              "      <td>2.274261</td>\n",
              "      <td>9.607669</td>\n",
              "      <td>998</td>\n",
              "    </tr>\n",
              "    <tr>\n",
              "      <th>999</th>\n",
              "      <td>1.196955</td>\n",
              "      <td>0.645254</td>\n",
              "      <td>1.196955</td>\n",
              "      <td>9.783175</td>\n",
              "      <td>2.292933</td>\n",
              "      <td>9.783175</td>\n",
              "      <td>999</td>\n",
              "    </tr>\n",
              "  </tbody>\n",
              "</table>\n",
              "</div>"
            ],
            "text/plain": [
              "         loss       mae       mse   val_loss   val_mae    val_mse  Epoch\n",
              "990  1.232768  0.714226  1.232768   9.470097  2.249651   9.470097    990\n",
              "991  1.769162  0.913270  1.769162   9.389517  2.255295   9.389517    991\n",
              "992  1.397791  0.800276  1.397791   9.788873  2.311973   9.788873    992\n",
              "993  1.511176  0.787287  1.511176  10.872712  2.368836  10.872712    993\n",
              "994  1.789821  0.835207  1.789821  10.006146  2.342931  10.006146    994\n",
              "995  1.273096  0.668196  1.273096  10.246965  2.426275  10.246965    995\n",
              "996  1.955412  0.895828  1.955412   9.929276  2.420367   9.929276    996\n",
              "997  1.228186  0.662753  1.228186  10.027120  2.319839  10.027120    997\n",
              "998  1.720902  0.934010  1.720902   9.607669  2.274261   9.607669    998\n",
              "999  1.196955  0.645254  1.196955   9.783175  2.292933   9.783175    999"
            ]
          },
          "metadata": {
            "tags": []
          },
          "execution_count": 43
        }
      ]
    },
    {
      "cell_type": "markdown",
      "metadata": {
        "id": "PnsS-_fdy4bo",
        "colab_type": "text"
      },
      "source": [
        "### seems like the validation loss for the MAE and MSE is rising, let's visualize further"
      ]
    },
    {
      "cell_type": "code",
      "metadata": {
        "id": "7bl4gLK5s4vY",
        "colab_type": "code",
        "colab": {
          "base_uri": "https://localhost:8080/",
          "height": 549
        },
        "outputId": "498ce29a-540a-4215-bc8a-9e377073d6f5"
      },
      "source": [
        "def plot_history(history):\n",
        "    hist = pd.DataFrame(history.history)\n",
        "    hist['epoch'] = history.epoch\n",
        "    \n",
        "    plt.figure()\n",
        "    plt.xlabel('Epoch')\n",
        "    plt.ylabel('Mean Abs Error [MPG]')\n",
        "    plt.plot(hist['epoch'], hist['mae'], label='Train_Error')\n",
        "    plt.plot(hist['epoch'], hist['val_mae'], label='Val_Error')\n",
        "    plt.legend()\n",
        "    plt.ylim([0, 5])\n",
        "    \n",
        "    plt.figure()\n",
        "    plt.xlabel('Epoch')\n",
        "    plt.ylabel('Mean_Squred_Error [$MPG^2$]')\n",
        "    plt.plot(hist['epoch'], hist['mse'], label='Train_Error')\n",
        "    plt.plot(hist['epoch'], hist['val_mse'], label='Val_Error')\n",
        "    plt.legend()\n",
        "    plt.ylim([0, 20])\n",
        "    \n",
        "plot_history(history)"
      ],
      "execution_count": 46,
      "outputs": [
        {
          "output_type": "display_data",
          "data": {
            "image/png": "[encoded data removed]",
            "text/plain": [
              "<Figure size 432x288 with 1 Axes>"
            ]
          },
          "metadata": {
            "tags": [],
            "needs_background": "light"
          }
        },
        {
          "output_type": "display_data",
          "data": {
            "image/png": "[encoded data removed]",
            "text/plain": [
              "<Figure size 432x288 with 1 Axes>"
            ]
          },
          "metadata": {
            "tags": [],
            "needs_background": "light"
          }
        }
      ]
    },
    {
      "cell_type": "markdown",
      "metadata": {
        "id": "clR8t_AGzINv",
        "colab_type": "text"
      },
      "source": [
        "### Clearly the validation loss for both MAE and MSE seem like its rising, and is a classic result of over-fitting.\n",
        "### Let's use the early-stopping function to fix this.\n",
        "\n",
        "\n",
        "The  EarlyStopping function would stop the training if a set number of epochs occur and the model is not improving. This set number is called the patience parameter. We will set the condition of the EarlyStopping to monitor the validation loss of the model and stop training if loss does not improve in 10 epochs."
      ]
    },
    {
      "cell_type": "code",
      "metadata": {
        "id": "FiBUWGymzf8x",
        "colab_type": "code",
        "colab": {}
      },
      "source": [
        "# The patience parameter is the amount of epochs to check for improvement\n",
        "\n",
        "early_stop = keras.callbacks.EarlyStopping(monitor='val_loss', patience=10)"
      ],
      "execution_count": 47,
      "outputs": []
    },
    {
      "cell_type": "code",
      "metadata": {
        "id": "i_29ojQV2OVI",
        "colab_type": "code",
        "colab": {
          "base_uri": "https://localhost:8080/",
          "height": 50
        },
        "outputId": "91c42c18-5684-4c11-a1ed-6a96b0c70e73"
      },
      "source": [
        "model2 = build_model()\n",
        "\n",
        "history = model2.fit(train_data, train_label, epochs=1000, validation_split=0.2, verbose=False, callbacks=[early_stop, printDot()])\n",
        "print('finished_training')"
      ],
      "execution_count": 48,
      "outputs": [
        {
          "output_type": "stream",
          "text": [
            "\n",
            "...............................................finished_training\n"
          ],
          "name": "stdout"
        }
      ]
    },
    {
      "cell_type": "code",
      "metadata": {
        "id": "BbyM05A73-FA",
        "colab_type": "code",
        "colab": {
          "base_uri": "https://localhost:8080/",
          "height": 549
        },
        "outputId": "d96d463a-327d-464a-e699-6adb25d42490"
      },
      "source": [
        "plot_history(history)"
      ],
      "execution_count": 49,
      "outputs": [
        {
          "output_type": "display_data",
          "data": {
            "image/png": "[encoded data removed]",
            "text/plain": [
              "<Figure size 432x288 with 1 Axes>"
            ]
          },
          "metadata": {
            "tags": [],
            "needs_background": "light"
          }
        },
        {
          "output_type": "display_data",
          "data": {
            "image/png": "[encoded data removed]",
            "text/plain": [
              "<Figure size 432x288 with 1 Axes>"
            ]
          },
          "metadata": {
            "tags": [],
            "needs_background": "light"
          }
        }
      ]
    },
    {
      "cell_type": "code",
      "metadata": {
        "id": "FGRf-AL34eKQ",
        "colab_type": "code",
        "colab": {
          "base_uri": "https://localhost:8080/",
          "height": 343
        },
        "outputId": "2b7b05aa-d641-4bb1-bbfe-22bc34f0dc40"
      },
      "source": [
        "hist_obj = pd.DataFrame(history.history)\n",
        "hist_obj['Epoch'] = history.epoch\n",
        "hist_obj.tail(10)"
      ],
      "execution_count": 50,
      "outputs": [
        {
          "output_type": "execute_result",
          "data": {
            "text/html": [
              "<div>\n",
              "<style scoped>\n",
              "    .dataframe tbody tr th:only-of-type {\n",
              "        vertical-align: middle;\n",
              "    }\n",
              "\n",
              "    .dataframe tbody tr th {\n",
              "        vertical-align: top;\n",
              "    }\n",
              "\n",
              "    .dataframe thead th {\n",
              "        text-align: right;\n",
              "    }\n",
              "</style>\n",
              "<table border=\"1\" class=\"dataframe\">\n",
              "  <thead>\n",
              "    <tr style=\"text-align: right;\">\n",
              "      <th></th>\n",
              "      <th>loss</th>\n",
              "      <th>mae</th>\n",
              "      <th>mse</th>\n",
              "      <th>val_loss</th>\n",
              "      <th>val_mae</th>\n",
              "      <th>val_mse</th>\n",
              "      <th>Epoch</th>\n",
              "    </tr>\n",
              "  </thead>\n",
              "  <tbody>\n",
              "    <tr>\n",
              "      <th>37</th>\n",
              "      <td>6.242121</td>\n",
              "      <td>1.766848</td>\n",
              "      <td>6.242121</td>\n",
              "      <td>8.590442</td>\n",
              "      <td>2.220814</td>\n",
              "      <td>8.590442</td>\n",
              "      <td>37</td>\n",
              "    </tr>\n",
              "    <tr>\n",
              "      <th>38</th>\n",
              "      <td>6.940213</td>\n",
              "      <td>1.853230</td>\n",
              "      <td>6.940213</td>\n",
              "      <td>8.875804</td>\n",
              "      <td>2.171864</td>\n",
              "      <td>8.875804</td>\n",
              "      <td>38</td>\n",
              "    </tr>\n",
              "    <tr>\n",
              "      <th>39</th>\n",
              "      <td>6.617660</td>\n",
              "      <td>1.841702</td>\n",
              "      <td>6.617660</td>\n",
              "      <td>8.926886</td>\n",
              "      <td>2.177413</td>\n",
              "      <td>8.926886</td>\n",
              "      <td>39</td>\n",
              "    </tr>\n",
              "    <tr>\n",
              "      <th>40</th>\n",
              "      <td>6.454346</td>\n",
              "      <td>1.815564</td>\n",
              "      <td>6.454346</td>\n",
              "      <td>8.275486</td>\n",
              "      <td>2.229662</td>\n",
              "      <td>8.275486</td>\n",
              "      <td>40</td>\n",
              "    </tr>\n",
              "    <tr>\n",
              "      <th>41</th>\n",
              "      <td>6.452721</td>\n",
              "      <td>1.794605</td>\n",
              "      <td>6.452721</td>\n",
              "      <td>9.270513</td>\n",
              "      <td>2.193632</td>\n",
              "      <td>9.270513</td>\n",
              "      <td>41</td>\n",
              "    </tr>\n",
              "    <tr>\n",
              "      <th>42</th>\n",
              "      <td>6.444991</td>\n",
              "      <td>1.780471</td>\n",
              "      <td>6.444991</td>\n",
              "      <td>8.373162</td>\n",
              "      <td>2.146967</td>\n",
              "      <td>8.373162</td>\n",
              "      <td>42</td>\n",
              "    </tr>\n",
              "    <tr>\n",
              "      <th>43</th>\n",
              "      <td>6.741483</td>\n",
              "      <td>1.832460</td>\n",
              "      <td>6.741483</td>\n",
              "      <td>8.769280</td>\n",
              "      <td>2.136721</td>\n",
              "      <td>8.769280</td>\n",
              "      <td>43</td>\n",
              "    </tr>\n",
              "    <tr>\n",
              "      <th>44</th>\n",
              "      <td>6.591789</td>\n",
              "      <td>1.832282</td>\n",
              "      <td>6.591789</td>\n",
              "      <td>8.469252</td>\n",
              "      <td>2.267005</td>\n",
              "      <td>8.469252</td>\n",
              "      <td>44</td>\n",
              "    </tr>\n",
              "    <tr>\n",
              "      <th>45</th>\n",
              "      <td>6.346996</td>\n",
              "      <td>1.793950</td>\n",
              "      <td>6.346996</td>\n",
              "      <td>9.079325</td>\n",
              "      <td>2.219802</td>\n",
              "      <td>9.079325</td>\n",
              "      <td>45</td>\n",
              "    </tr>\n",
              "    <tr>\n",
              "      <th>46</th>\n",
              "      <td>6.523790</td>\n",
              "      <td>1.854755</td>\n",
              "      <td>6.523790</td>\n",
              "      <td>8.564482</td>\n",
              "      <td>2.197492</td>\n",
              "      <td>8.564482</td>\n",
              "      <td>46</td>\n",
              "    </tr>\n",
              "  </tbody>\n",
              "</table>\n",
              "</div>"
            ],
            "text/plain": [
              "        loss       mae       mse  val_loss   val_mae   val_mse  Epoch\n",
              "37  6.242121  1.766848  6.242121  8.590442  2.220814  8.590442     37\n",
              "38  6.940213  1.853230  6.940213  8.875804  2.171864  8.875804     38\n",
              "39  6.617660  1.841702  6.617660  8.926886  2.177413  8.926886     39\n",
              "40  6.454346  1.815564  6.454346  8.275486  2.229662  8.275486     40\n",
              "41  6.452721  1.794605  6.452721  9.270513  2.193632  9.270513     41\n",
              "42  6.444991  1.780471  6.444991  8.373162  2.146967  8.373162     42\n",
              "43  6.741483  1.832460  6.741483  8.769280  2.136721  8.769280     43\n",
              "44  6.591789  1.832282  6.591789  8.469252  2.267005  8.469252     44\n",
              "45  6.346996  1.793950  6.346996  9.079325  2.219802  9.079325     45\n",
              "46  6.523790  1.854755  6.523790  8.564482  2.197492  8.564482     46"
            ]
          },
          "metadata": {
            "tags": []
          },
          "execution_count": 50
        }
      ]
    },
    {
      "cell_type": "markdown",
      "metadata": {
        "id": "pTbedTPR5wUW",
        "colab_type": "text"
      },
      "source": [
        "Let's see how our model is doing on generally, after the early stopping we did above"
      ]
    },
    {
      "cell_type": "code",
      "metadata": {
        "id": "s8wO3Sh_55xe",
        "colab_type": "code",
        "colab": {
          "base_uri": "https://localhost:8080/",
          "height": 34
        },
        "outputId": "9841a09f-46de-4fe7-8099-dc9236cfe36f"
      },
      "source": [
        "loss, mae, mse = model2.evaluate(test_data, test_label, verbose=0)\n",
        "\n",
        "print('Testing set MAE is: %.2f' % mae, 'and MSE is: %.2f' % mse)"
      ],
      "execution_count": 51,
      "outputs": [
        {
          "output_type": "stream",
          "text": [
            "Testing set MAE is: 1.94 and MSE is: 6.28\n"
          ],
          "name": "stdout"
        }
      ]
    },
    {
      "cell_type": "markdown",
      "metadata": {
        "id": "6oYawBYB__t5",
        "colab_type": "text"
      },
      "source": [
        "with an MSE of 5.90, our model is doing really well generally."
      ]
    },
    {
      "cell_type": "markdown",
      "metadata": {
        "id": "Wy4ItTw1AJNt",
        "colab_type": "text"
      },
      "source": [
        "### checking the RMSE\n",
        "\n",
        "Remember the RMSE is the square root of the MSE and can be compared to the range of the target label "
      ]
    },
    {
      "cell_type": "code",
      "metadata": {
        "id": "d6zD9ZVf-v1O",
        "colab_type": "code",
        "colab": {
          "base_uri": "https://localhost:8080/",
          "height": 34
        },
        "outputId": "f9cc9ba2-ec3b-4712-b572-4b9fda83f23b"
      },
      "source": [
        "RMSE = mse**0.5\n",
        "RMSE"
      ],
      "execution_count": 52,
      "outputs": [
        {
          "output_type": "execute_result",
          "data": {
            "text/plain": [
              "2.506096844262461"
            ]
          },
          "metadata": {
            "tags": []
          },
          "execution_count": 52
        }
      ]
    },
    {
      "cell_type": "code",
      "metadata": {
        "id": "K1QZ11rF-5_h",
        "colab_type": "code",
        "colab": {
          "base_uri": "https://localhost:8080/",
          "height": 34
        },
        "outputId": "2b58551b-207b-4445-c969-325412c2f736"
      },
      "source": [
        "test_range = test_label.max() - test_label.min()\n",
        "test_range"
      ],
      "execution_count": 53,
      "outputs": [
        {
          "output_type": "execute_result",
          "data": {
            "text/plain": [
              "35.3"
            ]
          },
          "metadata": {
            "tags": []
          },
          "execution_count": 53
        }
      ]
    },
    {
      "cell_type": "markdown",
      "metadata": {
        "id": "8nlYlXmOAj0g",
        "colab_type": "text"
      },
      "source": [
        "** Let's compare our RMSE as a percentage of the range of the target variable to see how our model performs**"
      ]
    },
    {
      "cell_type": "code",
      "metadata": {
        "id": "CwJ3ObJo_Leg",
        "colab_type": "code",
        "colab": {
          "base_uri": "https://localhost:8080/",
          "height": 34
        },
        "outputId": "959720f6-f408-4eb1-8d90-65389b1233d8"
      },
      "source": [
        "RMSE_Range = (RMSE / test_range) * 100\n",
        "RMSE_Range"
      ],
      "execution_count": 54,
      "outputs": [
        {
          "output_type": "execute_result",
          "data": {
            "text/plain": [
              "7.099424487995641"
            ]
          },
          "metadata": {
            "tags": []
          },
          "execution_count": 54
        }
      ]
    },
    {
      "cell_type": "markdown",
      "metadata": {
        "id": "w9slhfDBAxRt",
        "colab_type": "text"
      },
      "source": [
        "This means our model error is just within 7% accuracy of the range of the target label... not bad at all."
      ]
    },
    {
      "cell_type": "markdown",
      "metadata": {
        "id": "UnNnl_C7CB9A",
        "colab_type": "text"
      },
      "source": [
        "## Let's make some predictions"
      ]
    },
    {
      "cell_type": "code",
      "metadata": {
        "id": "vfv3EvTNA_Lx",
        "colab_type": "code",
        "colab": {}
      },
      "source": [
        "test_predict = model2.predict(test_data).flatten()  # falttened so we can plot it easily"
      ],
      "execution_count": 55,
      "outputs": []
    },
    {
      "cell_type": "code",
      "metadata": {
        "id": "pbHbEVfKFd0q",
        "colab_type": "code",
        "colab": {
          "base_uri": "https://localhost:8080/",
          "height": 430
        },
        "outputId": "5c2f3248-3cee-430c-83ff-65e522f975a4"
      },
      "source": [
        "plt.figure(figsize=(18, 6))\n",
        "sns.set(font_scale=1.3)\n",
        "plt.suptitle('Regplot and Distplot of Model2 performance on Test Data', y=0.95)\n",
        "\n",
        "plt.subplot(121)\n",
        "sns.regplot(test_label, test_predict)\n",
        "plt.ylabel('Predictions MPG')\n",
        "\n",
        "plt.subplot(122)\n",
        "sns.distplot(test_label, color='r', label='Target', hist=False)\n",
        "sns.distplot(test_predict, color='b', label='Predictions', hist=False)\n",
        "plt.show()"
      ],
      "execution_count": 56,
      "outputs": [
        {
          "output_type": "display_data",
          "data": {
            "image/png": "[encoded data removed]",
            "text/plain": [
              "<Figure size 1296x432 with 2 Axes>"
            ]
          },
          "metadata": {
            "tags": [],
            "needs_background": "light"
          }
        }
      ]
    },
    {
      "cell_type": "markdown",
      "metadata": {
        "id": "RYNf2-y0Hf18",
        "colab_type": "text"
      },
      "source": [
        "By and large, it looks like our model is doing really well... Let's take a look at The error distribution."
      ]
    },
    {
      "cell_type": "code",
      "metadata": {
        "id": "vjuFui1yHrmU",
        "colab_type": "code",
        "colab": {}
      },
      "source": [
        ""
      ],
      "execution_count": 56,
      "outputs": []
    }
  ]
}